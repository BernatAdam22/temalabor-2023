{
 "cells": [
  {
   "cell_type": "code",
   "execution_count": 1,
   "id": "d373a0ec",
   "metadata": {},
   "outputs": [
    {
     "data": {
      "text/html": [
       "<style>.container { width:100% !important; }</style>"
      ],
      "text/plain": [
       "<IPython.core.display.HTML object>"
      ]
     },
     "metadata": {},
     "output_type": "display_data"
    }
   ],
   "source": [
    "import pandas as pd\n",
    "import networkx as nx\n",
    "import numpy as np\n",
    "import matplotlib.pyplot as plt\n",
    "import csv\n",
    "import datetime\n",
    "\n",
    "from IPython.display import display, HTML\n",
    "display(HTML(\"<style>.container { width:100% !important; }</style>\")) #ez hogy a rákban nem a defaultja a jupyternek?"
   ]
  },
  {
   "cell_type": "code",
   "execution_count": 2,
   "id": "f0fa06d6",
   "metadata": {},
   "outputs": [],
   "source": [
    "DATA_LOCATION = \"db/ep_cosponsorship_dataset.csv\"\n",
    "# we put `keep_default_na` here so that nan-s get parsed in the way we want\n",
    "ENTIRE_DATASET = pd.read_csv(DATA_LOCATION, header = 0, keep_default_na = False)\n",
    "\n",
    "COUNTRY_POPULATION = {\n",
    "    \"Austria\" : 9106126,\n",
    "    \"Belgium\" : 11584008,\n",
    "    \"Bulgaria\" : 6519789,\n",
    "    \"Croatia\" : 3871833,\n",
    "    \"Cyprus\" : 918100,\n",
    "    \"Czechia\" : 10524167,\n",
    "    \"Denmark\" : 5932654,\n",
    "    \"Estonia\" : 1331824,\n",
    "    \"Finland\" : 5563970,\n",
    "    \"France\" : 65269154,\n",
    "    \"Germany\" : 83237124,\n",
    "    \"United Kingdom\" : 66980000,\n",
    "    \"Greece\" : 10432481,\n",
    "    \"Hungary\" : 9772756,\n",
    "    \"Ireland\" : 5149139,\n",
    "    \"Italy\" : 58850717,\n",
    "    \"Latvia\" : 1893223,\n",
    "    \"Lithuania\" : 2810761,\n",
    "    \"Luxembourg\" : 645397,\n",
    "    \"Malta\" : 519562,\n",
    "    \"Netherlands\" : 17590672,\n",
    "    \"Poland\" : 38036118,\n",
    "    \"Portugal\" : 10343066,\n",
    "    \"Romania\" : 19053815,\n",
    "    \"Slovakia\" : 5428792,\n",
    "    \"Slovenia\" : 2107180,\n",
    "    \"Spain\" : 47400798,\n",
    "    \"Sweden\" : 10521556\n",
    "}\n",
    "\n",
    "NO_EP_SEATS_POST_BREXIT =  {\n",
    "    \"Austria\" : 19,\n",
    "    \"Belgium\" : 21,\n",
    "    \"Bulgaria\" : 17,\n",
    "    \"Croatia\" : 12,\n",
    "    \"Cyprus\" : 6,\n",
    "    \"Czechia\" : 21,\n",
    "    \"Denmark\" : 14,\n",
    "    \"Estonia\" : 7,\n",
    "    \"Finland\" : 14,\n",
    "    \"France\" : 79,\n",
    "    \"Germany\" : 96,\n",
    "    \"United Kingdom\" : 0,\n",
    "    \"Greece\" : 21,\n",
    "    \"Hungary\" : 21,\n",
    "    \"Ireland\" : 13,\n",
    "    \"Italy\" : 76,\n",
    "    \"Latvia\" : 8,\n",
    "    \"Lithuania\" : 11,\n",
    "    \"Luxembourg\" : 6,\n",
    "    \"Malta\" : 6,\n",
    "    \"Netherlands\" : 29,\n",
    "    \"Poland\" : 52,\n",
    "    \"Portugal\" : 21,\n",
    "    \"Romania\" : 33,\n",
    "    \"Slovakia\" : 14,\n",
    "    \"Slovenia\" : 8,\n",
    "    \"Spain\" : 59,\n",
    "    \"Sweden\" : 21\n",
    "}\n",
    "\n",
    "NO_EP_SEATS_PRE_BREXIT =  {\n",
    "    \"Austria\" : 18,\n",
    "    \"Belgium\" : 21,\n",
    "    \"Bulgaria\" : 17,\n",
    "    \"Croatia\" : 11,\n",
    "    \"Cyprus\" : 6,\n",
    "    \"Czechia\" : 21,\n",
    "    \"Denmark\" : 13,\n",
    "    \"Estonia\" : 6,\n",
    "    \"Finland\" : 13,\n",
    "    \"France\" : 74,\n",
    "    \"Germany\" : 96,\n",
    "    \"United Kingdom\" : 27+46,\n",
    "    \"Greece\" : 21,\n",
    "    \"Hungary\" : 21,\n",
    "    \"Ireland\" : 11,\n",
    "    \"Italy\" : 73,\n",
    "    \"Latvia\" : 8,\n",
    "    \"Lithuania\" : 11,\n",
    "    \"Luxembourg\" : 6,\n",
    "    \"Malta\" : 6,\n",
    "    \"Netherlands\" : 26,\n",
    "    \"Poland\" : 51,\n",
    "    \"Portugal\" : 21,\n",
    "    \"Romania\" : 32,\n",
    "    \"Slovakia\" : 13,\n",
    "    \"Slovenia\" : 8,\n",
    "    \"Spain\" : 58,\n",
    "    \"Sweden\" : 20\n",
    "}\n",
    "\n",
    "#pre-brexit\n",
    "EP_GROUP_NO_SEATS_PRE_BREXIT = {\n",
    "    'EPP': 182,\n",
    "    'ECR': 62,\n",
    "    'ID': 73,\n",
    "    'Greens/EFA': 74,\n",
    "    'RE': 108,\n",
    "    'S&D': 154,\n",
    "    'NI': 54,\n",
    "    'GUE/NGL': 41,\n",
    "}\n",
    "\n",
    "#post-brexit\n",
    "EP_GROUP_NO_SEATS_POST_BREXIT = {\n",
    "    'EPP': 187,\n",
    "    'ECR': 61,\n",
    "    'ID': 76,\n",
    "    'Greens/EFA': 67,\n",
    "    'RE': 98,\n",
    "    'S&D': 147,\n",
    "    'NI': 29,\n",
    "    'GUE/NGL': 39,\n",
    "}\n",
    "\n"
   ]
  },
  {
   "cell_type": "code",
   "execution_count": 3,
   "id": "3d8419cb",
   "metadata": {},
   "outputs": [],
   "source": [
    "def getPopulationData(countryname):\n",
    "    return COUNTRY_POPULATION[countryname]\n",
    "def getNumberOfMEPs(countryname, pre_brexit = True):\n",
    "    if pre_brexit:\n",
    "        return NO_EP_SEATS_PRE_BREXIT[countryname]\n",
    "    else:\n",
    "        return NO_EP_SEATS_POST_BREXIT[countryname]\n",
    "def getNumberOfMEPs_by_epgroup(epgroupname, pre_brexit = True):\n",
    "    if pre_brexit:\n",
    "        return EP_GROUP_NO_SEATS_PRE_BREXIT[epgroupname]\n",
    "    else:\n",
    "        return EP_GROUP_NO_SEATS_POST_BREXIT[epgroupname]"
   ]
  },
  {
   "cell_type": "code",
   "execution_count": 4,
   "id": "8cdf444a",
   "metadata": {},
   "outputs": [],
   "source": [
    "def createNxGraph():\n",
    "    # we use MEPName instead of OfficialMEPID\n",
    "    G = nx.from_pandas_edgelist(ENTIRE_DATASET, source='AmendmentID', target='MEPName')\n",
    "    return G"
   ]
  },
  {
   "cell_type": "code",
   "execution_count": 5,
   "id": "ecdfeedb",
   "metadata": {},
   "outputs": [],
   "source": [
    "def listMEPs():\n",
    "    # we use MEPName instead of OfficialMEPID\n",
    "    o = pd.unique(ENTIRE_DATASET['MEPName'])\n",
    "    #print(type(o)) #DEBUG\n",
    "    return o"
   ]
  },
  {
   "cell_type": "code",
   "execution_count": 6,
   "id": "d5788ff9",
   "metadata": {},
   "outputs": [
    {
     "data": {
      "text/plain": [
       "array(['EPP', 'ECR', 'ID', 'Greens/EFA', 'RE', 'S&D', 'NI', 'GUE/NGL', ''],\n",
       "      dtype=object)"
      ]
     },
     "execution_count": 6,
     "metadata": {},
     "output_type": "execute_result"
    }
   ],
   "source": [
    "def listPoliticalGroups():\n",
    "    o = pd.unique(ENTIRE_DATASET['EPGroup'])\n",
    "    return o\n",
    "listPoliticalGroups()"
   ]
  },
  {
   "cell_type": "code",
   "execution_count": 7,
   "id": "151ed6f4",
   "metadata": {},
   "outputs": [],
   "source": [
    "def getMEPDataFromID(identifier):\n",
    "    x = ENTIRE_DATASET.loc[ENTIRE_DATASET['OfficialMEPID'] == identifier]\n",
    "    x = x.iloc[0]\n",
    "    x = x.drop(['AmendmentID',\n",
    "                          'Committee',\n",
    "                          'Dossier',\n",
    "                          'PENumber',\n",
    "                          'DocumentType',\n",
    "                          'Date'])\n",
    "    return dict(x)\n",
    "\n",
    "def getMEPData(column, value):\n",
    "    x = ENTIRE_DATASET.loc[ENTIRE_DATASET[column] == value]\n",
    "    x = x.iloc[0]\n",
    "    x = x.drop(['AmendmentID',\n",
    "                          'Committee',\n",
    "                          'Dossier',\n",
    "                          'PENumber',\n",
    "                          'DocumentType',\n",
    "                          'Date'])\n",
    "    return dict(x)\n",
    "    "
   ]
  },
  {
   "cell_type": "code",
   "execution_count": 8,
   "id": "5d65882b",
   "metadata": {},
   "outputs": [
    {
     "data": {
      "text/plain": [
       "{'OfficialMEPID': '124704',\n",
       " 'MEPName': 'Stanislav POLČÁK',\n",
       " 'MemberState': 'Czechia',\n",
       " 'EPGroup': 'EPP',\n",
       " 'NationalParty': 'Mayors and Independents'}"
      ]
     },
     "execution_count": 8,
     "metadata": {},
     "output_type": "execute_result"
    }
   ],
   "source": [
    "getMEPDataFromID(\"124704\")"
   ]
  },
  {
   "cell_type": "code",
   "execution_count": 9,
   "id": "711c58d7",
   "metadata": {},
   "outputs": [
    {
     "name": "stdout",
     "output_type": "stream",
     "text": [
      "Graph with 259357 nodes and 750578 edges\n"
     ]
    }
   ],
   "source": [
    "print(createNxGraph())"
   ]
  },
  {
   "cell_type": "code",
   "execution_count": 10,
   "id": "bc808c86",
   "metadata": {},
   "outputs": [
    {
     "data": {
      "text/plain": [
       "array(['Stanislav POLČÁK', 'Anna ZALEWSKA', 'Catherine GRISET',\n",
       "       'Bas EICKHOUT', 'Martin HOJSÍK', 'Eric ANDRIEU', 'Pascal CANFIN',\n",
       "       'Adina-Ioana VĂLEAN', 'César LUENA',\n",
       "       'Cristina MAESTRE MARTÍN DE ALMAGRO', 'Javi LÓPEZ',\n",
       "       'Nicolás GONZÁLEZ CASARES', 'Ivan Vilibor SINČIĆ',\n",
       "       'Joanna KOPCIŃSKA', 'Maria SPYRAKI', 'Véronique TRILLET-LENOIR',\n",
       "       'Maria da Graça CARVALHO', 'Carlo FIDANZA', 'Maria GRAPINI',\n",
       "       'John HOWARTH', 'Jiří POSPÍŠIL', 'Eugen JURZYCA', 'Adam BIELAN',\n",
       "       'Beata MAZUREK', 'Evžen TOŠENOVSKÝ', 'Pascal ARIMONT',\n",
       "       'Dita CHARANZOVÁ', 'Svenja HAHN', 'Alexandra GEESE',\n",
       "       'Markus BUCHHEIT', 'Olivier CHASTEL', 'Anna BONFRISCO',\n",
       "       'Valentino GRANT', 'Hélène LAPORTE', 'Isabella ADINOLFI',\n",
       "       'Annalisa TARDINO', 'Marco ZANNI', 'Joachim KUHS',\n",
       "       'Matteo ADINOLFI', 'Irène TOLLERET', 'Jérémy DECERLE',\n",
       "       'Elsi KATAINEN', 'Benoît BITEAU', 'Ulrike MÜLLER',\n",
       "       'Atidzhe ALIEVA-VELI', 'Clara AGUILERA', 'Ivan DAVID',\n",
       "       'Gilles LEBRETON', 'Maxette PIRBAKAS', 'Angelo CIOCCA',\n",
       "       'Mara BIZZOTTO', 'Juan Ignacio ZOIDO ÁLVAREZ', 'Daniel BUDA',\n",
       "       'Dan-Ştefan MOTREANU', 'Siegfried MUREŞAN', 'Giuseppe MILAZZO',\n",
       "       'Peter JAHR', 'Marlene MORTLER', 'Christine SCHNEIDER',\n",
       "       'Norbert LINS', 'Anne SANDER', 'Mairead McGUINNESS',\n",
       "       'Bert-Jan RUISSEN', 'Paolo DE CASTRO', 'Pina PICIERNO',\n",
       "       'Zbigniew KUŹMIUK', 'Krzysztof JURGIEL', 'Ivo HRISTOV',\n",
       "       'Carmen AVRAM', 'Asim ADEMOV', 'Martin BUSCHMANN',\n",
       "       'Petros KOKKALIS', 'Anja HAZEKAMP', 'Markus FERBER', 'José GUSMÃO',\n",
       "       'Gunnar BECK', 'Manon AUBRY', 'Francesca DONATO', 'Jörg MEUTHEN',\n",
       "       'Antonio Maria RINALDI', 'Jonás FERNÁNDEZ', 'Aurore LALUCQ',\n",
       "       'Sven GIEGOLD', 'Luis GARICANO', 'Luisa PORRITT', 'Gilles BOYER',\n",
       "       'Ondřej KOVAŘÍK', 'Sheila RITCHIE', 'Nicola BEER',\n",
       "       'Antonio TAJANI', 'Pascal DURAND', 'Gwendoline DELBOS-CORFIELD',\n",
       "       \"Rosa D'AMATO\", 'Rosanna CONTE', 'Raffaele STANCANELLI',\n",
       "       'Ladislav ILČIĆ', 'Francisco José MILLÁN MON', 'France JAMET',\n",
       "       'Catherine CHABAUD', 'Pierre KARLESKIND', 'Giuseppe FERRANDINO',\n",
       "       'Pietro BARTOLO', 'Balázs HIDVÉGHI', 'Cláudia MONTEIRO DE AGUIAR',\n",
       "       'Richard CORBETT', 'Diane DODDS', 'Joachim Stanisław BRUDZIŃSKI',\n",
       "       'Cristian TERHEŞ', 'Fabienne KELLER', 'Nathalie LOISEAU',\n",
       "       \"Sophia in 't VELD\", 'Jan-Christoph OETJEN', 'Antony HOOK',\n",
       "       'Dragoş TUDORACHE', 'Malik AZMANI', 'Cornelia ERNST', 'Clare DALY',\n",
       "       'Nicola PROCACCINI', 'Ramona STRUGARIU', 'Nicolae ŞTEFĂNUȚĂ',\n",
       "       'Laura FERRARA', 'Michal ŠIMEČKA', 'Domènec RUIZ DEVESA',\n",
       "       'Robert ROOS', 'Assita KANKO', 'Caterina CHINNICI', 'Tomas TOBÉ',\n",
       "       'Tomáš ZDECHOVSKÝ', 'Roberta METSOLA', 'Monika HOHLMEIER',\n",
       "       'Karoline EDTSTADLER', 'Javier ZARZALEJOS', 'Franco ROBERTI',\n",
       "       'Sylwia SPUREK', 'Iskra MIHAYLOVA', 'Jens GEIER',\n",
       "       'Jessica STEGRUD', 'Patrizia TOIA', 'Ville NIINISTÖ',\n",
       "       'Sandra PEREIRA', 'Martina DLABAJOVÁ', 'Katalin CSEH',\n",
       "       'Izaskun BILBAO BARANDICA', 'Klemen GROŠELJ', 'Ivars IJABS',\n",
       "       'Christophe GRUDLER', 'Susana SOLÍS PÉREZ', 'Judith BUNTING',\n",
       "       'Giorgos GEORGIOU', 'Marisa MATIAS', 'Marc BOTENGA', 'Sira REGO',\n",
       "       'Elena KOUNTOURA', 'Massimiliano SALINI', 'Zdzisław KRASNODĘBSKI',\n",
       "       'Jerzy BUZEK', 'Christian EHLER', 'Jacek SARYUSZ-WOLSKI',\n",
       "       'Grzegorz TOBISZOWSKI', 'Izabela-Helena KLOC', 'Elżbieta KRUK',\n",
       "       'Guido REIL', 'Katrin LANGENSIEPEN', 'Brando BENIFEI',\n",
       "       'Alicia HOMS GINEL', 'Estrella DURÁ FERRANDIS',\n",
       "       'Pierfrancesco MAJORINO', 'Elisabetta GUALMINI', 'Nicolas SCHMIT',\n",
       "       'Vilija BLINKEVIČIŪTĖ', 'Agnes JONGERIUS', 'Yana TOOM',\n",
       "       'Anna Júlia DONÁTH', 'Sylvie BRUNET', 'Marie-Pierre VEDRENNE',\n",
       "       'Abir AL-SAHLANI', 'Lukas MANDL', 'José Manuel FERNANDES',\n",
       "       'Konstantinos ARVANITIS', 'Cindy FRANSSEN', 'Benoît LUTGEN',\n",
       "       'Kris PEETERS', 'Jeroen LENAERS', 'Samira RAFAELA',\n",
       "       'Stéphane BIJOUX', 'Lucia ĎURIŠ NICHOLSONOVÁ', 'Alex AGIUS SALIBA',\n",
       "       'Leszek MILLER', 'Johan DANIELSSON',\n",
       "       'María Soraya RODRÍGUEZ RAMOS', 'Chrysoula ZACHAROPOULOU',\n",
       "       'Karen MELCHIOR', 'Robert BIEDROŃ', 'Jackie JONES',\n",
       "       'Jadwiga WIŚNIEWSKA', 'Maria NOICHL', 'Monika VANA',\n",
       "       'Frances FITZGERALD', 'Cristian GHINEA', 'Isabel GARCÍA MUÑOZ',\n",
       "       'Daniel FREUND', 'Lara WOLTERS', 'Dace MELBĀRDE', 'Niklas NIENAß',\n",
       "       'Iuliu WINKLER', 'Petra KAMMEREVERT', 'Niyazi KIZILYÜREK',\n",
       "       'Theodoros ZAGORAKIS', 'Eva KAILI', 'Sabine VERHEYEN',\n",
       "       'Michaela ŠOJDROVÁ', 'Laurence FARRENG', 'Irena JOVEVA',\n",
       "       'Shaffaq MOHAMMED', 'Bernard GUETTA', 'Luke Ming FLANAGAN',\n",
       "       'Jean-François JALKH', 'Raffaele FITTO', 'Corina CREȚU',\n",
       "       'Petri SARVAMAA', 'Mario FURORE', 'Marco CAMPOMENOSI',\n",
       "       'Massimo CASANOVA', 'Lucia VUOLO', 'Paolo BORCHIA',\n",
       "       'Andrey NOVAKOV', 'José Ramón BAUZÁ DÍAZ', 'Petras AUŠTREVIČIUS',\n",
       "       'Dominique RIQUET', 'Caroline NAGTEGAAL', 'Bill NEWTON DUNN',\n",
       "       'João FERREIRA', 'Marian-Jean MARINESCU', 'Josianne CUTAJAR',\n",
       "       'Julie LECHANTEUX', 'Álvaro AMARO', 'Mónica Silvana GONZÁLEZ',\n",
       "       'Alessandro PANZA', 'Stefania ZAMBELLI', 'Tonino PICULA',\n",
       "       'Martina MICHELS', 'Manolis KEFALOGIANNIS',\n",
       "       'Stelios KYMPOUROPOULOS', 'Mircea-Gheorghe HAVA', 'Ondřej KNOTEK',\n",
       "       'Adrian-Dragoş BENEA', 'Bronis ROPĖ', 'Evin INCIR', 'Rory PALMER',\n",
       "       'Marc TARABELLA', 'Charles GOERENS', 'Janina OCHOJSKA',\n",
       "       'Beata KEMPA', 'Vlad-Marius BOTOŞ', 'Kira Marie PETER-HANSEN',\n",
       "       'Chiara GEMMA', 'Daniela RONDINELLI', 'Milan BRGLEZ',\n",
       "       'Lina GÁLVEZ MUÑOZ', 'Manuel PIZARRO', 'Sara SKYTTEDAL',\n",
       "       'Loucas FOURLAS', 'Radan KANEV', 'Maria WALSH',\n",
       "       'Elżbieta RAFALSKA', 'Beata SZYDŁO', 'Dragoș PÎSLARU',\n",
       "       'Klára DOBREV', 'Jordi CAÑAS', 'Monica SEMEDO',\n",
       "       'Rosa ESTARÀS FERRAGUT', 'Ádám KÓSA', 'Thierry MARIANI',\n",
       "       'Jérôme RIVIÈRE', 'Isabel SANTOS', 'Michael GAHLER',\n",
       "       'Vladimír BILČÍK', 'Urmas PAET', 'Hilde VAUTMANS', 'Javier NART',\n",
       "       'Ilhan KYUCHYUK', 'Sergey LAGODINSKY', 'Charlie WEIMERS',\n",
       "       'Vangelis MEIMARAKIS', 'Fabio Massimo CASTALDO', 'Anna FOTYGA',\n",
       "       'Martin HORWOOD', 'Irina VON WIESE', 'Phil BENNION', 'Jane BROPHY',\n",
       "       'Alexandra Louise Rosenfield PHILLIPS', 'Mick WALLACE',\n",
       "       'Mohammed CHAHIM', 'Delara BURKHARDT', 'Alessandra MORETTI',\n",
       "       'Nikos ANDROULAKIS', 'Seb DANCE', 'Monika BEŇOVÁ',\n",
       "       'Jytte GUTELAND', 'Peter LIESE', 'Agnès EVREN', 'Nils TORVALDS',\n",
       "       'Fredrick FEDERLEY', 'Chris DAVIES', 'Frédérique RIES',\n",
       "       'Karin KARLSBRO', 'Caroline VOADEN', 'Pär HOLMGREN',\n",
       "       'Alexandr VONDRA', 'Christophe HANSEN', 'Eleonora EVI',\n",
       "       'Piernicola PEDICINI', 'Pernille WEISS', 'Alexander BERNHUBER',\n",
       "       'Edina TÓTH', 'Aurelia BEIGNEUX', 'Esther de LANGE',\n",
       "       'Andreas GLÜCK', 'Annie SCHREIJER-PIERIK', 'Michal WIEZIK',\n",
       "       'Nathalie COLIN-OESTERLÉ', 'Tiemo WÖLKEN', 'András GYÜRK',\n",
       "       'Maria ARENA', 'Tudor CIUHODARU', 'Anthea McINTYRE',\n",
       "       'Constanze KREHL', 'Aldo PATRICIELLO', 'Morten PETERSEN',\n",
       "       'Dominique BILDE', 'Bernhard ZIMNIOK', 'Ellie CHOWNS',\n",
       "       'Michèle RIVASI', 'Miguel URBÁN CRESPO', 'Udo BULLMANN',\n",
       "       'Gianna GANCIA', 'Emmanouil FRAGKOS', 'Margrete AUKEN',\n",
       "       'Alexis GEORGOULIS', 'Loránt VINCZE', 'Kosma ZŁOTOWSKI',\n",
       "       'Younous OMARJEE', 'Dimitrios PAPADIMOULIS', 'Pierre LARROUTUROU',\n",
       "       'Claudiu MANDA', 'Rasmus ANDRESEN', 'Tiziana BEGHIN',\n",
       "       'Ioannis LAGOS', 'Alfred SANT', 'Clotilde ARMAND', 'Niclas HERBST',\n",
       "       'Bogdan RZOŃCA', 'Erik BERGKVIST', 'Valérie HAYER',\n",
       "       'Tsvetelina PENKOVA', 'Andrea COZZOLINO', 'André ROUGÉ',\n",
       "       'Mathilde ANDROUËT', 'Isabel BENJUMEA BENJUMEA', 'Tamás DEUTSCH',\n",
       "       'Pierrette HERZBERGER-FOFANA', 'Erik MARQUARDT', 'György HÖLVÉNYI',\n",
       "       'Saskia BRICMONT', 'Marina KALJURAND', 'Petar VITANOV',\n",
       "       'Sylvie GUILLAUME', 'Birgit SIPPEL', 'Paulo RANGEL',\n",
       "       'Jorge BUXADÉ VILLALBA', 'Nils UŠAKOVS', 'István UJHELYI',\n",
       "       'Kateřina KONEČNÁ', 'Martin HÄUSLING', 'Pietro FIOCCHI',\n",
       "       'Simone SCHMIEDTBAUER', 'Jessica POLFJÄRD', 'Malin BJÖRK',\n",
       "       'Nicolas BAY', 'Tanja FAJON', 'Mounir SATOURI',\n",
       "       'Nacho SÁNCHEZ AMOR', 'Giuliano PISAPIA', 'Dietmar KÖSTER',\n",
       "       'Raphaël GLUCKSMANN', 'Hannah NEUMANN', 'Karol KARSKI',\n",
       "       'Valdemar TOMAŠEVSKI', 'Ryszard CZARNECKI', 'Željana ZOVKO',\n",
       "       'Hermann TERTSCH', 'Isabel WISELER-LIMA', 'Andrea BOCSKOR',\n",
       "       'Kinga GÁL', 'Antonio LÓPEZ-ISTÚRIZ WHITE', 'Peter van DALEN',\n",
       "       'Susanna CECCARDI', 'Jaak MADISON', 'Lars Patrick BERG',\n",
       "       'Harald VILIMSKY', 'Andrius KUBILIUS', 'Bettina VOLLATH',\n",
       "       'Cristian-Silviu BUŞOI', 'Emmanuel MAUREL', 'Radosław SIKORSKI',\n",
       "       'Georgios KYRTSOS', 'Simona BONAFÈ', 'Demetris PAPADAKIS',\n",
       "       'Sirpa PIETIKÄINEN', 'Silvia MODIG', 'Isabella TOVAGLIERI',\n",
       "       'Evelyn REGNER', 'Liesje SCHREINEMACHER', 'Morten LØKKEGAARD',\n",
       "       'Pedro SILVA PEREIRA', 'Helmut SCHOLZ', 'Danuta Maria HÜBNER',\n",
       "       'Enikő GYŐRI', 'Geert BOURGEOIS', 'Arnaud DANJEAN',\n",
       "       'Geoffrey VAN ORDEN', 'Mazaly AGUILAR', 'Witold Jan WASZCZYKOWSKI',\n",
       "       'Arba KOKALARI', 'Idoia VILLANUEVA RUIZ', 'Manu PINEDA',\n",
       "       'Joachim SCHUSTER', 'Attila ARA-KOVÁCS', 'Juozas OLEKAS',\n",
       "       'Rasa JUKNEVIČIENĖ', 'Sandra KALNIETE', 'Costas MAVRIDES',\n",
       "       'Neena GILL', 'Engin EROGLU', 'Özlem DEMIREL', 'Andrzej HALICKI',\n",
       "       'Ioan-Rareş BOGDAN', 'Heidi HAUTALA', 'Traian BĂSESCU',\n",
       "       'Kati PIRI', 'Reinhard BÜTIKOFER', 'David LEGA',\n",
       "       'Stelios KOULOGLOU', 'Jan ZAHRADIL', 'Jude KIRTON-DARLING',\n",
       "       'Daniel CASPARY', 'Bernd LANGE', 'Biljana BORZAN', 'Miroslav ČÍŽ',\n",
       "       'Nicola DANTI', 'Inma RODRÍGUEZ-PIÑERO', 'Barbara Ann GIBSON',\n",
       "       'Martina ANDERSON', 'Jörgen WARBORN', 'Miapetra KUMPULA-NATRI',\n",
       "       'Danilo Oscar LANCINI', 'Seán KELLY', 'Martin HLAVÁČEK',\n",
       "       'Billy KELLEHER', 'Csaba MOLNÁR', 'Molly SCOTT CATO',\n",
       "       'Rovana PLUMB', 'Axel VOSS', 'Leopoldo LÓPEZ GIL',\n",
       "       \"Grace O'SULLIVAN\", 'Caroline ROOSE', 'Francisco GUERREIRO',\n",
       "       'Isabel CARVALHAIS', 'Maite PAGAZAURTUNDÚA', 'Predrag Fred MATIĆ',\n",
       "       'Annika BRUNA', 'Sara CERDAS', 'Marco DREOSTO', 'David McALLISTER',\n",
       "       'Derk Jan EPPINK', 'Johan VAN OVERTVELDT', 'Paul TANG',\n",
       "       'Marek BELKA', 'Stéphane SÉJOURNÉ', 'Stéphanie YON-COURTIN',\n",
       "       'Pedro MARQUES', 'Stasys JAKELIŪNAS', 'Eero HEINÄLUOMA',\n",
       "       'Janusz LEWANDOWSKI', 'Philippe LAMBERTS', 'Esteban GONZÁLEZ PONS',\n",
       "       'Scott AINSLIE', 'Laura HUHTASAARI', 'Carlos ZORRINHO',\n",
       "       'Niels FUGLSANG', 'Margarida MARQUES', 'Norbert NEUSER',\n",
       "       'Virginie JORON', 'Eugenia RODRÍGUEZ PALOP', 'Hildegard BENTELE',\n",
       "       'Nuno MELO', 'Asger CHRISTENSEN', 'Joëlle MÉLIN', 'Naomi LONG',\n",
       "       '#N/A', 'Jan HUITEMA', 'Elena LIZZI', 'Marianne VIND',\n",
       "       'Kathleen VAN BREMPT', 'Jutta PAULUS', 'Tilly METZ',\n",
       "       'Ralf SEEKATZ', 'Emil RADEV', 'Claude MORAES', 'Katarina BARLEY',\n",
       "       'Moritz KÖRNER', 'Juan Fernando LÓPEZ AGUILAR', 'Patryk JAKI',\n",
       "       'Tom VANDENDRIESSCHE', 'Pernando BARRENA ARZA', 'Sarah WIENER',\n",
       "       'Ryszard Antoni LEGUTKO', 'Lídia PEREIRA', 'Christel SCHALDEMOSE',\n",
       "       'Łukasz KOHUT', 'Andrey SLABAKOV', 'Romeo FRANZ', 'Hannes HEIDE',\n",
       "       'Massimiliano SMERIGLIO', 'Christine ANDERSON', 'Barbara THALER',\n",
       "       'Leila CHAIBI', 'Viktor USPASKICH', 'Maria-Manuel LEITÃO-MARQUES',\n",
       "       'Adriana MALDONADO LÓPEZ', 'Martin SCHIRDEWAN', 'Herve JUVIN',\n",
       "       'Ernest URTASUN', 'Matt CARTHY', 'Andreas SCHWAB', 'Stefan BERGER',\n",
       "       'Eva MAYDELL', 'José Manuel GARCÍA-MARGALLO Y MARFIL',\n",
       "       'Alessandra BASSO', 'Yannick JADOT', 'Silvia SARDONE',\n",
       "       'Marc ANGEL', 'Roberts ZĪLE', 'Andżelika Anna MOŻDŻANOWSKA',\n",
       "       'Julie WARD', 'Miriam DALLI', 'Jens GIESEKE', 'Sven SCHULZE',\n",
       "       'Dennis RADTKE', 'Heléne FRITZON', 'Gabriele BISCHOFF',\n",
       "       'Romana TOMC', 'Karlo RESSLER', 'Damian BOESELAGER',\n",
       "       'Mauri PEKKARINEN', 'Lefteris CHRISTOFOROU', 'Angelika WINZIG',\n",
       "       'David CORMAND', 'Eider GARDIAZABAL RUBIAL', 'Angel DZHAMBAZKI',\n",
       "       'Dolors MONTSERRAT', 'Tatjana ŽDANOKA',\n",
       "       'Anna-Michelle ASIMAKOPOULOU', 'Peter LUNDGREN', 'Karima DELLI',\n",
       "       'Markus PIEPER', 'Radka MAXOVÁ', 'Mikuláš PEKSA', 'Peter POLLÁK',\n",
       "       'Milan ZVER', 'Adam JARUBAS', 'Günther SIDL', 'Luisa REGIMENTI',\n",
       "       'Elissavet VOZEMBERG-VRIONIDI', 'Bartosz ARŁUKOWICZ',\n",
       "       'Inese VAIDERE', 'Simona BALDASSARRE', 'Ska KELLER', 'Søren GADE',\n",
       "       'Jarosław KALINOWSKI', 'Jarosław DUDA', 'Krzysztof HETMAN',\n",
       "       'Magdalena ADAMOWICZ', 'Philippe OLIVIER', 'Valter FLEGO',\n",
       "       'Andor DELI', 'Elżbieta Katarzyna ŁUKACIJEWSKA',\n",
       "       'Viola VON CRAMON-TAUBADEL', 'Sándor RÓNAI', 'Sabrina PIGNEDOLI',\n",
       "       'Henna VIRKKUNEN', 'Ivan ŠTEFANEC', 'David CASA',\n",
       "       'Tomasz FRANKOWSKI', 'Ewa KOPACZ', 'Gianantonio DA RE',\n",
       "       'Antonius MANDERS', 'Kostas PAPADAKIS', 'Tineke STRIK',\n",
       "       'Vasile BLAGA', 'Vera TAX', 'Anne-Sophie PELLETIER', 'Dan NICA',\n",
       "       'Claudia GAMON', 'Ignazio CORRAO', 'Robert HAJŠEL',\n",
       "       'Carlo CALENDA', 'Nikolaj VILLUMSEN', 'Victor NEGRESCU',\n",
       "       'Tomasz Piotr PORĘBA', 'Markéta GREGOROVÁ', 'László TRÓCSÁNYI',\n",
       "       'Mihai TUDOSE', 'Javier MORENO SÁNCHEZ', 'Ismail ERTUG',\n",
       "       'Diana RIBA I GINER', 'Milan UHRÍK', 'Nadine MORANO',\n",
       "       'Patrick BREYER', 'Dino GIARRUSSO', 'Luděk NIEDERMAYER',\n",
       "       'Dacian CIOLOŞ', 'Lena DÜPONT', 'Herbert DORFMANN',\n",
       "       'Manuel BOMPARD', 'Franc BOGOVIČ', 'Gabriel MATO',\n",
       "       'Andreas SCHIEDER', 'Sunčana GLAVAK', 'Andrey KOVATCHEV',\n",
       "       'Sergei STANISHEV', 'Marie TOUSSAINT', 'Jean-Paul GARRAUD',\n",
       "       'Veronika VRECIONOVÁ', 'Vincenzo SOFO', 'Antoni COMÍN I OLIVERES',\n",
       "       'Miriam LEXMANN', 'Bart GROOTHUIS', 'Rob ROOKEN',\n",
       "       'François ALFONSI', 'Adrián VÁZQUEZ LÁZARA',\n",
       "       'François-Xavier BELLAMY', 'Deirdre CLUNE', 'Ljudmila NOVAK',\n",
       "       'Tom BERENDSEN', 'Pablo ARIAS ECHEVERRÍA', 'Gheorghe FALCĂ',\n",
       "       'Gheorghe-Vlad NISTOR', 'Brice HORTEFEUX',\n",
       "       'Anna DEPARNAY-GRUNENBERG', 'Teuvo HAKKARAINEN',\n",
       "       'Ibán GARCÍA DEL BLANCO', 'Marcos ROS SEMPERE', 'Marcel KOLAJA',\n",
       "       'Ilana CICUREL', 'Anna CAVAZZINI', 'Jean-Lin LACAPELLE',\n",
       "       'Tomislav SOKOL', 'Jan OLBRYCHT', 'Salvatore DE MEO',\n",
       "       'Pilar del CASTILLO VERA', 'Dominik TARCZYŃSKI',\n",
       "       'Kim VAN SPARRENTAK', 'Marco ZULLO', 'Geoffroy DIDIER',\n",
       "       'Chris MACMANUS', 'Salima YENBOU', 'Angelika NIEBLER',\n",
       "       'Ciarán CUFFE', 'Carles PUIGDEMONT I CASAMAJÓ',\n",
       "       'Margarita DE LA PISA CARRIÓN', 'Christian DOLESCHAL',\n",
       "       'Sven MIKSER', 'Klaus BUCHNER', 'Guy VERHOFSTADT',\n",
       "       'Evelyne GEBHARDT', 'Clara PONSATÍ OBIOLS', 'Hynek BLAŠKO',\n",
       "       'Miroslav RADAČOVSKÝ', 'Sylvia LIMMER', 'Andris AMERIKS',\n",
       "       'Alviina ALAMETSÄ', 'Gilbert COLLARD', 'Róża THUN UND HOHENSTEIN',\n",
       "       'Marion WALSMANN', 'Helmut GEUKING', 'Aušra MALDEIKIENĖ',\n",
       "       'Alice KUHNKE', 'Bogusław LIBERADZKI', 'Henrike HAHN',\n",
       "       'Romana JERKOVIĆ', 'Liudas MAŽYLIS', 'Terry REINTKE',\n",
       "       'Barry ANDREWS', 'Andrus ANSIP', 'Roman HAIDER', 'Petra DE SUTTER',\n",
       "       'Andrea CAROPPO', 'Maximilian KRAH', 'Othmar KARAS',\n",
       "       'Irene TINAGLI', 'Fulvio MARTUSCIELLO', 'Sergio BERLATO',\n",
       "       'Riho TERRAS', 'Lefteris NIKOLAOU-ALAVANOS', 'Nora MEBAREK',\n",
       "       'Lívia JÁRÓKA', 'József SZÁJER', 'Sven SIMON', 'Elena YONCHEVA',\n",
       "       'Włodzimierz CIMOSZEWICZ', 'Michael BLOSS', 'Linea SØGAARD-LIDELL',\n",
       "       'Nicolaus FEST', 'Thomas WAITZ', 'Dorien ROOKMAKER',\n",
       "       'Claude GRUFFAT', 'Marek Paweł BALT', 'Peter KOFOD', 'Eugen TOMAC',\n",
       "       'Damien CARÊME', 'Gerolf ANNEMANS', 'Christian SAGARTZ',\n",
       "       'Jakop G. DALUNDE', 'Rainer WIELAND', 'Manuela RIPA',\n",
       "       'Filip DE MAN', 'Alexander ALEXANDROV YORDANOV', 'Vlad GHEORGHE',\n",
       "       'Georg MAYER', 'Iratxe GARCÍA PÉREZ', 'Jordi SOLÉ',\n",
       "       'Sara MATTHIEU', 'Alin MITUȚA', 'Colm MARKEY', 'Cyrus ENGERER',\n",
       "       'Ernő SCHALLER-BAROSS', 'Tom VANDENKENDELAERE', 'Emma WIESNER',\n",
       "       'Mislav KOLAKUŠIĆ', 'Michiel HOOGEVEEN', 'Thijs REUTEN',\n",
       "       'João PIMENTA LOPES', 'Ruža TOMAŠIĆ',\n",
       "       'Karolin BRAUNSBERGER-REINHOLD', 'Jordan BARDELLA',\n",
       "       'Ilan DE BASSO', 'Sandro GOZI', 'Karsten LUCKE',\n",
       "       'Catharina RINZEMA', 'Malte GALLÉE', 'René REPASI',\n",
       "       'Camilla LAURETI', 'Manfred WEBER'], dtype=object)"
      ]
     },
     "execution_count": 10,
     "metadata": {},
     "output_type": "execute_result"
    }
   ],
   "source": [
    "# Here's all the MEPs we have data for\n",
    "listMEPs()"
   ]
  },
  {
   "cell_type": "code",
   "execution_count": 11,
   "id": "5ad2d2bd",
   "metadata": {},
   "outputs": [],
   "source": [
    "myGraph = createNxGraph()\n",
    "list_meps = listMEPs()"
   ]
  },
  {
   "cell_type": "code",
   "execution_count": 12,
   "id": "6dbce39f",
   "metadata": {},
   "outputs": [
    {
     "name": "stdout",
     "output_type": "stream",
     "text": [
      "Some information about this graph:\n",
      "Number of nodes: 259357\n",
      "Number of edges: 750578\n",
      "\n",
      "The nodes in this graph include: [892323, 'Stanislav POLČÁK', 880086, 'Anna ZALEWSKA', 885326, 'Catherine GRISET', 891589, 'Bas EICKHOUT', 881777, 'Martin HOJSÍK', 888406, 'Eric ANDRIEU', 890457, 'Pascal CANFIN', 894926, 893171, 892450, 894881, 893914, 893108, 'Adina-Ioana VĂLEAN', 894291, 883936, 'César LUENA', 'Cristina MAESTRE MARTÍN DE ALMAGRO', 'Javi LÓPEZ', 'Nicolás GONZÁLEZ CASARES', 889291, 885412, 884461, 879904, 890644, 879857, 'Ivan Vilibor SINČIĆ', 885362, 891635, 'Joanna KOPCIŃSKA', 880857, 'Maria SPYRAKI', 888150, 'Véronique TRILLET-LENOIR', 886342, 887149, 888086, 'Maria da Graça CARVALHO', 893879, 'Carlo FIDANZA', 893221, 'Maria GRAPINI', 887654, 'John HOWARTH', 894783, 'Jiří POSPÍŠIL', 881778, 884421, 893372, 'Eugen JURZYCA', 'Adam BIELAN', 'Beata MAZUREK', 'Evžen TOŠENOVSKÝ', 893286, 884484, 880531, 886091, 885447, 888054, 881629, 886288, 'Pascal ARIMONT', 882597, 884341, 891348, 879855, 'Dita CHARANZOVÁ', 'Svenja HAHN', 884436, 893420, 879923, 888314, 893432, 'Alexandra GEESE', 881668, 893827, 'Markus BUCHHEIT', 892452, 885460, 889480, 'Olivier CHASTEL', 880572, 'Anna BONFRISCO', 'Valentino GRANT', 'Hélène LAPORTE', 'Isabella ADINOLFI', 'Annalisa TARDINO', 'Marco ZANNI', 'Joachim KUHS', 894188, 892355, 881707, 894626]\n"
     ]
    }
   ],
   "source": [
    "print(f\"Some information about this graph:\\n\"\n",
    "        f\"Number of nodes: {nx.number_of_nodes(myGraph)}\\n\"\n",
    "        f\"Number of edges: {nx.number_of_edges(myGraph)}\\n\")\n",
    "\n",
    "print(f\"The nodes in this graph include: {list(myGraph.nodes)[:100]}\")\n",
    "\n",
    "# now amendments are 'int's and MEPS are 'string's."
   ]
  },
  {
   "cell_type": "code",
   "execution_count": 13,
   "id": "38dba9bd",
   "metadata": {},
   "outputs": [
    {
     "data": {
      "text/plain": [
       "True"
      ]
     },
     "execution_count": 13,
     "metadata": {},
     "output_type": "execute_result"
    }
   ],
   "source": [
    "nx.is_bipartite(myGraph)"
   ]
  },
  {
   "cell_type": "code",
   "execution_count": 14,
   "id": "d81d09ca",
   "metadata": {},
   "outputs": [],
   "source": [
    "# most már lefut elég gyorsan !\n",
    "mep_social_network = nx.algorithms.bipartite.projected_graph(myGraph, list_meps)"
   ]
  },
  {
   "cell_type": "code",
   "execution_count": 14,
   "id": "1723d168",
   "metadata": {
    "scrolled": true
   },
   "outputs": [
    {
     "name": "stdout",
     "output_type": "stream",
     "text": [
      "['Stanislav POLČÁK', 'Anna ZALEWSKA', 'Catherine GRISET', 'Bas EICKHOUT', 'Martin HOJSÍK', 'Eric ANDRIEU', 'Pascal CANFIN', 'Adina-Ioana VĂLEAN', 'César LUENA', 'Cristina MAESTRE MARTÍN DE ALMAGRO', 'Javi LÓPEZ', 'Nicolás GONZÁLEZ CASARES', 'Ivan Vilibor SINČIĆ', 'Joanna KOPCIŃSKA', 'Maria SPYRAKI', 'Véronique TRILLET-LENOIR', 'Maria da Graça CARVALHO', 'Carlo FIDANZA', 'Maria GRAPINI', 'John HOWARTH', 'Jiří POSPÍŠIL', 'Eugen JURZYCA', 'Adam BIELAN', 'Beata MAZUREK', 'Evžen TOŠENOVSKÝ', 'Pascal ARIMONT', 'Dita CHARANZOVÁ', 'Svenja HAHN', 'Alexandra GEESE', 'Markus BUCHHEIT', 'Olivier CHASTEL', 'Anna BONFRISCO', 'Valentino GRANT', 'Hélène LAPORTE', 'Isabella ADINOLFI', 'Annalisa TARDINO', 'Marco ZANNI', 'Joachim KUHS', 'Matteo ADINOLFI', 'Irène TOLLERET', 'Jérémy DECERLE', 'Elsi KATAINEN', 'Benoît BITEAU', 'Ulrike MÜLLER', 'Atidzhe ALIEVA-VELI', 'Clara AGUILERA', 'Ivan DAVID', 'Gilles LEBRETON', 'Maxette PIRBAKAS', 'Angelo CIOCCA', 'Mara BIZZOTTO', 'Juan Ignacio ZOIDO ÁLVAREZ', 'Daniel BUDA', 'Dan-Ştefan MOTREANU', 'Siegfried MUREŞAN', 'Giuseppe MILAZZO', 'Peter JAHR', 'Marlene MORTLER', 'Christine SCHNEIDER', 'Norbert LINS', 'Anne SANDER', 'Mairead McGUINNESS', 'Bert-Jan RUISSEN', 'Paolo DE CASTRO', 'Pina PICIERNO', 'Zbigniew KUŹMIUK', 'Krzysztof JURGIEL', 'Ivo HRISTOV', 'Carmen AVRAM', 'Asim ADEMOV', 'Martin BUSCHMANN', 'Petros KOKKALIS', 'Anja HAZEKAMP', 'Markus FERBER', 'José GUSMÃO', 'Gunnar BECK', 'Manon AUBRY', 'Francesca DONATO', 'Jörg MEUTHEN', 'Antonio Maria RINALDI', 'Jonás FERNÁNDEZ', 'Aurore LALUCQ', 'Sven GIEGOLD', 'Luis GARICANO', 'Luisa PORRITT', 'Gilles BOYER', 'Ondřej KOVAŘÍK', 'Sheila RITCHIE', 'Nicola BEER', 'Antonio TAJANI', 'Pascal DURAND', 'Gwendoline DELBOS-CORFIELD', \"Rosa D'AMATO\", 'Rosanna CONTE', 'Raffaele STANCANELLI', 'Ladislav ILČIĆ', 'Francisco José MILLÁN MON', 'France JAMET', 'Catherine CHABAUD', 'Pierre KARLESKIND', 'Giuseppe FERRANDINO', 'Pietro BARTOLO', 'Balázs HIDVÉGHI', 'Cláudia MONTEIRO DE AGUIAR', 'Richard CORBETT', 'Diane DODDS', 'Joachim Stanisław BRUDZIŃSKI', 'Cristian TERHEŞ', 'Fabienne KELLER', 'Nathalie LOISEAU', \"Sophia in 't VELD\", 'Jan-Christoph OETJEN', 'Antony HOOK', 'Dragoş TUDORACHE', 'Malik AZMANI', 'Cornelia ERNST', 'Clare DALY', 'Nicola PROCACCINI', 'Ramona STRUGARIU', 'Nicolae ŞTEFĂNUȚĂ', 'Laura FERRARA', 'Michal ŠIMEČKA', 'Domènec RUIZ DEVESA', 'Robert ROOS', 'Assita KANKO', 'Caterina CHINNICI', 'Tomas TOBÉ', 'Tomáš ZDECHOVSKÝ', 'Roberta METSOLA', 'Monika HOHLMEIER', 'Karoline EDTSTADLER', 'Javier ZARZALEJOS', 'Franco ROBERTI', 'Sylwia SPUREK', 'Iskra MIHAYLOVA', 'Jens GEIER', 'Jessica STEGRUD', 'Patrizia TOIA', 'Ville NIINISTÖ', 'Sandra PEREIRA', 'Martina DLABAJOVÁ', 'Katalin CSEH', 'Izaskun BILBAO BARANDICA', 'Klemen GROŠELJ', 'Ivars IJABS', 'Christophe GRUDLER', 'Susana SOLÍS PÉREZ', 'Judith BUNTING', 'Giorgos GEORGIOU', 'Marisa MATIAS', 'Marc BOTENGA', 'Sira REGO', 'Elena KOUNTOURA', 'Massimiliano SALINI', 'Zdzisław KRASNODĘBSKI', 'Jerzy BUZEK', 'Christian EHLER', 'Jacek SARYUSZ-WOLSKI', 'Grzegorz TOBISZOWSKI', 'Izabela-Helena KLOC', 'Elżbieta KRUK', 'Guido REIL', 'Katrin LANGENSIEPEN', 'Brando BENIFEI', 'Alicia HOMS GINEL', 'Estrella DURÁ FERRANDIS', 'Pierfrancesco MAJORINO', 'Elisabetta GUALMINI', 'Nicolas SCHMIT', 'Vilija BLINKEVIČIŪTĖ', 'Agnes JONGERIUS', 'Yana TOOM', 'Anna Júlia DONÁTH', 'Sylvie BRUNET', 'Marie-Pierre VEDRENNE', 'Abir AL-SAHLANI', 'Lukas MANDL', 'José Manuel FERNANDES', 'Konstantinos ARVANITIS', 'Cindy FRANSSEN', 'Benoît LUTGEN', 'Kris PEETERS', 'Jeroen LENAERS', 'Samira RAFAELA', 'Stéphane BIJOUX', 'Lucia ĎURIŠ NICHOLSONOVÁ', 'Alex AGIUS SALIBA', 'Leszek MILLER', 'Johan DANIELSSON', 'María Soraya RODRÍGUEZ RAMOS', 'Chrysoula ZACHAROPOULOU', 'Karen MELCHIOR', 'Robert BIEDROŃ', 'Jackie JONES', 'Jadwiga WIŚNIEWSKA', 'Maria NOICHL', 'Monika VANA', 'Frances FITZGERALD', 'Cristian GHINEA', 'Isabel GARCÍA MUÑOZ', 'Daniel FREUND', 'Lara WOLTERS', 'Dace MELBĀRDE', 'Niklas NIENAß', 'Iuliu WINKLER', 'Petra KAMMEREVERT', 'Niyazi KIZILYÜREK', 'Theodoros ZAGORAKIS', 'Eva KAILI', 'Sabine VERHEYEN', 'Michaela ŠOJDROVÁ', 'Laurence FARRENG', 'Irena JOVEVA', 'Shaffaq MOHAMMED', 'Bernard GUETTA', 'Luke Ming FLANAGAN', 'Jean-François JALKH', 'Raffaele FITTO', 'Corina CREȚU', 'Petri SARVAMAA', 'Mario FURORE', 'Marco CAMPOMENOSI', 'Massimo CASANOVA', 'Lucia VUOLO', 'Paolo BORCHIA', 'Andrey NOVAKOV', 'José Ramón BAUZÁ DÍAZ', 'Petras AUŠTREVIČIUS', 'Dominique RIQUET', 'Caroline NAGTEGAAL', 'Bill NEWTON DUNN', 'João FERREIRA', 'Marian-Jean MARINESCU', 'Josianne CUTAJAR', 'Julie LECHANTEUX', 'Álvaro AMARO', 'Mónica Silvana GONZÁLEZ', 'Alessandro PANZA', 'Stefania ZAMBELLI', 'Tonino PICULA', 'Martina MICHELS', 'Manolis KEFALOGIANNIS', 'Stelios KYMPOUROPOULOS', 'Mircea-Gheorghe HAVA', 'Ondřej KNOTEK', 'Adrian-Dragoş BENEA', 'Bronis ROPĖ', 'Evin INCIR', 'Rory PALMER', 'Marc TARABELLA', 'Charles GOERENS', 'Janina OCHOJSKA', 'Beata KEMPA', 'Vlad-Marius BOTOŞ', 'Kira Marie PETER-HANSEN', 'Chiara GEMMA', 'Daniela RONDINELLI', 'Milan BRGLEZ', 'Lina GÁLVEZ MUÑOZ', 'Manuel PIZARRO', 'Sara SKYTTEDAL', 'Loucas FOURLAS', 'Radan KANEV', 'Maria WALSH', 'Elżbieta RAFALSKA', 'Beata SZYDŁO', 'Dragoș PÎSLARU', 'Klára DOBREV', 'Jordi CAÑAS', 'Monica SEMEDO', 'Rosa ESTARÀS FERRAGUT', 'Ádám KÓSA', 'Thierry MARIANI', 'Jérôme RIVIÈRE', 'Isabel SANTOS', 'Michael GAHLER', 'Vladimír BILČÍK', 'Urmas PAET', 'Hilde VAUTMANS', 'Javier NART', 'Ilhan KYUCHYUK', 'Sergey LAGODINSKY', 'Charlie WEIMERS', 'Vangelis MEIMARAKIS', 'Fabio Massimo CASTALDO', 'Anna FOTYGA', 'Martin HORWOOD', 'Irina VON WIESE', 'Phil BENNION', 'Jane BROPHY', 'Alexandra Louise Rosenfield PHILLIPS', 'Mick WALLACE', 'Mohammed CHAHIM', 'Delara BURKHARDT', 'Alessandra MORETTI', 'Nikos ANDROULAKIS', 'Seb DANCE', 'Monika BEŇOVÁ', 'Jytte GUTELAND', 'Peter LIESE', 'Agnès EVREN', 'Nils TORVALDS', 'Fredrick FEDERLEY', 'Chris DAVIES', 'Frédérique RIES', 'Karin KARLSBRO', 'Caroline VOADEN', 'Pär HOLMGREN', 'Alexandr VONDRA', 'Christophe HANSEN', 'Eleonora EVI', 'Piernicola PEDICINI', 'Pernille WEISS', 'Alexander BERNHUBER', 'Edina TÓTH', 'Aurelia BEIGNEUX', 'Esther de LANGE', 'Andreas GLÜCK', 'Annie SCHREIJER-PIERIK', 'Michal WIEZIK', 'Nathalie COLIN-OESTERLÉ', 'Tiemo WÖLKEN', 'András GYÜRK', 'Maria ARENA', 'Tudor CIUHODARU', 'Anthea McINTYRE', 'Constanze KREHL', 'Aldo PATRICIELLO', 'Morten PETERSEN', 'Dominique BILDE', 'Bernhard ZIMNIOK', 'Ellie CHOWNS', 'Michèle RIVASI', 'Miguel URBÁN CRESPO', 'Udo BULLMANN', 'Gianna GANCIA', 'Emmanouil FRAGKOS', 'Margrete AUKEN', 'Alexis GEORGOULIS', 'Loránt VINCZE', 'Kosma ZŁOTOWSKI', 'Younous OMARJEE', 'Dimitrios PAPADIMOULIS', 'Pierre LARROUTUROU', 'Claudiu MANDA', 'Rasmus ANDRESEN', 'Tiziana BEGHIN', 'Ioannis LAGOS', 'Alfred SANT', 'Clotilde ARMAND', 'Niclas HERBST', 'Bogdan RZOŃCA', 'Erik BERGKVIST', 'Valérie HAYER', 'Tsvetelina PENKOVA', 'Andrea COZZOLINO', 'André ROUGÉ', 'Mathilde ANDROUËT', 'Isabel BENJUMEA BENJUMEA', 'Tamás DEUTSCH', 'Pierrette HERZBERGER-FOFANA', 'Erik MARQUARDT', 'György HÖLVÉNYI', 'Saskia BRICMONT', 'Marina KALJURAND', 'Petar VITANOV', 'Sylvie GUILLAUME', 'Birgit SIPPEL', 'Paulo RANGEL', 'Jorge BUXADÉ VILLALBA', 'Nils UŠAKOVS', 'István UJHELYI', 'Kateřina KONEČNÁ', 'Martin HÄUSLING', 'Pietro FIOCCHI', 'Simone SCHMIEDTBAUER', 'Jessica POLFJÄRD', 'Malin BJÖRK', 'Nicolas BAY', 'Tanja FAJON', 'Mounir SATOURI', 'Nacho SÁNCHEZ AMOR', 'Giuliano PISAPIA', 'Dietmar KÖSTER', 'Raphaël GLUCKSMANN', 'Hannah NEUMANN', 'Karol KARSKI', 'Valdemar TOMAŠEVSKI', 'Ryszard CZARNECKI', 'Željana ZOVKO', 'Hermann TERTSCH', 'Isabel WISELER-LIMA', 'Andrea BOCSKOR', 'Kinga GÁL', 'Antonio LÓPEZ-ISTÚRIZ WHITE', 'Peter van DALEN', 'Susanna CECCARDI', 'Jaak MADISON', 'Lars Patrick BERG', 'Harald VILIMSKY', 'Andrius KUBILIUS', 'Bettina VOLLATH', 'Cristian-Silviu BUŞOI', 'Emmanuel MAUREL', 'Radosław SIKORSKI', 'Georgios KYRTSOS', 'Simona BONAFÈ', 'Demetris PAPADAKIS', 'Sirpa PIETIKÄINEN', 'Silvia MODIG', 'Isabella TOVAGLIERI', 'Evelyn REGNER', 'Liesje SCHREINEMACHER', 'Morten LØKKEGAARD', 'Pedro SILVA PEREIRA', 'Helmut SCHOLZ', 'Danuta Maria HÜBNER', 'Enikő GYŐRI', 'Geert BOURGEOIS', 'Arnaud DANJEAN', 'Geoffrey VAN ORDEN', 'Mazaly AGUILAR', 'Witold Jan WASZCZYKOWSKI', 'Arba KOKALARI', 'Idoia VILLANUEVA RUIZ', 'Manu PINEDA', 'Joachim SCHUSTER', 'Attila ARA-KOVÁCS', 'Juozas OLEKAS', 'Rasa JUKNEVIČIENĖ', 'Sandra KALNIETE', 'Costas MAVRIDES', 'Neena GILL', 'Engin EROGLU', 'Özlem DEMIREL', 'Andrzej HALICKI', 'Ioan-Rareş BOGDAN', 'Heidi HAUTALA', 'Traian BĂSESCU', 'Kati PIRI', 'Reinhard BÜTIKOFER', 'David LEGA', 'Stelios KOULOGLOU', 'Jan ZAHRADIL', 'Jude KIRTON-DARLING', 'Daniel CASPARY', 'Bernd LANGE', 'Biljana BORZAN', 'Miroslav ČÍŽ', 'Nicola DANTI', 'Inma RODRÍGUEZ-PIÑERO', 'Barbara Ann GIBSON', 'Martina ANDERSON', 'Jörgen WARBORN', 'Miapetra KUMPULA-NATRI', 'Danilo Oscar LANCINI', 'Seán KELLY', 'Martin HLAVÁČEK', 'Billy KELLEHER', 'Csaba MOLNÁR', 'Molly SCOTT CATO', 'Rovana PLUMB', 'Axel VOSS', 'Leopoldo LÓPEZ GIL', \"Grace O'SULLIVAN\", 'Caroline ROOSE', 'Francisco GUERREIRO', 'Isabel CARVALHAIS', 'Maite PAGAZAURTUNDÚA', 'Predrag Fred MATIĆ', 'Annika BRUNA', 'Sara CERDAS', 'Marco DREOSTO', 'David McALLISTER', 'Derk Jan EPPINK', 'Johan VAN OVERTVELDT', 'Paul TANG', 'Marek BELKA', 'Stéphane SÉJOURNÉ', 'Stéphanie YON-COURTIN', 'Pedro MARQUES', 'Stasys JAKELIŪNAS', 'Eero HEINÄLUOMA', 'Janusz LEWANDOWSKI', 'Philippe LAMBERTS', 'Esteban GONZÁLEZ PONS', 'Scott AINSLIE', 'Laura HUHTASAARI', 'Carlos ZORRINHO', 'Niels FUGLSANG', 'Margarida MARQUES', 'Norbert NEUSER', 'Virginie JORON', 'Eugenia RODRÍGUEZ PALOP', 'Hildegard BENTELE', 'Nuno MELO', 'Asger CHRISTENSEN', 'Joëlle MÉLIN', 'Naomi LONG', '#N/A', 'Jan HUITEMA', 'Elena LIZZI', 'Marianne VIND', 'Kathleen VAN BREMPT', 'Jutta PAULUS', 'Tilly METZ', 'Ralf SEEKATZ', 'Emil RADEV', 'Claude MORAES', 'Katarina BARLEY', 'Moritz KÖRNER', 'Juan Fernando LÓPEZ AGUILAR', 'Patryk JAKI', 'Tom VANDENDRIESSCHE', 'Pernando BARRENA ARZA', 'Sarah WIENER', 'Ryszard Antoni LEGUTKO', 'Lídia PEREIRA', 'Christel SCHALDEMOSE', 'Łukasz KOHUT', 'Andrey SLABAKOV', 'Romeo FRANZ', 'Hannes HEIDE', 'Massimiliano SMERIGLIO', 'Christine ANDERSON', 'Barbara THALER', 'Leila CHAIBI', 'Viktor USPASKICH', 'Maria-Manuel LEITÃO-MARQUES', 'Adriana MALDONADO LÓPEZ', 'Martin SCHIRDEWAN', 'Herve JUVIN', 'Ernest URTASUN', 'Matt CARTHY', 'Andreas SCHWAB', 'Stefan BERGER', 'Eva MAYDELL', 'José Manuel GARCÍA-MARGALLO Y MARFIL', 'Alessandra BASSO', 'Yannick JADOT', 'Silvia SARDONE', 'Marc ANGEL', 'Roberts ZĪLE', 'Andżelika Anna MOŻDŻANOWSKA', 'Julie WARD', 'Miriam DALLI', 'Jens GIESEKE', 'Sven SCHULZE', 'Dennis RADTKE', 'Heléne FRITZON', 'Gabriele BISCHOFF', 'Romana TOMC', 'Karlo RESSLER', 'Damian BOESELAGER', 'Mauri PEKKARINEN', 'Lefteris CHRISTOFOROU', 'Angelika WINZIG', 'David CORMAND', 'Eider GARDIAZABAL RUBIAL', 'Angel DZHAMBAZKI', 'Dolors MONTSERRAT', 'Tatjana ŽDANOKA', 'Anna-Michelle ASIMAKOPOULOU', 'Peter LUNDGREN', 'Karima DELLI', 'Markus PIEPER', 'Radka MAXOVÁ', 'Mikuláš PEKSA', 'Peter POLLÁK', 'Milan ZVER', 'Adam JARUBAS', 'Günther SIDL', 'Luisa REGIMENTI', 'Elissavet VOZEMBERG-VRIONIDI', 'Bartosz ARŁUKOWICZ', 'Inese VAIDERE', 'Simona BALDASSARRE', 'Ska KELLER', 'Søren GADE', 'Jarosław KALINOWSKI', 'Jarosław DUDA', 'Krzysztof HETMAN', 'Magdalena ADAMOWICZ', 'Philippe OLIVIER', 'Valter FLEGO', 'Andor DELI', 'Elżbieta Katarzyna ŁUKACIJEWSKA', 'Viola VON CRAMON-TAUBADEL', 'Sándor RÓNAI', 'Sabrina PIGNEDOLI', 'Henna VIRKKUNEN', 'Ivan ŠTEFANEC', 'David CASA', 'Tomasz FRANKOWSKI', 'Ewa KOPACZ', 'Gianantonio DA RE', 'Antonius MANDERS', 'Kostas PAPADAKIS', 'Tineke STRIK', 'Vasile BLAGA', 'Vera TAX', 'Anne-Sophie PELLETIER', 'Dan NICA', 'Claudia GAMON', 'Ignazio CORRAO', 'Robert HAJŠEL', 'Carlo CALENDA', 'Nikolaj VILLUMSEN', 'Victor NEGRESCU', 'Tomasz Piotr PORĘBA', 'Markéta GREGOROVÁ', 'László TRÓCSÁNYI', 'Mihai TUDOSE', 'Javier MORENO SÁNCHEZ', 'Ismail ERTUG', 'Diana RIBA I GINER', 'Milan UHRÍK', 'Nadine MORANO', 'Patrick BREYER', 'Dino GIARRUSSO', 'Luděk NIEDERMAYER', 'Dacian CIOLOŞ', 'Lena DÜPONT', 'Herbert DORFMANN', 'Manuel BOMPARD', 'Franc BOGOVIČ', 'Gabriel MATO', 'Andreas SCHIEDER', 'Sunčana GLAVAK', 'Andrey KOVATCHEV', 'Sergei STANISHEV', 'Marie TOUSSAINT', 'Jean-Paul GARRAUD', 'Veronika VRECIONOVÁ', 'Vincenzo SOFO', 'Antoni COMÍN I OLIVERES', 'Miriam LEXMANN', 'Bart GROOTHUIS', 'Rob ROOKEN', 'François ALFONSI', 'Adrián VÁZQUEZ LÁZARA', 'François-Xavier BELLAMY', 'Deirdre CLUNE', 'Ljudmila NOVAK', 'Tom BERENDSEN', 'Pablo ARIAS ECHEVERRÍA', 'Gheorghe FALCĂ', 'Gheorghe-Vlad NISTOR', 'Brice HORTEFEUX', 'Anna DEPARNAY-GRUNENBERG', 'Teuvo HAKKARAINEN', 'Ibán GARCÍA DEL BLANCO', 'Marcos ROS SEMPERE', 'Marcel KOLAJA', 'Ilana CICUREL', 'Anna CAVAZZINI', 'Jean-Lin LACAPELLE', 'Tomislav SOKOL', 'Jan OLBRYCHT', 'Salvatore DE MEO', 'Pilar del CASTILLO VERA', 'Dominik TARCZYŃSKI', 'Kim VAN SPARRENTAK', 'Marco ZULLO', 'Geoffroy DIDIER', 'Chris MACMANUS', 'Salima YENBOU', 'Angelika NIEBLER', 'Ciarán CUFFE', 'Carles PUIGDEMONT I CASAMAJÓ', 'Margarita DE LA PISA CARRIÓN', 'Christian DOLESCHAL', 'Sven MIKSER', 'Klaus BUCHNER', 'Guy VERHOFSTADT', 'Evelyne GEBHARDT', 'Clara PONSATÍ OBIOLS', 'Hynek BLAŠKO', 'Miroslav RADAČOVSKÝ', 'Sylvia LIMMER', 'Andris AMERIKS', 'Alviina ALAMETSÄ', 'Gilbert COLLARD', 'Róża THUN UND HOHENSTEIN', 'Marion WALSMANN', 'Helmut GEUKING', 'Aušra MALDEIKIENĖ', 'Alice KUHNKE', 'Bogusław LIBERADZKI', 'Henrike HAHN', 'Romana JERKOVIĆ', 'Liudas MAŽYLIS', 'Terry REINTKE', 'Barry ANDREWS', 'Andrus ANSIP', 'Roman HAIDER', 'Petra DE SUTTER', 'Andrea CAROPPO', 'Maximilian KRAH', 'Othmar KARAS', 'Irene TINAGLI', 'Fulvio MARTUSCIELLO', 'Sergio BERLATO', 'Riho TERRAS', 'Lefteris NIKOLAOU-ALAVANOS', 'Nora MEBAREK', 'Lívia JÁRÓKA', 'József SZÁJER', 'Sven SIMON', 'Elena YONCHEVA', 'Włodzimierz CIMOSZEWICZ', 'Michael BLOSS', 'Linea SØGAARD-LIDELL', 'Nicolaus FEST', 'Thomas WAITZ', 'Dorien ROOKMAKER', 'Claude GRUFFAT', 'Marek Paweł BALT', 'Peter KOFOD', 'Eugen TOMAC', 'Damien CARÊME', 'Gerolf ANNEMANS', 'Christian SAGARTZ', 'Jakop G. DALUNDE', 'Rainer WIELAND', 'Manuela RIPA', 'Filip DE MAN', 'Alexander ALEXANDROV YORDANOV', 'Vlad GHEORGHE', 'Georg MAYER', 'Iratxe GARCÍA PÉREZ', 'Jordi SOLÉ', 'Sara MATTHIEU', 'Alin MITUȚA', 'Colm MARKEY', 'Cyrus ENGERER', 'Ernő SCHALLER-BAROSS', 'Tom VANDENKENDELAERE', 'Emma WIESNER', 'Mislav KOLAKUŠIĆ', 'Michiel HOOGEVEEN', 'Thijs REUTEN', 'João PIMENTA LOPES', 'Ruža TOMAŠIĆ', 'Karolin BRAUNSBERGER-REINHOLD', 'Jordan BARDELLA', 'Ilan DE BASSO', 'Sandro GOZI', 'Karsten LUCKE', 'Catharina RINZEMA', 'Malte GALLÉE', 'René REPASI', 'Camilla LAURETI', 'Manfred WEBER']\n",
      "754\n"
     ]
    }
   ],
   "source": [
    "print(mep_social_network.nodes())\n",
    "print(len(mep_social_network.nodes()))"
   ]
  },
  {
   "cell_type": "markdown",
   "id": "b29aab64",
   "metadata": {},
   "source": [
    "Szóval, van egy 754 csúcsú gráfunk a social networkről, most már minden csúcs az MEP-k NEVÉVEL van címkézve. Így egy kicsit át kell írogatni valszeg algoritmusokat, de alapvetően mostly ugyanaz marad a buli."
   ]
  },
  {
   "cell_type": "markdown",
   "id": "5f36a454",
   "metadata": {},
   "source": [
    "Két fő gráfunk van: az `mep_social_network` a fontosabb: ebben az MEP-k vannak, és az élek a co-sponsorship. A `myGraph` pedig az eredeti páros gráf, amiben az egyik oldal az MEP-k, a másik oldal az amendmentek, és az él azt jelenti hogy az adott MEP sikeresen kontribuált az adott amendmenthez.\n",
    "\n",
    "TODO: kéne csinálni olyan gráfokat is, amik az időbeli változását tudják mutatni a dolognak."
   ]
  },
  {
   "cell_type": "code",
   "execution_count": 15,
   "id": "ed423b3a",
   "metadata": {},
   "outputs": [
    {
     "data": {
      "text/plain": [
       "[0,\n",
       " 134299,\n",
       " 32769,\n",
       " 20866,\n",
       " 16829,\n",
       " 13583,\n",
       " 9798,\n",
       " 8115,\n",
       " 5789,\n",
       " 4525,\n",
       " 3260,\n",
       " 2349,\n",
       " 1982,\n",
       " 1370,\n",
       " 780,\n",
       " 829,\n",
       " 461,\n",
       " 359,\n",
       " 182,\n",
       " 130,\n",
       " 85,\n",
       " 52,\n",
       " 71,\n",
       " 55,\n",
       " 84,\n",
       " 5,\n",
       " 4,\n",
       " 0,\n",
       " 7,\n",
       " 1,\n",
       " 0,\n",
       " 1,\n",
       " 0,\n",
       " 2,\n",
       " 1,\n",
       " 0,\n",
       " 1,\n",
       " 2,\n",
       " 0,\n",
       " 0,\n",
       " 0,\n",
       " 0,\n",
       " 0,\n",
       " 1,\n",
       " 0,\n",
       " 0,\n",
       " 0,\n",
       " 1,\n",
       " 2,\n",
       " 0,\n",
       " 2,\n",
       " 0,\n",
       " 1,\n",
       " 1,\n",
       " 0,\n",
       " 1,\n",
       " 0,\n",
       " 0,\n",
       " 1,\n",
       " 0,\n",
       " 0,\n",
       " 1,\n",
       " 0,\n",
       " 0,\n",
       " 0,\n",
       " 0,\n",
       " 0,\n",
       " 0,\n",
       " 1,\n",
       " 0,\n",
       " 0,\n",
       " 0,\n",
       " 0,\n",
       " 0,\n",
       " 1,\n",
       " 1,\n",
       " 1,\n",
       " 1,\n",
       " 0,\n",
       " 0,\n",
       " 1,\n",
       " 0,\n",
       " 0,\n",
       " 1,\n",
       " 0,\n",
       " 1,\n",
       " 1,\n",
       " 1,\n",
       " 0,\n",
       " 0,\n",
       " 1,\n",
       " 0,\n",
       " 0,\n",
       " 0,\n",
       " 0,\n",
       " 0,\n",
       " 0,\n",
       " 0,\n",
       " 1,\n",
       " 0,\n",
       " 0,\n",
       " 0,\n",
       " 0,\n",
       " 0,\n",
       " 1,\n",
       " 0,\n",
       " 0,\n",
       " 0,\n",
       " 0,\n",
       " 0,\n",
       " 1,\n",
       " 0,\n",
       " 1,\n",
       " 0,\n",
       " 0,\n",
       " 0,\n",
       " 0,\n",
       " 0,\n",
       " 0,\n",
       " 0,\n",
       " 0,\n",
       " 0,\n",
       " 1,\n",
       " 1,\n",
       " 2,\n",
       " 1,\n",
       " 0,\n",
       " 0,\n",
       " 1,\n",
       " 0,\n",
       " 1,\n",
       " 0,\n",
       " 0,\n",
       " 0,\n",
       " 0,\n",
       " 0,\n",
       " 0,\n",
       " 1,\n",
       " 0,\n",
       " 0,\n",
       " 1,\n",
       " 0,\n",
       " 1,\n",
       " 0,\n",
       " 0,\n",
       " 0,\n",
       " 1,\n",
       " 1,\n",
       " 0,\n",
       " 0,\n",
       " 0,\n",
       " 1,\n",
       " 0,\n",
       " 0,\n",
       " 0,\n",
       " 1,\n",
       " 0,\n",
       " 0,\n",
       " 0,\n",
       " 0,\n",
       " 0,\n",
       " 1,\n",
       " 0,\n",
       " 2,\n",
       " 1,\n",
       " 0,\n",
       " 0,\n",
       " 0,\n",
       " 0,\n",
       " 0,\n",
       " 0,\n",
       " 0,\n",
       " 1,\n",
       " 2,\n",
       " 1,\n",
       " 1,\n",
       " 0,\n",
       " 0,\n",
       " 0,\n",
       " 1,\n",
       " 0,\n",
       " 0,\n",
       " 0,\n",
       " 0,\n",
       " 1,\n",
       " 0,\n",
       " 0,\n",
       " 1,\n",
       " 0,\n",
       " 0,\n",
       " 0,\n",
       " 2,\n",
       " 1,\n",
       " 0,\n",
       " 0,\n",
       " 0,\n",
       " 0,\n",
       " 0,\n",
       " 0,\n",
       " 0,\n",
       " 0,\n",
       " 0,\n",
       " 0,\n",
       " 0,\n",
       " 0,\n",
       " 0,\n",
       " 0,\n",
       " 1,\n",
       " 0,\n",
       " 0,\n",
       " 0,\n",
       " 1,\n",
       " 1,\n",
       " 1,\n",
       " 0,\n",
       " 0,\n",
       " 0,\n",
       " 1,\n",
       " 0,\n",
       " 0,\n",
       " 0,\n",
       " 0,\n",
       " 0,\n",
       " 0,\n",
       " 0,\n",
       " 1,\n",
       " 0,\n",
       " 1,\n",
       " 0,\n",
       " 2,\n",
       " 2,\n",
       " 1,\n",
       " 1,\n",
       " 1,\n",
       " 1,\n",
       " 0,\n",
       " 0,\n",
       " 0,\n",
       " 1,\n",
       " 0,\n",
       " 2,\n",
       " 0,\n",
       " 1,\n",
       " 0,\n",
       " 1,\n",
       " 0,\n",
       " 0,\n",
       " 0,\n",
       " 0,\n",
       " 0,\n",
       " 1,\n",
       " 0,\n",
       " 1,\n",
       " 0,\n",
       " 0,\n",
       " 3,\n",
       " 0,\n",
       " 0,\n",
       " 0,\n",
       " 1,\n",
       " 0,\n",
       " 0,\n",
       " 1,\n",
       " 1,\n",
       " 1,\n",
       " 0,\n",
       " 1,\n",
       " 0,\n",
       " 0,\n",
       " 0,\n",
       " 0,\n",
       " 0,\n",
       " 0,\n",
       " 1,\n",
       " 1,\n",
       " 0,\n",
       " 1,\n",
       " 0,\n",
       " 1,\n",
       " 0,\n",
       " 0,\n",
       " 1,\n",
       " 1,\n",
       " 1,\n",
       " 0,\n",
       " 0,\n",
       " 0,\n",
       " 0,\n",
       " 0,\n",
       " 1,\n",
       " 2,\n",
       " 0,\n",
       " 2,\n",
       " 0,\n",
       " 1,\n",
       " 1,\n",
       " 1,\n",
       " 0,\n",
       " 1,\n",
       " 1,\n",
       " 0,\n",
       " 0,\n",
       " 1,\n",
       " 0,\n",
       " 0,\n",
       " 1,\n",
       " 2,\n",
       " 0,\n",
       " 0,\n",
       " 0,\n",
       " 0,\n",
       " 1,\n",
       " 0,\n",
       " 0,\n",
       " 0,\n",
       " 1,\n",
       " 0,\n",
       " 0,\n",
       " 0,\n",
       " 0,\n",
       " 1,\n",
       " 0,\n",
       " 0,\n",
       " 0,\n",
       " 0,\n",
       " 0,\n",
       " 0,\n",
       " 0,\n",
       " 0,\n",
       " 1,\n",
       " 0,\n",
       " 1,\n",
       " 0,\n",
       " 0,\n",
       " 0,\n",
       " 1,\n",
       " 0,\n",
       " 1,\n",
       " 2,\n",
       " 2,\n",
       " 0,\n",
       " 1,\n",
       " 0,\n",
       " 1,\n",
       " 3,\n",
       " 0,\n",
       " 0,\n",
       " 1,\n",
       " 0,\n",
       " 0,\n",
       " 2,\n",
       " 0,\n",
       " 3,\n",
       " 0,\n",
       " 0,\n",
       " 1,\n",
       " 0,\n",
       " 1,\n",
       " 1,\n",
       " 0,\n",
       " 0,\n",
       " 0,\n",
       " 1,\n",
       " 0,\n",
       " 0,\n",
       " 2,\n",
       " 1,\n",
       " 0,\n",
       " 0,\n",
       " 0,\n",
       " 0,\n",
       " 2,\n",
       " 0,\n",
       " 0,\n",
       " 0,\n",
       " 0,\n",
       " 2,\n",
       " 1,\n",
       " 0,\n",
       " 1,\n",
       " 0,\n",
       " 0,\n",
       " 0,\n",
       " 1,\n",
       " 0,\n",
       " 0,\n",
       " 0,\n",
       " 2,\n",
       " 1,\n",
       " 0,\n",
       " 0,\n",
       " 1,\n",
       " 0,\n",
       " 2,\n",
       " 0,\n",
       " 0,\n",
       " 2,\n",
       " 0,\n",
       " 0,\n",
       " 0,\n",
       " 0,\n",
       " 0,\n",
       " 1,\n",
       " 1,\n",
       " 1,\n",
       " 0,\n",
       " 0,\n",
       " 0,\n",
       " 0,\n",
       " 0,\n",
       " 0,\n",
       " 1,\n",
       " 0,\n",
       " 0,\n",
       " 0,\n",
       " 1,\n",
       " 0,\n",
       " 1,\n",
       " 0,\n",
       " 2,\n",
       " 0,\n",
       " 1,\n",
       " 0,\n",
       " 0,\n",
       " 1,\n",
       " 0,\n",
       " 0,\n",
       " 1,\n",
       " 0,\n",
       " 0,\n",
       " 1,\n",
       " 0,\n",
       " 1,\n",
       " 0,\n",
       " 0,\n",
       " 0,\n",
       " 1,\n",
       " 0,\n",
       " 0,\n",
       " 0,\n",
       " 0,\n",
       " 0,\n",
       " 1,\n",
       " 0,\n",
       " 1,\n",
       " 1,\n",
       " 0,\n",
       " 2,\n",
       " 0,\n",
       " 1,\n",
       " 0,\n",
       " 0,\n",
       " 0,\n",
       " 0,\n",
       " 0,\n",
       " 0,\n",
       " 0,\n",
       " 2,\n",
       " 0,\n",
       " 0,\n",
       " 1,\n",
       " 1,\n",
       " 0,\n",
       " 1,\n",
       " 0,\n",
       " 1,\n",
       " 0,\n",
       " 0,\n",
       " 1,\n",
       " 0,\n",
       " 1,\n",
       " 0,\n",
       " 0,\n",
       " 1,\n",
       " 1,\n",
       " 0,\n",
       " 1,\n",
       " 0,\n",
       " 0,\n",
       " 0,\n",
       " 1,\n",
       " 1,\n",
       " 0,\n",
       " 0,\n",
       " 0,\n",
       " 1,\n",
       " 0,\n",
       " 1,\n",
       " 1,\n",
       " 0,\n",
       " 0,\n",
       " 0,\n",
       " 1,\n",
       " 0,\n",
       " 0,\n",
       " 0,\n",
       " 0,\n",
       " 1,\n",
       " 0,\n",
       " 1,\n",
       " 0,\n",
       " 1,\n",
       " 0,\n",
       " 1,\n",
       " 2,\n",
       " 0,\n",
       " 0,\n",
       " 1,\n",
       " 1,\n",
       " 1,\n",
       " 0,\n",
       " 0,\n",
       " 0,\n",
       " 1,\n",
       " 0,\n",
       " 0,\n",
       " 1,\n",
       " 0,\n",
       " 0,\n",
       " 0,\n",
       " 1,\n",
       " 2,\n",
       " 0,\n",
       " 1,\n",
       " 2,\n",
       " 0,\n",
       " 2,\n",
       " 1,\n",
       " 1,\n",
       " 1,\n",
       " 0,\n",
       " 0,\n",
       " 1,\n",
       " 0,\n",
       " 0,\n",
       " 1,\n",
       " 0,\n",
       " 0,\n",
       " 1,\n",
       " 1,\n",
       " 1,\n",
       " 0,\n",
       " 0,\n",
       " 0,\n",
       " 1,\n",
       " 0,\n",
       " 1,\n",
       " 0,\n",
       " 0,\n",
       " 0,\n",
       " 0,\n",
       " 1,\n",
       " 1,\n",
       " 1,\n",
       " 1,\n",
       " 0,\n",
       " 2,\n",
       " 0,\n",
       " 0,\n",
       " 0,\n",
       " 2,\n",
       " 0,\n",
       " 1,\n",
       " 0,\n",
       " 0,\n",
       " 0,\n",
       " 0,\n",
       " 0,\n",
       " 0,\n",
       " 0,\n",
       " 0,\n",
       " 0,\n",
       " 0,\n",
       " 0,\n",
       " 0,\n",
       " 0,\n",
       " 2,\n",
       " 0,\n",
       " 1,\n",
       " 0,\n",
       " 0,\n",
       " 1,\n",
       " 0,\n",
       " 0,\n",
       " 0,\n",
       " 1,\n",
       " 0,\n",
       " 0,\n",
       " 0,\n",
       " 0,\n",
       " 0,\n",
       " 4,\n",
       " 0,\n",
       " 0,\n",
       " 2,\n",
       " 1,\n",
       " 0,\n",
       " 0,\n",
       " 1,\n",
       " 0,\n",
       " 1,\n",
       " 0,\n",
       " 0,\n",
       " 1,\n",
       " 1,\n",
       " 0,\n",
       " 1,\n",
       " 0,\n",
       " 0,\n",
       " 1,\n",
       " 1,\n",
       " 1,\n",
       " 1,\n",
       " 1,\n",
       " 0,\n",
       " 1,\n",
       " 1,\n",
       " 0,\n",
       " 1,\n",
       " 1,\n",
       " 0,\n",
       " 0,\n",
       " 2,\n",
       " 0,\n",
       " 0,\n",
       " 1,\n",
       " 0,\n",
       " 2,\n",
       " 1,\n",
       " 2,\n",
       " 0,\n",
       " 0,\n",
       " 1,\n",
       " 0,\n",
       " 0,\n",
       " 2,\n",
       " 0,\n",
       " 0,\n",
       " 0,\n",
       " 0,\n",
       " 0,\n",
       " 0,\n",
       " 0,\n",
       " 1,\n",
       " 0,\n",
       " 0,\n",
       " 0,\n",
       " 0,\n",
       " 0,\n",
       " 0,\n",
       " 0,\n",
       " 1,\n",
       " 2,\n",
       " 0,\n",
       " 0,\n",
       " 0,\n",
       " 0,\n",
       " 0,\n",
       " 1,\n",
       " 0,\n",
       " 0,\n",
       " 0,\n",
       " 0,\n",
       " 0,\n",
       " 0,\n",
       " 0,\n",
       " 0,\n",
       " 0,\n",
       " 0,\n",
       " 0,\n",
       " 0,\n",
       " 0,\n",
       " 1,\n",
       " 0,\n",
       " 0,\n",
       " 0,\n",
       " 1,\n",
       " 0,\n",
       " 1,\n",
       " 0,\n",
       " 0,\n",
       " 0,\n",
       " 1,\n",
       " 0,\n",
       " 3,\n",
       " 0,\n",
       " 0,\n",
       " 0,\n",
       " 0,\n",
       " 0,\n",
       " 0,\n",
       " 0,\n",
       " 0,\n",
       " 1,\n",
       " 0,\n",
       " 2,\n",
       " 1,\n",
       " 0,\n",
       " 0,\n",
       " 1,\n",
       " 0,\n",
       " 0,\n",
       " 0,\n",
       " 2,\n",
       " 0,\n",
       " 1,\n",
       " 0,\n",
       " 2,\n",
       " 0,\n",
       " 1,\n",
       " 0,\n",
       " 0,\n",
       " 0,\n",
       " 0,\n",
       " 1,\n",
       " 0,\n",
       " 0,\n",
       " 0,\n",
       " 1,\n",
       " 1,\n",
       " 0,\n",
       " 0,\n",
       " 1,\n",
       " 0,\n",
       " 0,\n",
       " 0,\n",
       " 1,\n",
       " 0,\n",
       " 0,\n",
       " 1,\n",
       " 2,\n",
       " 0,\n",
       " 0,\n",
       " 0,\n",
       " 0,\n",
       " 1,\n",
       " 1,\n",
       " 0,\n",
       " 1,\n",
       " 0,\n",
       " 1,\n",
       " 1,\n",
       " 0,\n",
       " 0,\n",
       " 1,\n",
       " 1,\n",
       " 1,\n",
       " 0,\n",
       " 1,\n",
       " 1,\n",
       " 0,\n",
       " 3,\n",
       " 0,\n",
       " 1,\n",
       " 1,\n",
       " 0,\n",
       " 1,\n",
       " 0,\n",
       " 0,\n",
       " 1,\n",
       " 0,\n",
       " 0,\n",
       " 1,\n",
       " 1,\n",
       " 3,\n",
       " 1,\n",
       " 0,\n",
       " 0,\n",
       " 0,\n",
       " 0,\n",
       " 0,\n",
       " 2,\n",
       " 1,\n",
       " 1,\n",
       " 0,\n",
       " 0,\n",
       " 0,\n",
       " 0,\n",
       " 0,\n",
       " 2,\n",
       " 0,\n",
       " 0,\n",
       " 0,\n",
       " 0,\n",
       " 1,\n",
       " 1,\n",
       " 1,\n",
       " 0,\n",
       " 0,\n",
       " 0,\n",
       " 1,\n",
       " 1,\n",
       " 1,\n",
       " 1,\n",
       " 1,\n",
       " 0,\n",
       " 1,\n",
       " 0,\n",
       " 1,\n",
       " 0,\n",
       " 2,\n",
       " 1,\n",
       " 1,\n",
       " 1,\n",
       " 0,\n",
       " 1,\n",
       " 0,\n",
       " 0,\n",
       " 0,\n",
       " 0,\n",
       " 0,\n",
       " 0,\n",
       " 0,\n",
       " 0,\n",
       " 1,\n",
       " 0,\n",
       " 1,\n",
       " 1,\n",
       " 1,\n",
       " 0,\n",
       " 1,\n",
       " 0,\n",
       " 1,\n",
       " 0,\n",
       " 0,\n",
       " 0,\n",
       " 0,\n",
       " 2,\n",
       " 0,\n",
       " 1,\n",
       " 1,\n",
       " 0,\n",
       " 0,\n",
       " 0,\n",
       " 0,\n",
       " 0,\n",
       " 0,\n",
       " 1,\n",
       " 1,\n",
       " 0,\n",
       " 1,\n",
       " 0,\n",
       " 1,\n",
       " 0,\n",
       " 1,\n",
       " 0,\n",
       " 0,\n",
       " 1,\n",
       " 0,\n",
       " 0,\n",
       " 0,\n",
       " 0,\n",
       " 0,\n",
       " 2,\n",
       " 1,\n",
       " 1,\n",
       " 0,\n",
       " 0,\n",
       " 2,\n",
       " 0,\n",
       " 0,\n",
       " 1,\n",
       " 0,\n",
       " 0,\n",
       " 0,\n",
       " 0,\n",
       " 0,\n",
       " 0,\n",
       " 0,\n",
       " 0,\n",
       " 0,\n",
       " 1,\n",
       " 2,\n",
       " 1,\n",
       " 1,\n",
       " 0,\n",
       " 1,\n",
       " 0,\n",
       " 0,\n",
       " 0,\n",
       " 1,\n",
       " 0,\n",
       " 0,\n",
       " 0,\n",
       " 1,\n",
       " 0,\n",
       " 0,\n",
       " 0,\n",
       " 0,\n",
       " 0,\n",
       " 0,\n",
       " 1,\n",
       " 0,\n",
       " 1,\n",
       " 2,\n",
       " 1,\n",
       " 1,\n",
       " 0,\n",
       " 1,\n",
       " 0,\n",
       " 0,\n",
       " 0,\n",
       " 0,\n",
       " 0,\n",
       " 0,\n",
       " 1,\n",
       " 1,\n",
       " 0,\n",
       " 0,\n",
       " 0,\n",
       " 0,\n",
       " 0,\n",
       " 0,\n",
       " 1,\n",
       " 0,\n",
       " 1,\n",
       " 0,\n",
       " 0,\n",
       " 0,\n",
       " 0,\n",
       " 0,\n",
       " 1,\n",
       " 1,\n",
       " 0,\n",
       " 2,\n",
       " 1,\n",
       " 1,\n",
       " 0,\n",
       " 0,\n",
       " 1,\n",
       " 1,\n",
       " 0,\n",
       " 0,\n",
       " 1,\n",
       " 0,\n",
       " 1,\n",
       " 1,\n",
       " 0,\n",
       " 0,\n",
       " 0,\n",
       " 2,\n",
       " 0,\n",
       " 1,\n",
       " 0,\n",
       " 1,\n",
       " 0,\n",
       " 0,\n",
       " 1,\n",
       " 0,\n",
       " 0,\n",
       " 0,\n",
       " 0,\n",
       " 1,\n",
       " 0,\n",
       " 0,\n",
       " 0,\n",
       " 0,\n",
       " 0,\n",
       " 0,\n",
       " 1,\n",
       " 0,\n",
       " 0,\n",
       " 1,\n",
       " 0,\n",
       " 0,\n",
       " 0,\n",
       " 0,\n",
       " 2,\n",
       " 0,\n",
       " 0,\n",
       " 0,\n",
       " 2,\n",
       " 0,\n",
       " 2,\n",
       " 0,\n",
       " 0,\n",
       " 1,\n",
       " 0,\n",
       " 0,\n",
       " 0,\n",
       " 1,\n",
       " 1,\n",
       " 1,\n",
       " 0,\n",
       " 0,\n",
       " 0,\n",
       " 0,\n",
       " 0,\n",
       " 1,\n",
       " 0,\n",
       " 0,\n",
       " 1,\n",
       " 0,\n",
       " 1,\n",
       " 0,\n",
       " 0,\n",
       " 0,\n",
       " 0,\n",
       " 1,\n",
       " 0,\n",
       " ...]"
      ]
     },
     "execution_count": 15,
     "metadata": {},
     "output_type": "execute_result"
    }
   ],
   "source": [
    "deg_hist = nx.degree_histogram(myGraph)\n",
    "deg_hist\n"
   ]
  },
  {
   "cell_type": "code",
   "execution_count": 16,
   "id": "710eaa2a",
   "metadata": {},
   "outputs": [
    {
     "data": {
      "text/plain": [
       "[('Olivier CHASTEL', 5155),\n",
       " ('Lina GÁLVEZ MUÑOZ', 4483),\n",
       " ('Marc ANGEL', 4350),\n",
       " ('Maria-Manuel LEITÃO-MARQUES', 4245),\n",
       " ('Maria GRAPINI', 4200),\n",
       " ('Nicolae ŞTEFĂNUȚĂ', 3914),\n",
       " ('Milan BRGLEZ', 3650),\n",
       " ('Ramona STRUGARIU', 3544),\n",
       " ('Manuel PIZARRO', 3533),\n",
       " ('Dragoș PÎSLARU', 3491)]"
      ]
     },
     "execution_count": 16,
     "metadata": {},
     "output_type": "execute_result"
    }
   ],
   "source": [
    "degs = dict(myGraph.degree())\n",
    "\n",
    "sorted_nodes = sorted(degs.items(), key=lambda x: x[1], reverse=True)\n",
    "sorted_nodes[:10]"
   ]
  },
  {
   "cell_type": "markdown",
   "id": "7f7cba9c",
   "metadata": {},
   "source": [
    "Akkor I guess ezek a legaktívabb EP képviselők. Jár nekik a keksz.\n",
    "\n",
    "Itt megnézzük hogy ők kik és miért."
   ]
  },
  {
   "cell_type": "code",
   "execution_count": 17,
   "id": "b47c714f",
   "metadata": {},
   "outputs": [
    {
     "name": "stdout",
     "output_type": "stream",
     "text": [
      "{'OfficialMEPID': '197463', 'MEPName': 'Olivier CHASTEL', 'MemberState': 'Belgium', 'EPGroup': 'RE', 'NationalParty': 'Reformist Movement'}\n",
      "{'OfficialMEPID': '197702', 'MEPName': 'Lina GÁLVEZ MUÑOZ', 'MemberState': 'Spain', 'EPGroup': 'S&D', 'NationalParty': \"Spanish Socialist Workers' Party\"}\n",
      "{'OfficialMEPID': '202073', 'MEPName': 'Marc ANGEL', 'MemberState': 'Luxembourg', 'EPGroup': 'S&D', 'NationalParty': \"Luxembourg Socialist Worker's Party\"}\n",
      "{'OfficialMEPID': '197635', 'MEPName': 'Maria-Manuel LEITÃO-MARQUES', 'MemberState': 'Portugal', 'EPGroup': 'S&D', 'NationalParty': 'Socialist Party'}\n",
      "{'OfficialMEPID': '124785', 'MEPName': 'Maria GRAPINI', 'MemberState': 'Romania', 'EPGroup': 'S&D', 'NationalParty': 'Social Democratic Party'}\n",
      "{'OfficialMEPID': '58766', 'MEPName': 'Nicolae ŞTEFĂNUȚĂ', 'MemberState': 'Romania', 'EPGroup': 'RE', 'NationalParty': 'Save Romania Party'}\n",
      "{'OfficialMEPID': '197446', 'MEPName': 'Milan BRGLEZ', 'MemberState': 'Slovenia', 'EPGroup': 'S&D', 'NationalParty': 'Social Democrats'}\n",
      "{'OfficialMEPID': '134605', 'MEPName': 'Ramona STRUGARIU', 'MemberState': 'Romania', 'EPGroup': 'RE', 'NationalParty': 'Save Romania Party'}\n",
      "{'OfficialMEPID': '197732', 'MEPName': 'Manuel PIZARRO', 'MemberState': 'Portugal', 'EPGroup': 'S&D', 'NationalParty': 'Socialist Party'}\n",
      "{'OfficialMEPID': '197663', 'MEPName': 'Dragoș PÎSLARU', 'MemberState': 'Romania', 'EPGroup': 'RE', 'NationalParty': 'Save Romania Party'}\n"
     ]
    }
   ],
   "source": [
    "for i in sorted_nodes[:10]:\n",
    "    print(getMEPData(\"MEPName\", i[0]))"
   ]
  },
  {
   "cell_type": "markdown",
   "id": "0434c12f",
   "metadata": {},
   "source": [
    "Ami talán érezhető ezekből az adatokból, hogy a top 10 aktív MEP-nek a csoportja mind RE vagy S&D. A tagállamok közül Románia képviselteti magát nagyon erősen."
   ]
  },
  {
   "cell_type": "markdown",
   "id": "564e4274",
   "metadata": {},
   "source": [
    "A következő fokszám gyakoriság ábrán csak a 0 és 20 kozotti ertekek látszodnak rendesen (bár amik nem egy számjegyű a gyakoriságuk azon fokszámok kb 1 és 25 közt vannak)"
   ]
  },
  {
   "cell_type": "code",
   "execution_count": 18,
   "id": "30f25bbb",
   "metadata": {},
   "outputs": [
    {
     "data": {
      "image/png": "[encoded data removed]",
      "text/plain": [
       "<Figure size 640x480 with 1 Axes>"
      ]
     },
     "metadata": {},
     "output_type": "display_data"
    }
   ],
   "source": [
    "plt.bar(list(x for x in range(len(deg_hist[:20]))), deg_hist[:20], align='center')\n",
    "plt.title(\"Degree Histogram\")\n",
    "plt.xlabel(\"Degree\")\n",
    "plt.ylabel(\"Frequency\")\n",
    "plt.show()"
   ]
  },
  {
   "cell_type": "markdown",
   "id": "9248ba71",
   "metadata": {},
   "source": [
    "Esetleg latvanyosabb ha azt mondjuk hogy kizárjuk az 1 fokszámot, merthogy az csak 1 ember javaslata/ 1 db javaslat (A többi 25 - nél nagyobb fokszám pedig nagyjából mind 0,1,2,3 gyakoriságú)\n",
    "\n",
    "^- Ez nem igazán így van. A degree-k itt azt jelentik, hogy egy adott MEP hány emberrel kollaborált."
   ]
  },
  {
   "cell_type": "code",
   "execution_count": 19,
   "id": "c121c35e",
   "metadata": {},
   "outputs": [
    {
     "data": {
      "image/png": "[encoded data removed]",
      "text/plain": [
       "<Figure size 640x480 with 1 Axes>"
      ]
     },
     "metadata": {},
     "output_type": "display_data"
    }
   ],
   "source": [
    "plt.bar(list(x for x in range(len(deg_hist[2:25]))), deg_hist[2:25], align='center')\n",
    "plt.title(\"Degree Histogram\")\n",
    "plt.xlabel(\"Degree\")\n",
    "plt.ylabel(\"Frequency\")\n",
    "plt.show()"
   ]
  },
  {
   "cell_type": "code",
   "execution_count": 11,
   "id": "7f59a948",
   "metadata": {},
   "outputs": [
    {
     "name": "stdout",
     "output_type": "stream",
     "text": [
      "{'Czechia': 1020, 'Poland': 2531, 'France': 4243, 'Netherlands': 1941, 'Slovakia': 1201, 'Romania': 2497, 'Spain': 3853, 'Croatia': 636, 'Greece': 1092, 'Portugal': 1406, 'Italy': 3550, 'United Kingdom': 268, 'Belgium': 1411, 'Germany': 5539, 'Finland': 859, 'Bulgaria': 1260, 'Ireland': 806, 'Hungary': 1135, 'Sweden': 1613, 'Malta': 614, 'Austria': 1272, 'Slovenia': 760, 'Latvia': 426, 'Cyprus': 502, 'Luxembourg': 623, 'Lithuania': 541, 'Estonia': 423, 'Denmark': 955, '': 175}\n"
     ]
    }
   ],
   "source": [
    "### melyik ország politikusai csináltak többet?\n",
    "\n",
    "contribs_by_country = {}\n",
    "\n",
    "for node in mep_social_network:\n",
    "    curr_country = getMEPData(\"MEPName\", node)[\"MemberState\"]\n",
    "    if curr_country not in contribs_by_country:\n",
    "        contribs_by_country[curr_country] = 0\n",
    "    contribs_by_country[curr_country] += mep_social_network.degree(node)\n",
    "\n",
    "print(contribs_by_country)"
   ]
  },
  {
   "cell_type": "markdown",
   "id": "a81e11ab",
   "metadata": {},
   "source": [
    "Az üres string ország politikusai nem tudom mit reprezentálnak.\n",
    "\n",
    "TODO: ebből ábrát kéne csinálni, szépet, ami mutatja hogy melyik ország politikusai mennyit adnak hozzá a bulihoz"
   ]
  },
  {
   "cell_type": "code",
   "execution_count": 12,
   "id": "69e76f43",
   "metadata": {},
   "outputs": [],
   "source": [
    "del contribs_by_country[\"\"] # kidobom az üres stringet mert bruh"
   ]
  },
  {
   "cell_type": "code",
   "execution_count": 13,
   "id": "655b6a11",
   "metadata": {},
   "outputs": [
    {
     "name": "stdout",
     "output_type": "stream",
     "text": [
      "{'Czechia': 96.91978472025387, 'Poland': 66.54201672210608, 'France': 65.00773703915328, 'Netherlands': 110.34257247250133, 'Slovakia': 221.22785326827773, 'Romania': 131.04987111504965, 'Spain': 81.28555135295402, 'Croatia': 164.26328304965634, 'Greece': 104.67308783021028, 'Portugal': 135.93648150364697, 'Italy': 60.322119779781104, 'United Kingdom': 4.001194386383995, 'Belgium': 121.80585510645365, 'Germany': 66.54482680107976, 'Finland': 154.38616671189817, 'Bulgaria': 193.25778794375094, 'Ireland': 156.53102392458234, 'Hungary': 116.1391934885103, 'Sweden': 153.30432114793666, 'Malta': 1181.764640216182, 'Austria': 139.68618488257246, 'Slovenia': 360.6716085004603, 'Latvia': 225.01311255990447, 'Cyprus': 546.7813963620521, 'Luxembourg': 965.2973286209883, 'Lithuania': 192.47456471752668, 'Estonia': 317.6095339924795, 'Denmark': 160.97348673966155}\n"
     ]
    }
   ],
   "source": [
    "## ugyanez csak normáljuk az adatsort az országok populációjával\n",
    "contribs_by_country_per_million = { country : val*(10**6)/(getPopulationData(country)) for country, val in contribs_by_country.items()}\n",
    "print(contribs_by_country_per_million)"
   ]
  },
  {
   "cell_type": "code",
   "execution_count": 19,
   "id": "a368d0e7",
   "metadata": {},
   "outputs": [
    {
     "name": "stdout",
     "output_type": "stream",
     "text": [
      "{'Czechia': 48.57142857142857, 'Poland': 49.627450980392155, 'France': 57.33783783783784, 'Netherlands': 74.65384615384616, 'Slovakia': 92.38461538461539, 'Romania': 78.03125, 'Spain': 66.43103448275862, 'Croatia': 57.81818181818182, 'Greece': 52.0, 'Portugal': 66.95238095238095, 'Italy': 48.63013698630137, 'United Kingdom': 3.671232876712329, 'Belgium': 67.19047619047619, 'Germany': 57.697916666666664, 'Finland': 66.07692307692308, 'Bulgaria': 74.11764705882354, 'Ireland': 73.27272727272727, 'Hungary': 54.04761904761905, 'Sweden': 80.65, 'Malta': 102.33333333333333, 'Austria': 70.66666666666667, 'Slovenia': 95.0, 'Latvia': 53.25, 'Cyprus': 83.66666666666667, 'Luxembourg': 103.83333333333333, 'Lithuania': 49.18181818181818, 'Estonia': 70.5, 'Denmark': 73.46153846153847}\n"
     ]
    }
   ],
   "source": [
    "contribs_by_country_per_mep = { country : val/(getNumberOfMEPs(country)) for country, val in contribs_by_country.items()}\n",
    "print(contribs_by_country_per_mep)"
   ]
  },
  {
   "cell_type": "code",
   "execution_count": 16,
   "id": "df5d41b3",
   "metadata": {},
   "outputs": [
    {
     "name": "stdout",
     "output_type": "stream",
     "text": [
      "{'EPP': 13384, 'ECR': 2118, 'ID': 2090, 'Greens/EFA': 2288, 'RE': 8995, 'S&D': 11672, 'NI': 614, 'GUE/NGL': 1816, '': 175}\n"
     ]
    }
   ],
   "source": [
    "### melyik EP group politikusai csináltak többet?\n",
    "\n",
    "contribs_by_epgroup = {}\n",
    "\n",
    "for node in mep_social_network:\n",
    "    curr = getMEPData(\"MEPName\", node)[\"EPGroup\"]\n",
    "    if curr not in contribs_by_epgroup:\n",
    "        contribs_by_epgroup[curr] = 0\n",
    "    contribs_by_epgroup[curr] += mep_social_network.degree(node)\n",
    "\n",
    "print(contribs_by_epgroup)"
   ]
  },
  {
   "cell_type": "code",
   "execution_count": 23,
   "id": "b1a08f75",
   "metadata": {},
   "outputs": [
    {
     "ename": "TypeError",
     "evalue": "'int' object is not subscriptable",
     "output_type": "error",
     "traceback": [
      "\u001b[0;31m---------------------------------------------------------------------------\u001b[0m",
      "\u001b[0;31mTypeError\u001b[0m                                 Traceback (most recent call last)",
      "Cell \u001b[0;32mIn[23], line 8\u001b[0m\n\u001b[1;32m      6\u001b[0m \u001b[39mfor\u001b[39;00m node \u001b[39min\u001b[39;00m myGraph\u001b[39m.\u001b[39mnodes():\n\u001b[1;32m      7\u001b[0m     \u001b[39mif\u001b[39;00m \u001b[39mtype\u001b[39m(node) \u001b[39m==\u001b[39m \u001b[39mint\u001b[39m: \u001b[39m# ez egy nagyon maszek módja hogy csak az amendmenteket nézzük\u001b[39;00m\n\u001b[0;32m----> 8\u001b[0m         \u001b[39mif\u001b[39;00m node[\u001b[39m1\u001b[39;49m]\u001b[39m.\u001b[39myear \u001b[39mnot\u001b[39;00m \u001b[39min\u001b[39;00m contribs_by_year:\n\u001b[1;32m      9\u001b[0m             contribs_by_year[node[\u001b[39m1\u001b[39m]\u001b[39m.\u001b[39myear] \u001b[39m=\u001b[39m \u001b[39m0\u001b[39m\n\u001b[1;32m     10\u001b[0m     \u001b[39mprint\u001b[39m(node)\n",
      "\u001b[0;31mTypeError\u001b[0m: 'int' object is not subscriptable"
     ]
    }
   ],
   "source": [
    "### melyik évben mennyit dolgoztak?\n",
    "### ez jelen pillanatban nem működik :(\n",
    "\n",
    "contribs_by_year = {}\n",
    "\n",
    "for node in myGraph.nodes():\n",
    "    if type(node) == int: # ez egy nagyon maszek módja hogy csak az amendmenteket nézzük\n",
    "        if node[1].year not in contribs_by_year:\n",
    "            contribs_by_year[node[1].year] = 0\n",
    "    print(node)\n",
    "        #contribs_by_year[node[1].year] += myGraph.degree(node)\n",
    "    #    contribs_by_year[node[1].year] += 1\n",
    "        \n",
    "#contribs_by_year"
   ]
  },
  {
   "cell_type": "markdown",
   "id": "e2579827",
   "metadata": {},
   "source": [
    "Nem igazán látszik se a COVID se az ukrajnai háború hatása a kontribúciók számában."
   ]
  },
  {
   "cell_type": "markdown",
   "id": "4f4bf044",
   "metadata": {},
   "source": [
    "## MEP_SOCIAL_NETWORK"
   ]
  },
  {
   "cell_type": "code",
   "execution_count": 24,
   "id": "c2b7808d",
   "metadata": {},
   "outputs": [
    {
     "data": {
      "text/plain": [
       "<networkx.classes.graph.Graph at 0x7f31100d3190>"
      ]
     },
     "execution_count": 24,
     "metadata": {},
     "output_type": "execute_result"
    }
   ],
   "source": [
    "mep_social_network"
   ]
  },
  {
   "cell_type": "code",
   "execution_count": 25,
   "id": "ef63e80e",
   "metadata": {},
   "outputs": [
    {
     "name": "stdout",
     "output_type": "stream",
     "text": [
      "Some information about this graph:\n",
      "Number of nodes: 754\n",
      "Number of edges: 21576\n",
      "\n"
     ]
    }
   ],
   "source": [
    "print(f\"Some information about this graph:\\n\"\n",
    "        f\"Number of nodes: {nx.number_of_nodes(mep_social_network)}\\n\"\n",
    "        f\"Number of edges: {nx.number_of_edges(mep_social_network)}\\n\")"
   ]
  },
  {
   "cell_type": "code",
   "execution_count": null,
   "id": "43fe6f7d",
   "metadata": {},
   "outputs": [],
   "source": []
  },
  {
   "cell_type": "markdown",
   "id": "324dfbc1",
   "metadata": {},
   "source": [
    "### By years 2020 and 2021"
   ]
  },
  {
   "cell_type": "markdown",
   "id": "0833144b",
   "metadata": {},
   "source": [
    "Let us create 2 social network graphs corresponding to the years 2020 and 2021"
   ]
  },
  {
   "cell_type": "code",
   "execution_count": 26,
   "id": "92b772f4",
   "metadata": {},
   "outputs": [
    {
     "ename": "",
     "evalue": "",
     "output_type": "error",
     "traceback": [
      "\u001b[1;31mCannot execute code, session has been disposed. Please try restarting the Kernel."
     ]
    },
    {
     "ename": "",
     "evalue": "",
     "output_type": "error",
     "traceback": [
      "\u001b[1;31mThe Kernel crashed while executing code in the the current cell or a previous cell. Please review the code in the cell(s) to identify a possible cause of the failure. Click <a href='https://aka.ms/vscodeJupyterKernelCrash'>here</a> for more info. View Jupyter <a href='command:jupyter.viewOutput'>log</a> for further details."
     ]
    }
   ],
   "source": [
    "df = pd.read_csv('db/ep_cosponsorship_dataset.csv', header = 0, keep_default_na = False)\n",
    "df2020 = df[df['Date'].str.contains(\"2020\") == True]\n",
    "df2021 = df[df['Date'].str.contains(\"2021\") == True]\n",
    "\n",
    "list_meps_2020 = pd.unique(df2020[\"OfficialMEPID\"])\n",
    "list_meps_2021 = pd.unique(df2021[\"OfficialMEPID\"])\n"
   ]
  },
  {
   "cell_type": "code",
   "execution_count": null,
   "id": "d9486ca6",
   "metadata": {},
   "outputs": [
    {
     "ename": "",
     "evalue": "",
     "output_type": "error",
     "traceback": [
      "\u001b[1;31mFailed to connect to the remote Jupyter Server 'https://bernatadam22-refactored-yodel-pvp7g4wrpr4h6qv4-8888.preview.app.github.dev/'. Verify the server is running and reachable. (Failed to connect to the remote Jupyter Server 'https://bernatadam22-refactored-yodel-pvp7g4wrpr4h6qv4-8888.preview.app.github.dev/'. Verify the server is running and reachable. (invalid json response body at https://bernatadam22-refactored-yodel-pvp7g4wrpr4h6qv4.github.dev/pf-signin?path=%2fapi%2fkernels&query=%3f1687455792994&visibility=private&port=8888&cid=75f608c86062ea28b40663e94ffb7e6c reason: Unexpected token < in JSON at position 0).)."
     ]
    }
   ],
   "source": [
    "myGraph2020 = nx.from_pandas_edgelist(df2020, source='AmendmentID', target='OfficialMEPID')\n",
    "myGraph2021 = nx.from_pandas_edgelist(df2021, source='AmendmentID', target='OfficialMEPID')\n",
    "\n",
    "\n",
    "print(f'The 2020 Graph is bipartite: {nx.is_bipartite(myGraph2020)}')\n",
    "print(f'The 2021 Graph is bipartite: {nx.is_bipartite(myGraph2021)}')\n"
   ]
  },
  {
   "cell_type": "code",
   "execution_count": null,
   "id": "0c5368be",
   "metadata": {},
   "outputs": [
    {
     "ename": "",
     "evalue": "",
     "output_type": "error",
     "traceback": [
      "\u001b[1;31mFailed to connect to the remote Jupyter Server 'https://bernatadam22-refactored-yodel-pvp7g4wrpr4h6qv4-8888.preview.app.github.dev/'. Verify the server is running and reachable. (Failed to connect to the remote Jupyter Server 'https://bernatadam22-refactored-yodel-pvp7g4wrpr4h6qv4-8888.preview.app.github.dev/'. Verify the server is running and reachable. (invalid json response body at https://bernatadam22-refactored-yodel-pvp7g4wrpr4h6qv4.github.dev/pf-signin?path=%2fapi%2fkernels&query=%3f1687455792994&visibility=private&port=8888&cid=75f608c86062ea28b40663e94ffb7e6c reason: Unexpected token < in JSON at position 0).)."
     ]
    }
   ],
   "source": [
    "mep_social_network_2020 = nx.algorithms.bipartite.projected_graph(myGraph2020, list_meps_2020)\n",
    "mep_social_network_2021 = nx.algorithms.bipartite.projected_graph(myGraph2021, list_meps_2021)"
   ]
  },
  {
   "cell_type": "markdown",
   "id": "a82efcb3",
   "metadata": {},
   "source": [
    "Consider some famous and important centrality measures: Degree centrality, betweenness centrality, eigenvector centrality "
   ]
  },
  {
   "cell_type": "markdown",
   "id": "e0caf1a3",
   "metadata": {},
   "source": [
    "For 2020:"
   ]
  },
  {
   "cell_type": "code",
   "execution_count": null,
   "id": "190b12c3",
   "metadata": {},
   "outputs": [
    {
     "ename": "",
     "evalue": "",
     "output_type": "error",
     "traceback": [
      "\u001b[1;31mFailed to connect to the remote Jupyter Server 'https://bernatadam22-refactored-yodel-pvp7g4wrpr4h6qv4-8888.preview.app.github.dev/'. Verify the server is running and reachable. (Failed to connect to the remote Jupyter Server 'https://bernatadam22-refactored-yodel-pvp7g4wrpr4h6qv4-8888.preview.app.github.dev/'. Verify the server is running and reachable. (invalid json response body at https://bernatadam22-refactored-yodel-pvp7g4wrpr4h6qv4.github.dev/pf-signin?path=%2fapi%2fkernels&query=%3f1687455792994&visibility=private&port=8888&cid=75f608c86062ea28b40663e94ffb7e6c reason: Unexpected token < in JSON at position 0).)."
     ]
    }
   ],
   "source": [
    "Deg_Cent_2020_UnSort = nx.degree_centrality(mep_social_network_2020)\n",
    "Eig_Cent_2020_UnSort = nx.eigenvector_centrality(mep_social_network_2020, max_iter=1000, tol=1e-06, nstart=None, weight=None)\n",
    "Btw_Cent_2020_UnSort = nx.betweenness_centrality(mep_social_network_2020, k=None, normalized=True, weight=None, endpoints=False, seed=None)"
   ]
  },
  {
   "cell_type": "markdown",
   "id": "3497dd85",
   "metadata": {},
   "source": [
    "Sorting them by value"
   ]
  },
  {
   "cell_type": "code",
   "execution_count": null,
   "id": "63324848",
   "metadata": {},
   "outputs": [
    {
     "ename": "",
     "evalue": "",
     "output_type": "error",
     "traceback": [
      "\u001b[1;31mFailed to connect to the remote Jupyter Server 'https://bernatadam22-refactored-yodel-pvp7g4wrpr4h6qv4-8888.preview.app.github.dev/'. Verify the server is running and reachable. (Failed to connect to the remote Jupyter Server 'https://bernatadam22-refactored-yodel-pvp7g4wrpr4h6qv4-8888.preview.app.github.dev/'. Verify the server is running and reachable. (invalid json response body at https://bernatadam22-refactored-yodel-pvp7g4wrpr4h6qv4.github.dev/pf-signin?path=%2fapi%2fkernels&query=%3f1687455792994&visibility=private&port=8888&cid=75f608c86062ea28b40663e94ffb7e6c reason: Unexpected token < in JSON at position 0).)."
     ]
    }
   ],
   "source": [
    "Deg_Cent_2020 = sorted(Deg_Cent_2020_UnSort.items(), key=lambda x:x[1], reverse=True)\n",
    "Eig_Cent_2020 = sorted(Eig_Cent_2020_UnSort.items(), key=lambda x:x[1], reverse=True)\n",
    "Btw_Cent_2020 = sorted(Btw_Cent_2020_UnSort.items(), key=lambda x:x[1], reverse=True)\n"
   ]
  },
  {
   "cell_type": "markdown",
   "id": "89ddf861",
   "metadata": {},
   "source": [
    "For 2021:"
   ]
  },
  {
   "cell_type": "code",
   "execution_count": null,
   "id": "69d4cfad",
   "metadata": {},
   "outputs": [
    {
     "ename": "",
     "evalue": "",
     "output_type": "error",
     "traceback": [
      "\u001b[1;31mFailed to connect to the remote Jupyter Server 'https://bernatadam22-refactored-yodel-pvp7g4wrpr4h6qv4-8888.preview.app.github.dev/'. Verify the server is running and reachable. (Failed to connect to the remote Jupyter Server 'https://bernatadam22-refactored-yodel-pvp7g4wrpr4h6qv4-8888.preview.app.github.dev/'. Verify the server is running and reachable. (invalid json response body at https://bernatadam22-refactored-yodel-pvp7g4wrpr4h6qv4.github.dev/pf-signin?path=%2fapi%2fkernels&query=%3f1687455792994&visibility=private&port=8888&cid=75f608c86062ea28b40663e94ffb7e6c reason: Unexpected token < in JSON at position 0).)."
     ]
    }
   ],
   "source": [
    "Deg_Cent_2021_UnSort = nx.degree_centrality(mep_social_network_2021)\n",
    "Eig_Cent_2021_UnSort = nx.eigenvector_centrality(mep_social_network_2021, max_iter=1000, tol=1e-06, nstart=None, weight=None)\n",
    "Btw_Cent_2021_UnSort = nx.betweenness_centrality(mep_social_network_2021, k=None, normalized=True, weight=None, endpoints=False, seed=None)"
   ]
  },
  {
   "cell_type": "markdown",
   "id": "7e794cb2",
   "metadata": {},
   "source": [
    "Sorting them by value"
   ]
  },
  {
   "cell_type": "code",
   "execution_count": null,
   "id": "d8b7230c",
   "metadata": {},
   "outputs": [
    {
     "ename": "",
     "evalue": "",
     "output_type": "error",
     "traceback": [
      "\u001b[1;31mFailed to connect to the remote Jupyter Server 'https://bernatadam22-refactored-yodel-pvp7g4wrpr4h6qv4-8888.preview.app.github.dev/'. Verify the server is running and reachable. (Failed to connect to the remote Jupyter Server 'https://bernatadam22-refactored-yodel-pvp7g4wrpr4h6qv4-8888.preview.app.github.dev/'. Verify the server is running and reachable. (invalid json response body at https://bernatadam22-refactored-yodel-pvp7g4wrpr4h6qv4.github.dev/pf-signin?path=%2fapi%2fkernels&query=%3f1687455792994&visibility=private&port=8888&cid=75f608c86062ea28b40663e94ffb7e6c reason: Unexpected token < in JSON at position 0).)."
     ]
    }
   ],
   "source": [
    "Deg_Cent_2021 = sorted(Deg_Cent_2021_UnSort.items(), key=lambda x:x[1], reverse=True)\n",
    "Eig_Cent_2021 = sorted(Eig_Cent_2021_UnSort.items(), key=lambda x:x[1], reverse=True)\n",
    "Btw_Cent_2021 = sorted(Btw_Cent_2021_UnSort.items(), key=lambda x:x[1], reverse=True)"
   ]
  },
  {
   "cell_type": "markdown",
   "id": "d0bbf8a5",
   "metadata": {},
   "source": [
    "Let us look at betweenness centrality first"
   ]
  },
  {
   "cell_type": "code",
   "execution_count": null,
   "id": "ea893b33",
   "metadata": {},
   "outputs": [
    {
     "ename": "",
     "evalue": "",
     "output_type": "error",
     "traceback": [
      "\u001b[1;31mFailed to connect to the remote Jupyter Server 'https://bernatadam22-refactored-yodel-pvp7g4wrpr4h6qv4-8888.preview.app.github.dev/'. Verify the server is running and reachable. (Failed to connect to the remote Jupyter Server 'https://bernatadam22-refactored-yodel-pvp7g4wrpr4h6qv4-8888.preview.app.github.dev/'. Verify the server is running and reachable. (invalid json response body at https://bernatadam22-refactored-yodel-pvp7g4wrpr4h6qv4.github.dev/pf-signin?path=%2fapi%2fkernels&query=%3f1687455792994&visibility=private&port=8888&cid=75f608c86062ea28b40663e94ffb7e6c reason: Unexpected token < in JSON at position 0).)."
     ]
    }
   ],
   "source": [
    "x = [Btw_Cent_2020[i][0] for i in range(len(Btw_Cent_2020[:10]))] # top 10 MEP according to betweenness centrality in 2020\n",
    "y1 = [Btw_Cent_2020_UnSort[x[i]] for i in range(len(x)) ]         #betweenness centrality values top 10 MEP in 2020\n",
    "y2=[]                                                             #betweenness centrality values top 10 MEP in 2021\n",
    "for i in range(len(x)):\n",
    "    try: \n",
    "        y2.append(Btw_Cent_2021_UnSort[x[i]])\n",
    "    except: \n",
    "        y2.append(0)\n",
    "          \n",
    "\n",
    "print(Btw_Cent_2021[:10])\n",
    "print(x)\n",
    "print(y1)\n",
    "print(y2)"
   ]
  },
  {
   "cell_type": "code",
   "execution_count": null,
   "id": "2668a746",
   "metadata": {},
   "outputs": [
    {
     "ename": "",
     "evalue": "",
     "output_type": "error",
     "traceback": [
      "\u001b[1;31mFailed to connect to the remote Jupyter Server 'https://bernatadam22-refactored-yodel-pvp7g4wrpr4h6qv4-8888.preview.app.github.dev/'. Verify the server is running and reachable. (Failed to connect to the remote Jupyter Server 'https://bernatadam22-refactored-yodel-pvp7g4wrpr4h6qv4-8888.preview.app.github.dev/'. Verify the server is running and reachable. (invalid json response body at https://bernatadam22-refactored-yodel-pvp7g4wrpr4h6qv4.github.dev/pf-signin?path=%2fapi%2fkernels&query=%3f1687455792994&visibility=private&port=8888&cid=75f608c86062ea28b40663e94ffb7e6c reason: Unexpected token < in JSON at position 0).)."
     ]
    }
   ],
   "source": [
    "X_axis = np.arange(len(x))\n",
    "\n",
    "plt.bar(X_axis - 0.2, y1, 0.4, label = '2020 Centrality')\n",
    "plt.bar(X_axis + 0.2, y2, 0.4, label = '2021 Centrality')\n",
    "  \n",
    "plt.xticks(X_axis, x, rotation = 90)\n",
    "plt.xlabel(\"MEPs\")\n",
    "plt.ylabel(\"Betweenness centrality\")\n",
    "plt.title(\"Betweenness centrality changes:\")\n",
    "plt.legend()\n",
    "plt.show()"
   ]
  },
  {
   "cell_type": "markdown",
   "id": "7da4ea38",
   "metadata": {},
   "source": [
    "Basically the above graph represents the betweenness centrality changes for the top 10 EMPs (according to measurements from 2020)"
   ]
  },
  {
   "cell_type": "markdown",
   "id": "73f6f31d",
   "metadata": {},
   "source": [
    "Let us also look at Eigenvector Centrality but now let us observe the centrality measures in 2020, for the top 10 most influential MEPs (according to 2021 measurements). That is who the benificiaries of the changes were from 2020 to 2021."
   ]
  },
  {
   "cell_type": "code",
   "execution_count": null,
   "id": "e49297a1",
   "metadata": {},
   "outputs": [
    {
     "ename": "",
     "evalue": "",
     "output_type": "error",
     "traceback": [
      "\u001b[1;31mFailed to connect to the remote Jupyter Server 'https://bernatadam22-refactored-yodel-pvp7g4wrpr4h6qv4-8888.preview.app.github.dev/'. Verify the server is running and reachable. (Failed to connect to the remote Jupyter Server 'https://bernatadam22-refactored-yodel-pvp7g4wrpr4h6qv4-8888.preview.app.github.dev/'. Verify the server is running and reachable. (invalid json response body at https://bernatadam22-refactored-yodel-pvp7g4wrpr4h6qv4.github.dev/pf-signin?path=%2fapi%2fkernels&query=%3f1687455792994&visibility=private&port=8888&cid=75f608c86062ea28b40663e94ffb7e6c reason: Unexpected token < in JSON at position 0).)."
     ]
    }
   ],
   "source": [
    "x = [Eig_Cent_2021[i][0] for i in range(len(Eig_Cent_2021[:10]))] # top 10 MEP according to eigenvector centrality in 2021\n",
    "y2 = [Eig_Cent_2021_UnSort[x[i]] for i in range(len(x)) ]         #eigenvector centrality values top 10 MEP in 2021\n",
    "y1=[]                                                             #eigenvector centrality values top 10 MEP in 2020\n",
    "for i in range(len(x)):\n",
    "    try: \n",
    "        y1.append(Eig_Cent_2020_UnSort[x[i]])\n",
    "    except: \n",
    "        y1.append(0)\n",
    "          \n",
    "\n",
    "print(Eig_Cent_2021[:10])\n",
    "print(x)\n",
    "print(y1)\n",
    "print(y2)"
   ]
  },
  {
   "cell_type": "code",
   "execution_count": null,
   "id": "3a5be1d6",
   "metadata": {
    "scrolled": false
   },
   "outputs": [
    {
     "ename": "",
     "evalue": "",
     "output_type": "error",
     "traceback": [
      "\u001b[1;31mFailed to connect to the remote Jupyter Server 'https://bernatadam22-refactored-yodel-pvp7g4wrpr4h6qv4-8888.preview.app.github.dev/'. Verify the server is running and reachable. (Failed to connect to the remote Jupyter Server 'https://bernatadam22-refactored-yodel-pvp7g4wrpr4h6qv4-8888.preview.app.github.dev/'. Verify the server is running and reachable. (invalid json response body at https://bernatadam22-refactored-yodel-pvp7g4wrpr4h6qv4.github.dev/pf-signin?path=%2fapi%2fkernels&query=%3f1687455792994&visibility=private&port=8888&cid=75f608c86062ea28b40663e94ffb7e6c reason: Unexpected token < in JSON at position 0).)."
     ]
    }
   ],
   "source": [
    "X_axis = np.arange(len(x))\n",
    "\n",
    "plt.bar(X_axis - 0.2, y1, 0.4, label = '2020 Centrality')\n",
    "plt.bar(X_axis + 0.2, y2, 0.4, label = '2021 Centrality')\n",
    "  \n",
    "plt.xticks(X_axis, x, rotation = 90)\n",
    "plt.xlabel(\"MEPs\")\n",
    "plt.ylabel(\"Eigenvector centrality\")\n",
    "plt.title(\"Eigenvector centrality changes:\")\n",
    "plt.legend()\n",
    "plt.show()"
   ]
  },
  {
   "cell_type": "markdown",
   "id": "9f90aedd",
   "metadata": {},
   "source": [
    "# SPLITTING THE DATA"
   ]
  },
  {
   "cell_type": "code",
   "execution_count": null,
   "id": "6925fd61",
   "metadata": {
    "scrolled": true
   },
   "outputs": [
    {
     "ename": "",
     "evalue": "",
     "output_type": "error",
     "traceback": [
      "\u001b[1;31mFailed to connect to the remote Jupyter Server 'https://bernatadam22-refactored-yodel-pvp7g4wrpr4h6qv4-8888.preview.app.github.dev/'. Verify the server is running and reachable. (Failed to connect to the remote Jupyter Server 'https://bernatadam22-refactored-yodel-pvp7g4wrpr4h6qv4-8888.preview.app.github.dev/'. Verify the server is running and reachable. (invalid json response body at https://bernatadam22-refactored-yodel-pvp7g4wrpr4h6qv4.github.dev/pf-signin?path=%2fapi%2fkernels&query=%3f1687455792994&visibility=private&port=8888&cid=75f608c86062ea28b40663e94ffb7e6c reason: Unexpected token < in JSON at position 0).)."
     ]
    }
   ],
   "source": [
    "import datetime\n",
    "time_intervals = [\n",
    "    {\n",
    "        \"start\" : pd.to_datetime(datetime.date(2019,7,24)),\n",
    "        \"end\" : pd.to_datetime(datetime.date(2019,10,31))\n",
    "    }, #0\n",
    "    {\n",
    "        \"start\" : pd.to_datetime(datetime.date(2019,11,1)),\n",
    "        \"end\" : pd.to_datetime(datetime.date(2020,1,31))\n",
    "    }, #1\n",
    "    {\n",
    "        \"start\" : pd.to_datetime(datetime.date(2020,2,1)),\n",
    "        \"end\" : pd.to_datetime(datetime.date(2020,5,20))\n",
    "    }, #2\n",
    "    {\n",
    "        \"start\" : pd.to_datetime(datetime.date(2020,5,21)),\n",
    "        \"end\" : pd.to_datetime(datetime.date(2020,8,31))\n",
    "    }, #3\n",
    "    {\n",
    "        \"start\" : pd.to_datetime(datetime.date(2020,9,1)),\n",
    "        \"end\" : pd.to_datetime(datetime.date(2020,11,30))\n",
    "    }, #4\n",
    "    {\n",
    "        \"start\" : pd.to_datetime(datetime.date(2020,12,1)),\n",
    "        \"end\" : pd.to_datetime(datetime.date(2021,3,3))\n",
    "    }, #5\n",
    "    {\n",
    "        \"start\" : pd.to_datetime(datetime.date(2021,3,4)),\n",
    "        \"end\" : pd.to_datetime(datetime.date(2021,5,31))\n",
    "    }, #6\n",
    "    {\n",
    "        \"start\" : pd.to_datetime(datetime.date(2021,6,1)),\n",
    "        \"end\" : pd.to_datetime(datetime.date(2021,8,31))\n",
    "    }, #7\n",
    "    {\n",
    "        \"start\" : pd.to_datetime(datetime.date(2021,9,1)),\n",
    "        \"end\" : pd.to_datetime(datetime.date(2021,11,30))\n",
    "    }, #8\n",
    "    {\n",
    "        \"start\" : pd.to_datetime(datetime.date(2021,12,1)),\n",
    "        \"end\" : pd.to_datetime(datetime.date(2022,2,23))\n",
    "    }, #9\n",
    "    {\n",
    "        \"start\" : pd.to_datetime(datetime.date(2022,2,24)),\n",
    "        \"end\" : pd.to_datetime(datetime.date(2022,5,31))\n",
    "    }, #10\n",
    "    {\n",
    "        \"start\" : pd.to_datetime(datetime.date(2022,6,1)),\n",
    "        \"end\" : pd.to_datetime(datetime.date(2022,9,5))\n",
    "    } #11\n",
    "]\n",
    "\n",
    "for i in time_intervals:\n",
    "    i[\"length\"] = i[\"end\"] - i[\"start\"]\n",
    "    \n",
    "print(time_intervals)"
   ]
  },
  {
   "cell_type": "code",
   "execution_count": null,
   "id": "72c19236",
   "metadata": {},
   "outputs": [
    {
     "ename": "",
     "evalue": "",
     "output_type": "error",
     "traceback": [
      "\u001b[1;31mFailed to connect to the remote Jupyter Server 'https://bernatadam22-refactored-yodel-pvp7g4wrpr4h6qv4-8888.preview.app.github.dev/'. Verify the server is running and reachable. (Failed to connect to the remote Jupyter Server 'https://bernatadam22-refactored-yodel-pvp7g4wrpr4h6qv4-8888.preview.app.github.dev/'. Verify the server is running and reachable. (invalid json response body at https://bernatadam22-refactored-yodel-pvp7g4wrpr4h6qv4.github.dev/pf-signin?path=%2fapi%2fkernels&query=%3f1687455792994&visibility=private&port=8888&cid=75f608c86062ea28b40663e94ffb7e6c reason: Unexpected token < in JSON at position 0).)."
     ]
    }
   ],
   "source": [
    "ENTIRE_DATASET[\"Date\"] = pd.to_datetime(ENTIRE_DATASET[\"Date\"], format = \"%d/%m/%Y\")"
   ]
  },
  {
   "cell_type": "code",
   "execution_count": null,
   "id": "a4585a2f",
   "metadata": {},
   "outputs": [
    {
     "ename": "",
     "evalue": "",
     "output_type": "error",
     "traceback": [
      "\u001b[1;31mFailed to connect to the remote Jupyter Server 'https://bernatadam22-refactored-yodel-pvp7g4wrpr4h6qv4-8888.preview.app.github.dev/'. Verify the server is running and reachable. (Failed to connect to the remote Jupyter Server 'https://bernatadam22-refactored-yodel-pvp7g4wrpr4h6qv4-8888.preview.app.github.dev/'. Verify the server is running and reachable. (invalid json response body at https://bernatadam22-refactored-yodel-pvp7g4wrpr4h6qv4.github.dev/pf-signin?path=%2fapi%2fkernels&query=%3f1687455792994&visibility=private&port=8888&cid=75f608c86062ea28b40663e94ffb7e6c reason: Unexpected token < in JSON at position 0).)."
     ]
    }
   ],
   "source": [
    "split_data = []\n",
    "\n",
    "for i in time_intervals:\n",
    "    split_data.append(ENTIRE_DATASET[( ENTIRE_DATASET[\"Date\"] >= i[\"start\"])\n",
    "                                     & ( ENTIRE_DATASET[\"Date\"] <= pd.to_datetime(i[\"end\"]))])\n",
    "\n",
    "print(split_data)"
   ]
  },
  {
   "cell_type": "code",
   "execution_count": null,
   "id": "39f79e28",
   "metadata": {},
   "outputs": [
    {
     "ename": "",
     "evalue": "",
     "output_type": "error",
     "traceback": [
      "\u001b[1;31mFailed to connect to the remote Jupyter Server 'https://bernatadam22-refactored-yodel-pvp7g4wrpr4h6qv4-8888.preview.app.github.dev/'. Verify the server is running and reachable. (Failed to connect to the remote Jupyter Server 'https://bernatadam22-refactored-yodel-pvp7g4wrpr4h6qv4-8888.preview.app.github.dev/'. Verify the server is running and reachable. (invalid json response body at https://bernatadam22-refactored-yodel-pvp7g4wrpr4h6qv4.github.dev/pf-signin?path=%2fapi%2fkernels&query=%3f1687455792994&visibility=private&port=8888&cid=75f608c86062ea28b40663e94ffb7e6c reason: Unexpected token < in JSON at position 0).)."
     ]
    }
   ],
   "source": [
    "s = 0\n",
    "for i in split_data:\n",
    "    x = len(i)\n",
    "    print(x)\n",
    "    s += x\n",
    "print(f\"SUM = {s}\")"
   ]
  },
  {
   "cell_type": "markdown",
   "id": "2ce3f636",
   "metadata": {},
   "source": [
    "^- Ennyi adatpontunk van intervallumonként. Nekem balanceoltnak tűnik őszintén szólva."
   ]
  },
  {
   "cell_type": "code",
   "execution_count": null,
   "id": "e24e44c0",
   "metadata": {},
   "outputs": [
    {
     "ename": "",
     "evalue": "",
     "output_type": "error",
     "traceback": [
      "\u001b[1;31mFailed to connect to the remote Jupyter Server 'https://bernatadam22-refactored-yodel-pvp7g4wrpr4h6qv4-8888.preview.app.github.dev/'. Verify the server is running and reachable. (Failed to connect to the remote Jupyter Server 'https://bernatadam22-refactored-yodel-pvp7g4wrpr4h6qv4-8888.preview.app.github.dev/'. Verify the server is running and reachable. (invalid json response body at https://bernatadam22-refactored-yodel-pvp7g4wrpr4h6qv4.github.dev/pf-signin?path=%2fapi%2fkernels&query=%3f1687455792994&visibility=private&port=8888&cid=75f608c86062ea28b40663e94ffb7e6c reason: Unexpected token < in JSON at position 0).)."
     ]
    }
   ],
   "source": [
    "def listMEPs_div(GDataset): # listing the different MEP names for the given dataset\n",
    "    o = pd.unique(GDataset['MEPName'])\n",
    "    #print(type(o)) #DEBUG\n",
    "    return o\n",
    "\n",
    "ListsMEP = [listMEPs_div(miniGraph) for miniGraph in split_data]#list for each subgraph\n",
    "            \n",
    "#defining 2 function for the projection creation\n",
    "def CreateNXGraph(Graph):\n",
    "    # we use MEPName instead of OfficialMEPID\n",
    "    G = nx.from_pandas_edgelist(Graph, source='AmendmentID', target='MEPName')\n",
    "    return G\n",
    "\n",
    "def CreateBipartite(myGraph, Gtype, MEP_lista):\n",
    "    #Gtype = which type of projection we use \n",
    "    if Gtype == \"classic\":\n",
    "        G = nx.algorithms.bipartite.projected_graph(myGraph, MEP_lista)\n",
    "    elif Gtype == \"collab_weight\":\n",
    "        G = nx.algorithms.bipartite.collaboration_weighted_projected_graph(myGraph, MEP_lista)\n",
    "    return G \n"
   ]
  },
  {
   "cell_type": "code",
   "execution_count": null,
   "id": "626f7e24",
   "metadata": {},
   "outputs": [
    {
     "ename": "",
     "evalue": "",
     "output_type": "error",
     "traceback": [
      "\u001b[1;31mFailed to connect to the remote Jupyter Server 'https://bernatadam22-refactored-yodel-pvp7g4wrpr4h6qv4-8888.preview.app.github.dev/'. Verify the server is running and reachable. (Failed to connect to the remote Jupyter Server 'https://bernatadam22-refactored-yodel-pvp7g4wrpr4h6qv4-8888.preview.app.github.dev/'. Verify the server is running and reachable. (invalid json response body at https://bernatadam22-refactored-yodel-pvp7g4wrpr4h6qv4.github.dev/pf-signin?path=%2fapi%2fkernels&query=%3f1687455792994&visibility=private&port=8888&cid=75f608c86062ea28b40663e94ffb7e6c reason: Unexpected token < in JSON at position 0).)."
     ]
    }
   ],
   "source": [
    "All_projections_classic = [CreateBipartite(CreateNXGraph(split_data[i]), \"classic\", ListsMEP[i]) for i in range(len(split_data))]\n",
    "All_projections_weighted = [CreateBipartite(CreateNXGraph(split_data[i]), \"collab_weight\", ListsMEP[i]) for i in range(len(split_data))]"
   ]
  },
  {
   "cell_type": "markdown",
   "id": "5634b3b9",
   "metadata": {},
   "source": [
    "The list above (All_projection) contains the 12 different projections of the 12 different subgraphs we created. The two different lists correspond the 2 different ways of projections we created"
   ]
  },
  {
   "cell_type": "code",
   "execution_count": null,
   "id": "14f24f33",
   "metadata": {},
   "outputs": [
    {
     "ename": "",
     "evalue": "",
     "output_type": "error",
     "traceback": [
      "\u001b[1;31mFailed to connect to the remote Jupyter Server 'https://bernatadam22-refactored-yodel-pvp7g4wrpr4h6qv4-8888.preview.app.github.dev/'. Verify the server is running and reachable. (Failed to connect to the remote Jupyter Server 'https://bernatadam22-refactored-yodel-pvp7g4wrpr4h6qv4-8888.preview.app.github.dev/'. Verify the server is running and reachable. (invalid json response body at https://bernatadam22-refactored-yodel-pvp7g4wrpr4h6qv4.github.dev/pf-signin?path=%2fapi%2fkernels&query=%3f1687455792994&visibility=private&port=8888&cid=75f608c86062ea28b40663e94ffb7e6c reason: Unexpected token < in JSON at position 0).)."
     ]
    }
   ],
   "source": [
    "# G_0 = All_projections_classic[0]\n",
    "# Gcc = sorted(nx.connected_components(G_0), key=len, reverse=True)\n",
    "# G_1 = G_0.subgraph(Gcc[0])\n",
    "# This code would give us the biggest component in a graph\n",
    "\n",
    "G_1 = All_projections_classic[0]\n",
    "\n",
    "#plt.figure(dpi = 800) #dpi = 500 ? \n",
    "matplotlib.rcParams[\"figure.dpi\"] = 800\n",
    "pos = nx.random_layout(G_1, seed=696)\n",
    "d = dict(G_1.degree)\n",
    "nx.draw(G_1, nodelist=d.keys(), node_size=[1 * int(v != 0)  for v in d.values()], width = 0.2)\n",
    "plt.plot()"
   ]
  },
  {
   "cell_type": "code",
   "execution_count": null,
   "id": "1c731e2f",
   "metadata": {},
   "outputs": [
    {
     "ename": "",
     "evalue": "",
     "output_type": "error",
     "traceback": [
      "\u001b[1;31mFailed to connect to the remote Jupyter Server 'https://bernatadam22-refactored-yodel-pvp7g4wrpr4h6qv4-8888.preview.app.github.dev/'. Verify the server is running and reachable. (Failed to connect to the remote Jupyter Server 'https://bernatadam22-refactored-yodel-pvp7g4wrpr4h6qv4-8888.preview.app.github.dev/'. Verify the server is running and reachable. (invalid json response body at https://bernatadam22-refactored-yodel-pvp7g4wrpr4h6qv4.github.dev/pf-signin?path=%2fapi%2fkernels&query=%3f1687455792994&visibility=private&port=8888&cid=75f608c86062ea28b40663e94ffb7e6c reason: Unexpected token < in JSON at position 0).)."
     ]
    }
   ],
   "source": [
    "#The different EU parties: \n",
    "#EPP        -  European Peoples Party\n",
    "#S&D        -  Party of European Socialists\n",
    "#RE         -  Alliance of Liberals and Democrats for Europe Party  /  European Democratic Party\n",
    "#ECR        -  European Conservatives and Reformists Party\n",
    "#ID         -  Identity and Democracy Party\n",
    "#Greens/EFA -  European Green Party/European Free Alliance\n",
    "#GUE/NGL    -  Party of the European Left\n",
    "\n",
    "\n",
    "#(EPP  és ECR -\tEuropean Christian Political Movement)"
   ]
  },
  {
   "cell_type": "markdown",
   "id": "0ee34648",
   "metadata": {},
   "source": [
    "Hierarchic Cluster for the original graph and the colorful graph colored according to the EP groups"
   ]
  },
  {
   "cell_type": "code",
   "execution_count": null,
   "id": "ef046db8",
   "metadata": {},
   "outputs": [
    {
     "ename": "",
     "evalue": "",
     "output_type": "error",
     "traceback": [
      "\u001b[1;31mFailed to connect to the remote Jupyter Server 'https://bernatadam22-refactored-yodel-pvp7g4wrpr4h6qv4-8888.preview.app.github.dev/'. Verify the server is running and reachable. (Failed to connect to the remote Jupyter Server 'https://bernatadam22-refactored-yodel-pvp7g4wrpr4h6qv4-8888.preview.app.github.dev/'. Verify the server is running and reachable. (invalid json response body at https://bernatadam22-refactored-yodel-pvp7g4wrpr4h6qv4.github.dev/pf-signin?path=%2fapi%2fkernels&query=%3f1687455792994&visibility=private&port=8888&cid=75f608c86062ea28b40663e94ffb7e6c reason: Unexpected token < in JSON at position 0).)."
     ]
    }
   ],
   "source": [
    "\n",
    "def Clustering(Graf,N_of_clusters):\n",
    "    return 0\n",
    "\n",
    "def coloring_list(Graf): \n",
    "    color_map = []\n",
    "    for node in Graf:\n",
    "        print(getMEPData(0,node)['EPGroup'])\n",
    "        if getMEPData(0,node)['EPGroup'] == 'EPP':\n",
    "            color_map.append('blue')\n",
    "        elif getMEPData(0,node)['EPGroup'] == 'S&D':\n",
    "            color_map.append('red')\n",
    "        elif getMEPData(0,node)['EPGroup'] == 'RE':\n",
    "            color_map.append('yellow')\n",
    "        elif getMEPData(0,node)['EPGroup'] == 'ECR':\n",
    "            color_map.append('orange')  \n",
    "        elif getMEPData(0,node)['EPGroup'] == 'ID':\n",
    "            color_map.append('white')   \n",
    "        elif getMEPData(0,node)['EPGroup'] == 'Greens/EFA':\n",
    "            color_map.append('green')\n",
    "        else:\n",
    "            color_map.append('white')\n",
    "\n",
    "    print(f\"Length of the color mapping:{len(color_map)}\")\n",
    "    print(f\"Length of the node list:{len(Graf.nodes())}\")\n",
    "    return color_map\n",
    "\n",
    "\n",
    "def Color_EPgroups_in_graph(Graf,color_map):\n",
    "    matplotlib.rcParams[\"figure.dpi\"] = 800\n",
    "    #plt.figure(dpi = 800)\n",
    "    d = dict(Graf.degree)\n",
    "    nx.draw(Graf, node_size=0.3, width = 0.1, node_color=color_map, with_labels=False) #node_size=[0.3 * int(v != 0)  for v in d.values()]\n",
    "    plt.plot()\n",
    "    return 0\n",
    "\n",
    "\n",
    "def Remove_0_deg_nodes(Graf):   #removes the 0 degree nodes from a graph \n",
    "    remove = [node for node,degree in dict(Graf.degree()).items() if degree < 1]\n",
    "    Graf.remove_nodes_from(remove)\n",
    "    return Graf\n",
    "\n",
    "\n",
    "def Greatest_component(Graf):   #returns the greatest component of a graph\n",
    "    Gcc = sorted(nx.connected_components(Graf), key=len, reverse=True)\n",
    "    Great_Component = Graf.subgraph(Gcc[0])    \n",
    "    return Great_Component\n"
   ]
  },
  {
   "cell_type": "code",
   "execution_count": null,
   "id": "c36d0a54",
   "metadata": {},
   "outputs": [
    {
     "ename": "",
     "evalue": "",
     "output_type": "error",
     "traceback": [
      "\u001b[1;31mFailed to connect to the remote Jupyter Server 'https://bernatadam22-refactored-yodel-pvp7g4wrpr4h6qv4-8888.preview.app.github.dev/'. Verify the server is running and reachable. (Failed to connect to the remote Jupyter Server 'https://bernatadam22-refactored-yodel-pvp7g4wrpr4h6qv4-8888.preview.app.github.dev/'. Verify the server is running and reachable. (invalid json response body at https://bernatadam22-refactored-yodel-pvp7g4wrpr4h6qv4.github.dev/pf-signin?path=%2fapi%2fkernels&query=%3f1687455792994&visibility=private&port=8888&cid=75f608c86062ea28b40663e94ffb7e6c reason: Unexpected token < in JSON at position 0).)."
     ]
    }
   ],
   "source": [
    "ENTIRE_DATASET\n",
    "ALL_MEP_lista = listMEPs_div(ENTIRE_DATASET) \n",
    "The_Weighted_Graf = CreateBipartite(CreateNXGraph(ENTIRE_DATASET), \"collab_weight\", ALL_MEP_lista) \n",
    "The_Weighted_Graf = Greatest_component(The_Weighted_Graf)\n",
    "CM = coloring_list(The_Weighted_Graf)"
   ]
  },
  {
   "cell_type": "code",
   "execution_count": null,
   "id": "8b8fc4d9",
   "metadata": {},
   "outputs": [
    {
     "ename": "",
     "evalue": "",
     "output_type": "error",
     "traceback": [
      "\u001b[1;31mFailed to connect to the remote Jupyter Server 'https://bernatadam22-refactored-yodel-pvp7g4wrpr4h6qv4-8888.preview.app.github.dev/'. Verify the server is running and reachable. (Failed to connect to the remote Jupyter Server 'https://bernatadam22-refactored-yodel-pvp7g4wrpr4h6qv4-8888.preview.app.github.dev/'. Verify the server is running and reachable. (invalid json response body at https://bernatadam22-refactored-yodel-pvp7g4wrpr4h6qv4.github.dev/pf-signin?path=%2fapi%2fkernels&query=%3f1687455792994&visibility=private&port=8888&cid=75f608c86062ea28b40663e94ffb7e6c reason: Unexpected token < in JSON at position 0).)."
     ]
    }
   ],
   "source": [
    "CM = Color_EPgroups_in_graph(The_Weighted_Graf, CM)\n",
    "    "
   ]
  },
  {
   "cell_type": "code",
   "execution_count": null,
   "id": "517a044d",
   "metadata": {},
   "outputs": [
    {
     "ename": "",
     "evalue": "",
     "output_type": "error",
     "traceback": [
      "\u001b[1;31mFailed to connect to the remote Jupyter Server 'https://bernatadam22-refactored-yodel-pvp7g4wrpr4h6qv4-8888.preview.app.github.dev/'. Verify the server is running and reachable. (Failed to connect to the remote Jupyter Server 'https://bernatadam22-refactored-yodel-pvp7g4wrpr4h6qv4-8888.preview.app.github.dev/'. Verify the server is running and reachable. (invalid json response body at https://bernatadam22-refactored-yodel-pvp7g4wrpr4h6qv4.github.dev/pf-signin?path=%2fapi%2fkernels&query=%3f1687455792994&visibility=private&port=8888&cid=75f608c86062ea28b40663e94ffb7e6c reason: Unexpected token < in JSON at position 0).)."
     ]
    }
   ],
   "source": [
    "NNodes = [\"anna\", \"balazs\", \"cecil\", \"draven\", \"emil\", \"frufru\", \"gabi\", \"hajnal\" ]\n",
    "EEdges = [(\"anna\", \"balazs\"),(\"balazs\", \"cecil\"), (\"cecil\", \"draven\"), (\"draven\", \"anna\"), (\"emil\", \"frufru\"), (\"frufru\", \"gabi\"), (\"gabi\", \"hajnal\"), (\"hajnal\", \"emil\"), (\"anna\", \"emil\"), (\"balazs\", \"frufru\"), (\"cecil\", \"gabi\"), (\"draven\",\"hajnal\" )]\n",
    "G = nx.Graph(nodes = NNodes, edges = EEdges)"
   ]
  },
  {
   "cell_type": "code",
   "execution_count": null,
   "id": "af1634f3",
   "metadata": {},
   "outputs": [],
   "source": [
    "G = nx.cubical_graph()\n",
    "pos = nx.spring_layout(G, seed=3113794652)  # positions for all nodes\n",
    "\n",
    "# nodes\n",
    "options = {\"edgecolors\": \"tab:gray\", \"node_size\": 800, \"alpha\": 0.9}\n",
    "nx.draw_networkx_nodes(G, pos, nodelist=[0, 1, 2, 3], node_color=\"tab:red\", **options)\n",
    "nx.draw_networkx_nodes(G, pos, nodelist=[4, 5, 6, 7], node_color=\"tab:blue\", **options)\n",
    "\n",
    "# edges\n",
    "nx.draw_networkx_edges(G, pos, width=1.0, alpha=0.5)\n",
    "nx.draw_networkx_edges(\n",
    "    G,\n",
    "    pos,\n",
    "    edgelist=[(0, 1), (1, 2), (2, 3), (3, 0)],\n",
    "    width=8,\n",
    "    alpha=0.5,\n",
    "    edge_color=\"tab:red\",\n",
    ")\n",
    "nx.draw_networkx_edges(\n",
    "    G,\n",
    "    pos,\n",
    "    edgelist=[(4, 5), (5, 6), (6, 7), (7, 4)],\n",
    "    width=8,\n",
    "    alpha=0.5,\n",
    "    edge_color=\"tab:blue\",\n",
    ")\n",
    "\n",
    "\n",
    "# some math labels\n",
    "labels = {}\n",
    "labels[0] = r\"$a$\"\n",
    "labels[1] = r\"$b$\"\n",
    "labels[2] = r\"$c$\"\n",
    "labels[3] = r\"$d$\"\n",
    "labels[4] = r\"$\\alpha$\"\n",
    "labels[5] = r\"$\\beta$\"\n",
    "labels[6] = r\"$\\gamma$\"\n",
    "labels[7] = r\"$\\delta$\"\n",
    "nx.draw_networkx_labels(G, pos, labels, font_size=22, font_color=\"whitesmoke\")\n",
    "\n",
    "plt.tight_layout()\n",
    "plt.axis(\"off\")\n",
    "plt.show()"
   ]
  },
  {
   "cell_type": "code",
   "execution_count": null,
   "id": "48195d63",
   "metadata": {},
   "outputs": [
    {
     "ename": "",
     "evalue": "",
     "output_type": "error",
     "traceback": [
      "\u001b[1;31mFailed to connect to the remote Jupyter Server 'https://bernatadam22-refactored-yodel-pvp7g4wrpr4h6qv4-8888.preview.app.github.dev/'. Verify the server is running and reachable. (Failed to connect to the remote Jupyter Server 'https://bernatadam22-refactored-yodel-pvp7g4wrpr4h6qv4-8888.preview.app.github.dev/'. Verify the server is running and reachable. (invalid json response body at https://bernatadam22-refactored-yodel-pvp7g4wrpr4h6qv4.github.dev/pf-signin?path=%2fapi%2fkernels&query=%3f1687455792994&visibility=private&port=8888&cid=75f608c86062ea28b40663e94ffb7e6c reason: Unexpected token < in JSON at position 0).)."
     ]
    }
   ],
   "source": []
  }
 ],
 "metadata": {
  "kernelspec": {
   "display_name": "Python 3 (ipykernel)",
   "language": "python",
   "name": "python3"
  },
  "language_info": {
   "codemirror_mode": {
    "name": "ipython",
    "version": 3
   },
   "file_extension": ".py",
   "mimetype": "text/x-python",
   "name": "python",
   "nbconvert_exporter": "python",
   "pygments_lexer": "ipython3",
   "version": "3.10.6"
  }
 },
 "nbformat": 4,
 "nbformat_minor": 5
}
