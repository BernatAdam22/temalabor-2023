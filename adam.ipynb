{
 "cells": [
  {
   "cell_type": "markdown",
   "id": "324dfbc1",
   "metadata": {},
   "source": [
    "### By years 2020 and 2021"
   ]
  },
  {
   "cell_type": "markdown",
   "id": "0833144b",
   "metadata": {},
   "source": [
    "Let us create 2 social network graphs corresponding to the years 2020 and 2021"
   ]
  },
  {
   "cell_type": "code",
   "execution_count": null,
   "id": "92b772f4",
   "metadata": {},
   "outputs": [],
   "source": [
    "df = pd.read_csv('db/ep_cosponsorship_dataset.csv', header = 0, keep_default_na = False)\n",
    "df2020 = df[df['Date'].str.contains(\"2020\") == True]\n",
    "df2021 = df[df['Date'].str.contains(\"2021\") == True]\n",
    "\n",
    "list_meps_2020 = pd.unique(df2020[\"OfficialMEPID\"])\n",
    "list_meps_2021 = pd.unique(df2021[\"OfficialMEPID\"])\n"
   ]
  },
  {
   "cell_type": "code",
   "execution_count": null,
   "id": "d9486ca6",
   "metadata": {},
   "outputs": [],
   "source": [
    "myGraph2020 = nx.from_pandas_edgelist(df2020, source='AmendmentID', target='OfficialMEPID')\n",
    "myGraph2021 = nx.from_pandas_edgelist(df2021, source='AmendmentID', target='OfficialMEPID')\n",
    "\n",
    "\n",
    "print(f'The 2020 Graph is bipartite: {nx.is_bipartite(myGraph2020)}')\n",
    "print(f'The 2021 Graph is bipartite: {nx.is_bipartite(myGraph2021)}')\n"
   ]
  },
  {
   "cell_type": "code",
   "execution_count": null,
   "id": "0c5368be",
   "metadata": {},
   "outputs": [],
   "source": [
    "mep_social_network_2020 = nx.algorithms.bipartite.projected_graph(myGraph2020, list_meps_2020)\n",
    "mep_social_network_2021 = nx.algorithms.bipartite.projected_graph(myGraph2021, list_meps_2021)"
   ]
  },
  {
   "cell_type": "markdown",
   "id": "a82efcb3",
   "metadata": {},
   "source": [
    "Consider some famous and important centrality measures: Degree centrality, betweenness centrality, eigenvector centrality "
   ]
  },
  {
   "cell_type": "markdown",
   "id": "e0caf1a3",
   "metadata": {},
   "source": [
    "For 2020:"
   ]
  },
  {
   "cell_type": "code",
   "execution_count": null,
   "id": "190b12c3",
   "metadata": {},
   "outputs": [],
   "source": [
    "Deg_Cent_2020_UnSort = nx.degree_centrality(mep_social_network_2020)\n",
    "Eig_Cent_2020_UnSort = nx.eigenvector_centrality(mep_social_network_2020, max_iter=1000, tol=1e-06, nstart=None, weight=None)\n",
    "Btw_Cent_2020_UnSort = nx.betweenness_centrality(mep_social_network_2020, k=None, normalized=True, weight=None, endpoints=False, seed=None)"
   ]
  },
  {
   "cell_type": "markdown",
   "id": "3497dd85",
   "metadata": {},
   "source": [
    "Sorting them by value"
   ]
  },
  {
   "cell_type": "code",
   "execution_count": null,
   "id": "63324848",
   "metadata": {},
   "outputs": [],
   "source": [
    "Deg_Cent_2020 = sorted(Deg_Cent_2020_UnSort.items(), key=lambda x:x[1], reverse=True)\n",
    "Eig_Cent_2020 = sorted(Eig_Cent_2020_UnSort.items(), key=lambda x:x[1], reverse=True)\n",
    "Btw_Cent_2020 = sorted(Btw_Cent_2020_UnSort.items(), key=lambda x:x[1], reverse=True)\n"
   ]
  },
  {
   "cell_type": "markdown",
   "id": "89ddf861",
   "metadata": {},
   "source": [
    "For 2021:"
   ]
  },
  {
   "cell_type": "code",
   "execution_count": null,
   "id": "69d4cfad",
   "metadata": {},
   "outputs": [],
   "source": [
    "Deg_Cent_2021_UnSort = nx.degree_centrality(mep_social_network_2021)\n",
    "Eig_Cent_2021_UnSort = nx.eigenvector_centrality(mep_social_network_2021, max_iter=1000, tol=1e-06, nstart=None, weight=None)\n",
    "Btw_Cent_2021_UnSort = nx.betweenness_centrality(mep_social_network_2021, k=None, normalized=True, weight=None, endpoints=False, seed=None)"
   ]
  },
  {
   "cell_type": "markdown",
   "id": "7e794cb2",
   "metadata": {},
   "source": [
    "Sorting them by value"
   ]
  },
  {
   "cell_type": "code",
   "execution_count": null,
   "id": "d8b7230c",
   "metadata": {},
   "outputs": [],
   "source": [
    "Deg_Cent_2021 = sorted(Deg_Cent_2021_UnSort.items(), key=lambda x:x[1], reverse=True)\n",
    "Eig_Cent_2021 = sorted(Eig_Cent_2021_UnSort.items(), key=lambda x:x[1], reverse=True)\n",
    "Btw_Cent_2021 = sorted(Btw_Cent_2021_UnSort.items(), key=lambda x:x[1], reverse=True)"
   ]
  },
  {
   "cell_type": "markdown",
   "id": "d0bbf8a5",
   "metadata": {},
   "source": [
    "Let us look at betweenness centrality first"
   ]
  },
  {
   "cell_type": "code",
   "execution_count": null,
   "id": "ea893b33",
   "metadata": {},
   "outputs": [],
   "source": [
    "x = [Btw_Cent_2020[i][0] for i in range(len(Btw_Cent_2020[:10]))] # top 10 MEP according to betweenness centrality in 2020\n",
    "y1 = [Btw_Cent_2020_UnSort[x[i]] for i in range(len(x)) ]         #betweenness centrality values top 10 MEP in 2020\n",
    "y2=[]                                                             #betweenness centrality values top 10 MEP in 2021\n",
    "for i in range(len(x)):\n",
    "    try: \n",
    "        y2.append(Btw_Cent_2021_UnSort[x[i]])\n",
    "    except: \n",
    "        y2.append(0)\n",
    "          \n",
    "\n",
    "print(Btw_Cent_2021[:10])\n",
    "print(x)\n",
    "print(y1)\n",
    "print(y2)"
   ]
  },
  {
   "cell_type": "code",
   "execution_count": null,
   "id": "2668a746",
   "metadata": {},
   "outputs": [],
   "source": [
    "X_axis = np.arange(len(x))\n",
    "\n",
    "plt.bar(X_axis - 0.2, y1, 0.4, label = '2020 Centrality')\n",
    "plt.bar(X_axis + 0.2, y2, 0.4, label = '2021 Centrality')\n",
    "  \n",
    "plt.xticks(X_axis, x, rotation = 90)\n",
    "plt.xlabel(\"MEPs\")\n",
    "plt.ylabel(\"Betweenness centrality\")\n",
    "plt.title(\"Betweenness centrality changes:\")\n",
    "plt.legend()\n",
    "plt.show()"
   ]
  },
  {
   "cell_type": "markdown",
   "id": "7da4ea38",
   "metadata": {},
   "source": [
    "Basically the above graph represents the betweenness centrality changes for the top 10 EMPs (according to measurements from 2020)"
   ]
  },
  {
   "cell_type": "markdown",
   "id": "73f6f31d",
   "metadata": {},
   "source": [
    "Let us also look at Eigenvector Centrality but now let us observe the centrality measures in 2020, for the top 10 most influential MEPs (according to 2021 measurements). That is who the benificiaries of the changes were from 2020 to 2021."
   ]
  },
  {
   "cell_type": "code",
   "execution_count": null,
   "id": "e49297a1",
   "metadata": {},
   "outputs": [],
   "source": [
    "x = [Eig_Cent_2021[i][0] for i in range(len(Eig_Cent_2021[:10]))] # top 10 MEP according to eigenvector centrality in 2021\n",
    "y2 = [Eig_Cent_2021_UnSort[x[i]] for i in range(len(x)) ]         #eigenvector centrality values top 10 MEP in 2021\n",
    "y1=[]                                                             #eigenvector centrality values top 10 MEP in 2020\n",
    "for i in range(len(x)):\n",
    "    try: \n",
    "        y1.append(Eig_Cent_2020_UnSort[x[i]])\n",
    "    except: \n",
    "        y1.append(0)\n",
    "          \n",
    "\n",
    "print(Eig_Cent_2021[:10])\n",
    "print(x)\n",
    "print(y1)\n",
    "print(y2)"
   ]
  },
  {
   "cell_type": "code",
   "execution_count": null,
   "id": "3a5be1d6",
   "metadata": {
    "scrolled": false
   },
   "outputs": [],
   "source": [
    "X_axis = np.arange(len(x))\n",
    "\n",
    "plt.bar(X_axis - 0.2, y1, 0.4, label = '2020 Centrality')\n",
    "plt.bar(X_axis + 0.2, y2, 0.4, label = '2021 Centrality')\n",
    "  \n",
    "plt.xticks(X_axis, x, rotation = 90)\n",
    "plt.xlabel(\"MEPs\")\n",
    "plt.ylabel(\"Eigenvector centrality\")\n",
    "plt.title(\"Eigenvector centrality changes:\")\n",
    "plt.legend()\n",
    "plt.show()"
   ]
  },
  {
   "attachments": {},
   "cell_type": "markdown",
   "metadata": {},
   "source": [
    "## ..."
   ]
  },
  {
   "cell_type": "code",
   "execution_count": null,
   "id": "626f7e24",
   "metadata": {},
   "outputs": [],
   "source": [
    "All_projections_classic = [CreateBipartite(CreateNXGraph(split_data[i]), \"classic\", ListsMEP[i]) for i in range(len(split_data))]\n",
    "All_projections_weighted = [CreateBipartite(CreateNXGraph(split_data[i]), \"collab_weight\", ListsMEP[i]) for i in range(len(split_data))]"
   ]
  },
  {
   "cell_type": "markdown",
   "id": "5634b3b9",
   "metadata": {},
   "source": [
    "The list above (All_projection) contains the 12 different projections of the 12 different subgraphs we created. The two different lists correspond the 2 different ways of projections we created"
   ]
  },
  {
   "cell_type": "code",
   "execution_count": null,
   "id": "14f24f33",
   "metadata": {},
   "outputs": [],
   "source": [
    "# G_0 = All_projections_classic[0]\n",
    "# Gcc = sorted(nx.connected_components(G_0), key=len, reverse=True)\n",
    "# G_1 = G_0.subgraph(Gcc[0])\n",
    "# This code would give us the biggest component in a graph\n",
    "\n",
    "G_1 = All_projections_classic[0]\n",
    "\n",
    "#plt.figure(dpi = 800) #dpi = 500 ? \n",
    "matplotlib.rcParams[\"figure.dpi\"] = 800\n",
    "pos = nx.random_layout(G_1, seed=696)\n",
    "d = dict(G_1.degree)\n",
    "nx.draw(G_1, nodelist=d.keys(), node_size=[1 * int(v != 0)  for v in d.values()], width = 0.2)\n",
    "plt.plot()"
   ]
  },
  {
   "cell_type": "code",
   "execution_count": null,
   "id": "1c731e2f",
   "metadata": {},
   "outputs": [],
   "source": [
    "#The different EU parties: \n",
    "#EPP        -  European Peoples Party\n",
    "#S&D        -  Party of European Socialists\n",
    "#RE         -  Alliance of Liberals and Democrats for Europe Party  /  European Democratic Party\n",
    "#ECR        -  European Conservatives and Reformists Party\n",
    "#ID         -  Identity and Democracy Party\n",
    "#Greens/EFA -  European Green Party/European Free Alliance\n",
    "#GUE/NGL    -  Party of the European Left\n",
    "\n",
    "\n",
    "#(EPP  és ECR -\tEuropean Christian Political Movement)"
   ]
  },
  {
   "cell_type": "markdown",
   "id": "0ee34648",
   "metadata": {},
   "source": [
    "Hierarchic Cluster for the original graph and the colorful graph colored according to the EP groups"
   ]
  },
  {
   "cell_type": "code",
   "execution_count": null,
   "id": "ef046db8",
   "metadata": {},
   "outputs": [],
   "source": [
    "\n",
    "def Clustering(Graf,N_of_clusters):\n",
    "    return 0\n",
    "\n",
    "def coloring_list(Graf): \n",
    "    color_map = []\n",
    "    for node in Graf:\n",
    "        print(getMEPData(0,node)['EPGroup'])\n",
    "        if getMEPData(0,node)['EPGroup'] == 'EPP':\n",
    "            color_map.append('blue')\n",
    "        elif getMEPData(0,node)['EPGroup'] == 'S&D':\n",
    "            color_map.append('red')\n",
    "        elif getMEPData(0,node)['EPGroup'] == 'RE':\n",
    "            color_map.append('yellow')\n",
    "        elif getMEPData(0,node)['EPGroup'] == 'ECR':\n",
    "            color_map.append('orange')  \n",
    "        elif getMEPData(0,node)['EPGroup'] == 'ID':\n",
    "            color_map.append('white')   \n",
    "        elif getMEPData(0,node)['EPGroup'] == 'Greens/EFA':\n",
    "            color_map.append('green')\n",
    "        else:\n",
    "            color_map.append('white')\n",
    "\n",
    "    print(f\"Length of the color mapping:{len(color_map)}\")\n",
    "    print(f\"Length of the node list:{len(Graf.nodes())}\")\n",
    "    return color_map\n",
    "\n",
    "\n",
    "def Color_EPgroups_in_graph(Graf,color_map):\n",
    "    matplotlib.rcParams[\"figure.dpi\"] = 800\n",
    "    #plt.figure(dpi = 800)\n",
    "    d = dict(Graf.degree)\n",
    "    nx.draw(Graf, node_size=0.3, width = 0.1, node_color=color_map, with_labels=False) #node_size=[0.3 * int(v != 0)  for v in d.values()]\n",
    "    plt.plot()\n",
    "    return 0\n",
    "\n",
    "\n",
    "def Remove_0_deg_nodes(Graf):   #removes the 0 degree nodes from a graph \n",
    "    remove = [node for node,degree in dict(Graf.degree()).items() if degree < 1]\n",
    "    Graf.remove_nodes_from(remove)\n",
    "    return Graf\n",
    "\n",
    "\n",
    "def Greatest_component(Graf):   #returns the greatest component of a graph\n",
    "    Gcc = sorted(nx.connected_components(Graf), key=len, reverse=True)\n",
    "    Great_Component = Graf.subgraph(Gcc[0])    \n",
    "    return Great_Component\n"
   ]
  },
  {
   "cell_type": "code",
   "execution_count": null,
   "id": "c36d0a54",
   "metadata": {},
   "outputs": [],
   "source": [
    "ENTIRE_DATASET\n",
    "ALL_MEP_lista = listMEPs_div(ENTIRE_DATASET) \n",
    "The_Weighted_Graf = CreateBipartite(CreateNXGraph(ENTIRE_DATASET), \"collab_weight\", ALL_MEP_lista) \n",
    "The_Weighted_Graf = Greatest_component(The_Weighted_Graf)\n",
    "CM = coloring_list(The_Weighted_Graf)"
   ]
  },
  {
   "cell_type": "code",
   "execution_count": null,
   "id": "8b8fc4d9",
   "metadata": {},
   "outputs": [],
   "source": [
    "CM = Color_EPgroups_in_graph(The_Weighted_Graf, CM)\n",
    "    "
   ]
  },
  {
   "cell_type": "code",
   "execution_count": null,
   "id": "517a044d",
   "metadata": {},
   "outputs": [],
   "source": [
    "NNodes = [\"anna\", \"balazs\", \"cecil\", \"draven\", \"emil\", \"frufru\", \"gabi\", \"hajnal\" ]\n",
    "EEdges = [(\"anna\", \"balazs\"),(\"balazs\", \"cecil\"), (\"cecil\", \"draven\"), (\"draven\", \"anna\"), (\"emil\", \"frufru\"), (\"frufru\", \"gabi\"), (\"gabi\", \"hajnal\"), (\"hajnal\", \"emil\"), (\"anna\", \"emil\"), (\"balazs\", \"frufru\"), (\"cecil\", \"gabi\"), (\"draven\",\"hajnal\" )]\n",
    "G = nx.Graph(nodes = NNodes, edges = EEdges)"
   ]
  },
  {
   "cell_type": "code",
   "execution_count": null,
   "id": "af1634f3",
   "metadata": {},
   "outputs": [],
   "source": [
    "G = nx.cubical_graph()\n",
    "pos = nx.spring_layout(G, seed=3113794652)  # positions for all nodes\n",
    "\n",
    "# nodes\n",
    "options = {\"edgecolors\": \"tab:gray\", \"node_size\": 800, \"alpha\": 0.9}\n",
    "nx.draw_networkx_nodes(G, pos, nodelist=[0, 1, 2, 3], node_color=\"tab:red\", **options)\n",
    "nx.draw_networkx_nodes(G, pos, nodelist=[4, 5, 6, 7], node_color=\"tab:blue\", **options)\n",
    "\n",
    "# edges\n",
    "nx.draw_networkx_edges(G, pos, width=1.0, alpha=0.5)\n",
    "nx.draw_networkx_edges(\n",
    "    G,\n",
    "    pos,\n",
    "    edgelist=[(0, 1), (1, 2), (2, 3), (3, 0)],\n",
    "    width=8,\n",
    "    alpha=0.5,\n",
    "    edge_color=\"tab:red\",\n",
    ")\n",
    "nx.draw_networkx_edges(\n",
    "    G,\n",
    "    pos,\n",
    "    edgelist=[(4, 5), (5, 6), (6, 7), (7, 4)],\n",
    "    width=8,\n",
    "    alpha=0.5,\n",
    "    edge_color=\"tab:blue\",\n",
    ")\n",
    "\n",
    "\n",
    "# some math labels\n",
    "labels = {}\n",
    "labels[0] = r\"$a$\"\n",
    "labels[1] = r\"$b$\"\n",
    "labels[2] = r\"$c$\"\n",
    "labels[3] = r\"$d$\"\n",
    "labels[4] = r\"$\\alpha$\"\n",
    "labels[5] = r\"$\\beta$\"\n",
    "labels[6] = r\"$\\gamma$\"\n",
    "labels[7] = r\"$\\delta$\"\n",
    "nx.draw_networkx_labels(G, pos, labels, font_size=22, font_color=\"whitesmoke\")\n",
    "\n",
    "plt.tight_layout()\n",
    "plt.axis(\"off\")\n",
    "plt.show()"
   ]
  },
  {
   "attachments": {},
   "cell_type": "markdown",
   "metadata": {},
   "source": [
    "## ..."
   ]
  },
  {
   "cell_type": "code",
   "execution_count": null,
   "id": "8a7663d1",
   "metadata": {},
   "outputs": [],
   "source": [
    "def listMEPs_div(GDataset): # listing the different MEP names for the given dataset\n",
    "    o = pd.unique(GDataset['MEPName'])\n",
    "    return o\n",
    "       \n",
    "#defining 2 function for the projection creation\n",
    "def CreateNXGraph(Graph):\n",
    "    # we use MEPName instead of OfficialMEPID\n",
    "    G = nx.from_pandas_edgelist(Graph, source='AmendmentID', target='MEPName')\n",
    "    return G\n",
    "\n",
    "## ez miért createBIPARTITE?? pont hogy a bipartiteBÓL csinál egy nem bipartite-ot\n",
    "def CreateBipartite(myGraph, Gtype, MEP_lista):\n",
    "    #Gtype = which type of projection we use \n",
    "    if Gtype == \"classic\":\n",
    "        G = nx.algorithms.bipartite.projected_graph(myGraph, MEP_lista)\n",
    "    elif Gtype == \"collab_weight\":\n",
    "        G = nx.algorithms.bipartite.collaboration_weighted_projected_graph(myGraph, MEP_lista)\n",
    "    return G \n"
   ]
  },
  {
   "cell_type": "code",
   "execution_count": null,
   "id": "dadb1dc5",
   "metadata": {},
   "outputs": [],
   "source": [
    "ListsMEP = [set(listMEPs_div(miniGraph)) for miniGraph in split_data]#list for each subgraph\n",
    "#print(ListsMEP)\n",
    "meps_who_did_something_in_all_intervals = set.intersection(*ListsMEP)\n",
    "print(meps_who_did_something_in_all_intervals)\n",
    "print(len(meps_who_did_something_in_all_intervals))"
   ]
  }
 ],
 "metadata": {
  "kernelspec": {
   "display_name": "Python 3",
   "language": "python",
   "name": "python3"
  },
  "language_info": {
   "name": "python",
   "version": "3.8.10 (tags/v3.8.10:3d8993a, May  3 2021, 11:48:03) [MSC v.1928 64 bit (AMD64)]"
  },
  "orig_nbformat": 4,
  "vscode": {
   "interpreter": {
    "hash": "df657c42ffabd81f9be5aedeaf438ee88f88a1b63551a526ed49ba8a75d7a743"
   }
  }
 },
 "nbformat": 4,
 "nbformat_minor": 2
}
