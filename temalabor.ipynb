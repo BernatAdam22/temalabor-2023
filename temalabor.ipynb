{
 "cells": [
  {
   "cell_type": "code",
   "execution_count": 1,
   "id": "d373a0ec",
   "metadata": {},
   "outputs": [
    {
     "data": {
      "text/html": [
       "<style>.container { width:100% !important; }</style>"
      ],
      "text/plain": [
       "<IPython.core.display.HTML object>"
      ]
     },
     "metadata": {},
     "output_type": "display_data"
    }
   ],
   "source": [
    "import pandas as pd\n",
    "import networkx as nx\n",
    "import numpy as np\n",
    "import matplotlib.pyplot as plt\n",
    "import csv\n",
    "import datetime\n",
    "\n",
    "from IPython.display import display, HTML\n",
    "display(HTML(\"<style>.container { width:100% !important; }</style>\")) #ez hogy a rákban nem a defaultja a jupyternek?\n",
    "\n",
    "# saját függvényeink\n",
    "from functions import *"
   ]
  },
  {
   "cell_type": "code",
   "execution_count": 2,
   "id": "5ad2d2bd",
   "metadata": {},
   "outputs": [],
   "source": [
    "bipartite_data = createNxGraph()\n",
    "projected_graph = listMEPs()\n",
    "mep_social_network = nx.algorithms.bipartite.projected_graph(bipartite_data, projected_graph)"
   ]
  },
  {
   "cell_type": "markdown",
   "id": "b29aab64",
   "metadata": {},
   "source": [
    "Szóval, van egy 754 csúcsú gráfunk a social networkről, most már minden csúcs az MEP-k NEVÉVEL van címkézve. Így egy kicsit át kell írogatni valszeg algoritmusokat, de alapvetően mostly ugyanaz marad a buli."
   ]
  },
  {
   "attachments": {},
   "cell_type": "markdown",
   "id": "5f36a454",
   "metadata": {},
   "source": [
    "Két fő gráfunk van: az `mep_social_network` a fontosabb: ebben az MEP-k vannak, és az élek a co-sponsorship.\n",
    "A `bipartite_data` az eredeti páros gráf, amiben az egyik oldal az MEP-k, a másik oldal az amendmentek, és az él azt jelenti hogy az adott MEP sikeresen kontribuált az adott amendmenthez.\n",
    "\n",
    "TODO: kéne csinálni olyan gráfokat is, amik az időbeli változását tudják mutatni a dolognak."
   ]
  },
  {
   "cell_type": "code",
   "execution_count": 13,
   "id": "710eaa2a",
   "metadata": {},
   "outputs": [
    {
     "data": {
      "text/plain": [
       "[('Olivier CHASTEL', 5155),\n",
       " ('Lina GÁLVEZ MUÑOZ', 4483),\n",
       " ('Marc ANGEL', 4350),\n",
       " ('Maria-Manuel LEITÃO-MARQUES', 4245),\n",
       " ('Maria GRAPINI', 4200),\n",
       " ('Nicolae ŞTEFĂNUȚĂ', 3914),\n",
       " ('Milan BRGLEZ', 3650),\n",
       " ('Ramona STRUGARIU', 3544),\n",
       " ('Manuel PIZARRO', 3533),\n",
       " ('Dragoș PÎSLARU', 3491)]"
      ]
     },
     "execution_count": 13,
     "metadata": {},
     "output_type": "execute_result"
    }
   ],
   "source": [
    "degs = dict(bipartite_data.degree())\n",
    "\n",
    "sorted_nodes = sorted(degs.items(), key=lambda x: x[1], reverse=True)\n",
    "sorted_nodes[:10]"
   ]
  },
  {
   "cell_type": "markdown",
   "id": "7f7cba9c",
   "metadata": {},
   "source": [
    "Akkor I guess ezek a legaktívabb EP képviselők. Jár nekik a keksz.\n",
    "\n",
    "Itt megnézzük hogy ők kik és miért."
   ]
  },
  {
   "cell_type": "code",
   "execution_count": 14,
   "id": "b47c714f",
   "metadata": {},
   "outputs": [
    {
     "name": "stdout",
     "output_type": "stream",
     "text": [
      "{'OfficialMEPID': '197463', 'MEPName': 'Olivier CHASTEL', 'MemberState': 'Belgium', 'EPGroup': 'RE', 'NationalParty': 'Reformist Movement'}\n",
      "{'OfficialMEPID': '197702', 'MEPName': 'Lina GÁLVEZ MUÑOZ', 'MemberState': 'Spain', 'EPGroup': 'S&D', 'NationalParty': \"Spanish Socialist Workers' Party\"}\n",
      "{'OfficialMEPID': '202073', 'MEPName': 'Marc ANGEL', 'MemberState': 'Luxembourg', 'EPGroup': 'S&D', 'NationalParty': \"Luxembourg Socialist Worker's Party\"}\n",
      "{'OfficialMEPID': '197635', 'MEPName': 'Maria-Manuel LEITÃO-MARQUES', 'MemberState': 'Portugal', 'EPGroup': 'S&D', 'NationalParty': 'Socialist Party'}\n",
      "{'OfficialMEPID': '124785', 'MEPName': 'Maria GRAPINI', 'MemberState': 'Romania', 'EPGroup': 'S&D', 'NationalParty': 'Social Democratic Party'}\n",
      "{'OfficialMEPID': '58766', 'MEPName': 'Nicolae ŞTEFĂNUȚĂ', 'MemberState': 'Romania', 'EPGroup': 'RE', 'NationalParty': 'Save Romania Party'}\n",
      "{'OfficialMEPID': '197446', 'MEPName': 'Milan BRGLEZ', 'MemberState': 'Slovenia', 'EPGroup': 'S&D', 'NationalParty': 'Social Democrats'}\n",
      "{'OfficialMEPID': '134605', 'MEPName': 'Ramona STRUGARIU', 'MemberState': 'Romania', 'EPGroup': 'RE', 'NationalParty': 'Save Romania Party'}\n",
      "{'OfficialMEPID': '197732', 'MEPName': 'Manuel PIZARRO', 'MemberState': 'Portugal', 'EPGroup': 'S&D', 'NationalParty': 'Socialist Party'}\n",
      "{'OfficialMEPID': '197663', 'MEPName': 'Dragoș PÎSLARU', 'MemberState': 'Romania', 'EPGroup': 'RE', 'NationalParty': 'Save Romania Party'}\n"
     ]
    }
   ],
   "source": [
    "for i in sorted_nodes[:10]:\n",
    "    print(getMEPData(\"MEPName\", i[0]))"
   ]
  },
  {
   "cell_type": "markdown",
   "id": "0434c12f",
   "metadata": {},
   "source": [
    "Ami talán érezhető ezekből az adatokból, hogy a top 10 aktív MEP-nek a csoportja mind RE vagy S&D. A tagállamok közül Románia képviselteti magát nagyon erősen."
   ]
  },
  {
   "cell_type": "code",
   "execution_count": 17,
   "id": "7f59a948",
   "metadata": {},
   "outputs": [
    {
     "name": "stdout",
     "output_type": "stream",
     "text": [
      "{'Czechia': 1020, 'Poland': 2531, 'France': 4243, 'Netherlands': 1941, 'Slovakia': 1201, 'Romania': 2497, 'Spain': 3853, 'Croatia': 636, 'Greece': 1092, 'Portugal': 1406, 'Italy': 3550, 'United Kingdom': 268, 'Belgium': 1411, 'Germany': 5539, 'Finland': 859, 'Bulgaria': 1260, 'Ireland': 806, 'Hungary': 1135, 'Sweden': 1613, 'Malta': 614, 'Austria': 1272, 'Slovenia': 760, 'Latvia': 426, 'Cyprus': 502, 'Luxembourg': 623, 'Lithuania': 541, 'Estonia': 423, 'Denmark': 955, '': 175}\n"
     ]
    }
   ],
   "source": [
    "### melyik ország politikusai csináltak többet?\n",
    "\n",
    "contribs_by_country = {}\n",
    "\n",
    "for node in mep_social_network:\n",
    "    curr_country = getMEPData(\"MEPName\", node)[\"MemberState\"]\n",
    "    if curr_country not in contribs_by_country:\n",
    "        contribs_by_country[curr_country] = 0\n",
    "    contribs_by_country[curr_country] += mep_social_network.degree(node)\n",
    "\n",
    "del contribs_by_country[\"\"] # kidobom az üres stringet mert bruh\n",
    "print(contribs_by_country)"
   ]
  },
  {
   "attachments": {},
   "cell_type": "markdown",
   "id": "a81e11ab",
   "metadata": {},
   "source": [
    "TODO: ebből ábrát kéne csinálni, szépet, ami mutatja hogy melyik ország politikusai mennyit adnak hozzá a bulihoz"
   ]
  },
  {
   "cell_type": "code",
   "execution_count": 19,
   "id": "655b6a11",
   "metadata": {},
   "outputs": [
    {
     "name": "stdout",
     "output_type": "stream",
     "text": [
      "{'Czechia': 96.91978472025387, 'Poland': 66.54201672210608, 'France': 65.00773703915328, 'Netherlands': 110.34257247250133, 'Slovakia': 221.22785326827773, 'Romania': 131.04987111504965, 'Spain': 81.28555135295402, 'Croatia': 164.26328304965634, 'Greece': 104.67308783021028, 'Portugal': 135.93648150364697, 'Italy': 60.322119779781104, 'United Kingdom': 4.001194386383995, 'Belgium': 121.80585510645365, 'Germany': 66.54482680107976, 'Finland': 154.38616671189817, 'Bulgaria': 193.25778794375094, 'Ireland': 156.53102392458234, 'Hungary': 116.1391934885103, 'Sweden': 153.30432114793666, 'Malta': 1181.764640216182, 'Austria': 139.68618488257246, 'Slovenia': 360.6716085004603, 'Latvia': 225.01311255990447, 'Cyprus': 546.7813963620521, 'Luxembourg': 965.2973286209883, 'Lithuania': 192.47456471752668, 'Estonia': 317.6095339924795, 'Denmark': 160.97348673966155}\n"
     ]
    }
   ],
   "source": [
    "## ugyanez csak normáljuk az adatsort az országok populációjával\n",
    "contribs_by_country_per_million = { country : val*(10**6)/(getPopulationData(country)) for country, val in contribs_by_country.items()}\n",
    "print(contribs_by_country_per_million)"
   ]
  },
  {
   "cell_type": "code",
   "execution_count": 20,
   "id": "a368d0e7",
   "metadata": {},
   "outputs": [
    {
     "name": "stdout",
     "output_type": "stream",
     "text": [
      "{'Czechia': 48.57142857142857, 'Poland': 49.627450980392155, 'France': 57.33783783783784, 'Netherlands': 74.65384615384616, 'Slovakia': 92.38461538461539, 'Romania': 78.03125, 'Spain': 66.43103448275862, 'Croatia': 57.81818181818182, 'Greece': 52.0, 'Portugal': 66.95238095238095, 'Italy': 48.63013698630137, 'United Kingdom': 3.671232876712329, 'Belgium': 67.19047619047619, 'Germany': 57.697916666666664, 'Finland': 66.07692307692308, 'Bulgaria': 74.11764705882354, 'Ireland': 73.27272727272727, 'Hungary': 54.04761904761905, 'Sweden': 80.65, 'Malta': 102.33333333333333, 'Austria': 70.66666666666667, 'Slovenia': 95.0, 'Latvia': 53.25, 'Cyprus': 83.66666666666667, 'Luxembourg': 103.83333333333333, 'Lithuania': 49.18181818181818, 'Estonia': 70.5, 'Denmark': 73.46153846153847}\n"
     ]
    }
   ],
   "source": [
    "contribs_by_country_per_mep = { country : val/(getNumberOfMEPs(country)) for country, val in contribs_by_country.items()}\n",
    "print(contribs_by_country_per_mep)"
   ]
  },
  {
   "cell_type": "code",
   "execution_count": 21,
   "id": "67477635",
   "metadata": {},
   "outputs": [
    {
     "name": "stdout",
     "output_type": "stream",
     "text": [
      "{'EPP': 13384, 'ECR': 2118, 'ID': 2090, 'Greens/EFA': 2288, 'RE': 8995, 'S&D': 11672, 'NI': 614, 'GUE/NGL': 1816}\n"
     ]
    }
   ],
   "source": [
    "### melyik EP group politikusai csináltak többet?\n",
    "\n",
    "contribs_by_epgroup = {}\n",
    "\n",
    "for node in mep_social_network:\n",
    "    curr = getMEPData(\"MEPName\", node)[\"EPGroup\"]\n",
    "    if curr not in contribs_by_epgroup:\n",
    "        contribs_by_epgroup[curr] = 0\n",
    "    contribs_by_epgroup[curr] += mep_social_network.degree(node)\n",
    "del contribs_by_epgroup[\"\"]\n",
    "print(contribs_by_epgroup)"
   ]
  },
  {
   "cell_type": "code",
   "execution_count": 22,
   "id": "c71c3719",
   "metadata": {},
   "outputs": [
    {
     "name": "stdout",
     "output_type": "stream",
     "text": [
      "{'EPP': 73.53846153846153, 'ECR': 34.16129032258065, 'ID': 28.63013698630137, 'Greens/EFA': 30.91891891891892, 'RE': 83.28703703703704, 'S&D': 75.79220779220779, 'NI': 11.37037037037037, 'GUE/NGL': 44.292682926829265}\n"
     ]
    }
   ],
   "source": [
    "## ok és akkor representative-enként?\n",
    "\n",
    "contribs_by_epgroup_per_mep = { epgroup : val/(getNumberOfMEPs_by_epgroup(epgroup)) for epgroup, val in contribs_by_epgroup.items()}\n",
    "print(contribs_by_epgroup_per_mep)"
   ]
  },
  {
   "cell_type": "code",
   "execution_count": null,
   "id": "c6aa774b",
   "metadata": {},
   "outputs": [],
   "source": [
    "bipartite_data.nodes()"
   ]
  },
  {
   "cell_type": "code",
   "execution_count": 51,
   "id": "b1a08f75",
   "metadata": {},
   "outputs": [
    {
     "ename": "TypeError",
     "evalue": "'int' object is not subscriptable",
     "output_type": "error",
     "traceback": [
      "\u001b[1;31m---------------------------------------------------------------------------\u001b[0m",
      "\u001b[1;31mTypeError\u001b[0m                                 Traceback (most recent call last)",
      "Cell \u001b[1;32mIn[51], line 8\u001b[0m\n\u001b[0;32m      6\u001b[0m \u001b[39mfor\u001b[39;00m node \u001b[39min\u001b[39;00m bipartite_data\u001b[39m.\u001b[39mnodes():\n\u001b[0;32m      7\u001b[0m     \u001b[39mif\u001b[39;00m \u001b[39mtype\u001b[39m(node) \u001b[39m==\u001b[39m \u001b[39mint\u001b[39m: \u001b[39m# ez egy nagyon maszek módja hogy csak az amendmenteket nézzük\u001b[39;00m\n\u001b[1;32m----> 8\u001b[0m         \u001b[39mif\u001b[39;00m node[\u001b[39m1\u001b[39;49m]\u001b[39m.\u001b[39myear \u001b[39mnot\u001b[39;00m \u001b[39min\u001b[39;00m contribs_by_year:\n\u001b[0;32m      9\u001b[0m             contribs_by_year[node[\u001b[39m1\u001b[39m]\u001b[39m.\u001b[39myear] \u001b[39m=\u001b[39m \u001b[39m0\u001b[39m\n\u001b[0;32m     10\u001b[0m     \u001b[39mprint\u001b[39m(node)\n",
      "\u001b[1;31mTypeError\u001b[0m: 'int' object is not subscriptable"
     ]
    }
   ],
   "source": [
    "### melyik évben mennyit dolgoztak?\n",
    "### ez jelen pillanatban nem működik :(\n",
    "\n",
    "contribs_by_year = {}\n",
    "\n",
    "for node in bipartite_data.nodes():\n",
    "    if type(node) == int: # ez egy nagyon maszek módja hogy csak az amendmenteket nézzük\n",
    "        if node[1].year not in contribs_by_year:\n",
    "            contribs_by_year[node[1].year] = 0\n",
    "    print(node)\n",
    "        #contribs_by_year[node[1].year] += myGraph.degree(node)\n",
    "    #    contribs_by_year[node[1].year] += 1\n",
    "        \n",
    "#contribs_by_year"
   ]
  },
  {
   "cell_type": "markdown",
   "id": "e2579827",
   "metadata": {},
   "source": [
    "Nem igazán látszik se a COVID se az ukrajnai háború hatása a kontribúciók számában."
   ]
  },
  {
   "cell_type": "markdown",
   "id": "4f4bf044",
   "metadata": {},
   "source": [
    "## MEP_SOCIAL_NETWORK"
   ]
  },
  {
   "cell_type": "code",
   "execution_count": 24,
   "id": "c2b7808d",
   "metadata": {},
   "outputs": [
    {
     "data": {
      "text/plain": [
       "<networkx.classes.graph.Graph at 0x13ea79a6160>"
      ]
     },
     "execution_count": 24,
     "metadata": {},
     "output_type": "execute_result"
    }
   ],
   "source": [
    "mep_social_network"
   ]
  },
  {
   "cell_type": "code",
   "execution_count": 25,
   "id": "ef63e80e",
   "metadata": {},
   "outputs": [
    {
     "name": "stdout",
     "output_type": "stream",
     "text": [
      "Some information about this graph:\n",
      "Number of nodes: 754\n",
      "Number of edges: 21576\n",
      "\n"
     ]
    }
   ],
   "source": [
    "print(f\"Some information about this graph:\\n\"\n",
    "        f\"Number of nodes: {nx.number_of_nodes(mep_social_network)}\\n\"\n",
    "        f\"Number of edges: {nx.number_of_edges(mep_social_network)}\\n\")"
   ]
  },
  {
   "attachments": {},
   "cell_type": "markdown",
   "id": "cbfebc1d",
   "metadata": {},
   "source": [
    "## Degree centrality"
   ]
  },
  {
   "cell_type": "code",
   "execution_count": 31,
   "id": "24852810",
   "metadata": {},
   "outputs": [
    {
     "data": {
      "text/html": [
       "<div>\n",
       "<style scoped>\n",
       "    .dataframe tbody tr th:only-of-type {\n",
       "        vertical-align: middle;\n",
       "    }\n",
       "\n",
       "    .dataframe tbody tr th {\n",
       "        vertical-align: top;\n",
       "    }\n",
       "\n",
       "    .dataframe thead th {\n",
       "        text-align: right;\n",
       "    }\n",
       "</style>\n",
       "<table border=\"1\" class=\"dataframe\">\n",
       "  <thead>\n",
       "    <tr style=\"text-align: right;\">\n",
       "      <th></th>\n",
       "      <th>0</th>\n",
       "      <th>1</th>\n",
       "    </tr>\n",
       "  </thead>\n",
       "  <tbody>\n",
       "    <tr>\n",
       "      <th>278</th>\n",
       "      <td>Hilde VAUTMANS</td>\n",
       "      <td>183</td>\n",
       "    </tr>\n",
       "    <tr>\n",
       "      <th>499</th>\n",
       "      <td>#N/A</td>\n",
       "      <td>175</td>\n",
       "    </tr>\n",
       "    <tr>\n",
       "      <th>191</th>\n",
       "      <td>Karen MELCHIOR</td>\n",
       "      <td>173</td>\n",
       "    </tr>\n",
       "    <tr>\n",
       "      <th>541</th>\n",
       "      <td>Marc ANGEL</td>\n",
       "      <td>169</td>\n",
       "    </tr>\n",
       "    <tr>\n",
       "      <th>30</th>\n",
       "      <td>Olivier CHASTEL</td>\n",
       "      <td>167</td>\n",
       "    </tr>\n",
       "    <tr>\n",
       "      <th>519</th>\n",
       "      <td>Łukasz KOHUT</td>\n",
       "      <td>166</td>\n",
       "    </tr>\n",
       "    <tr>\n",
       "      <th>121</th>\n",
       "      <td>Michal ŠIMEČKA</td>\n",
       "      <td>160</td>\n",
       "    </tr>\n",
       "    <tr>\n",
       "      <th>319</th>\n",
       "      <td>Michal WIEZIK</td>\n",
       "      <td>152</td>\n",
       "    </tr>\n",
       "    <tr>\n",
       "      <th>118</th>\n",
       "      <td>Ramona STRUGARIU</td>\n",
       "      <td>151</td>\n",
       "    </tr>\n",
       "    <tr>\n",
       "      <th>227</th>\n",
       "      <td>Petras AUŠTREVIČIUS</td>\n",
       "      <td>151</td>\n",
       "    </tr>\n",
       "    <tr>\n",
       "      <th>263</th>\n",
       "      <td>Maria WALSH</td>\n",
       "      <td>146</td>\n",
       "    </tr>\n",
       "  </tbody>\n",
       "</table>\n",
       "</div>"
      ],
      "text/plain": [
       "                       0    1\n",
       "278       Hilde VAUTMANS  183\n",
       "499                 #N/A  175\n",
       "191       Karen MELCHIOR  173\n",
       "541           Marc ANGEL  169\n",
       "30       Olivier CHASTEL  167\n",
       "519         Łukasz KOHUT  166\n",
       "121       Michal ŠIMEČKA  160\n",
       "319        Michal WIEZIK  152\n",
       "118     Ramona STRUGARIU  151\n",
       "227  Petras AUŠTREVIČIUS  151\n",
       "263          Maria WALSH  146"
      ]
     },
     "execution_count": 31,
     "metadata": {},
     "output_type": "execute_result"
    }
   ],
   "source": [
    "socnetworkdegree = pd.DataFrame(mep_social_network.degree)\n",
    "top10degree = socnetworkdegree.sort_values(1, ascending=False)[0:11]\n",
    "top10degree"
   ]
  },
  {
   "cell_type": "code",
   "execution_count": 32,
   "id": "5d89f539",
   "metadata": {},
   "outputs": [
    {
     "name": "stdout",
     "output_type": "stream",
     "text": [
      "Hilde VAUTMANS Belgium RE 183\n",
      "#N/A   175\n",
      "Karen MELCHIOR Denmark RE 173\n",
      "Marc ANGEL Luxembourg S&D 169\n",
      "Olivier CHASTEL Belgium RE 167\n",
      "Łukasz KOHUT Poland S&D 166\n",
      "Michal ŠIMEČKA Slovakia RE 160\n",
      "Michal WIEZIK Slovakia EPP 152\n",
      "Ramona STRUGARIU Romania RE 151\n",
      "Petras AUŠTREVIČIUS Lithuania RE 151\n",
      "Maria WALSH Ireland EPP 146\n"
     ]
    }
   ],
   "source": [
    "for i in top10degree.values:\n",
    "    print(i[0], getMEPData(\"MEPName\", i[0])[\"MemberState\"], getMEPData(\"MEPName\", i[0])[\"EPGroup\"], i[1])"
   ]
  },
  {
   "cell_type": "code",
   "execution_count": 35,
   "id": "be7050ce",
   "metadata": {},
   "outputs": [
    {
     "name": "stdout",
     "output_type": "stream",
     "text": [
      "Hilde VAUTMANS & Belgium & RE & 183 \\\\ \n",
      "#N/A &  &  & 175 \\\\ \n",
      "Karen MELCHIOR & Denmark & RE & 173 \\\\ \n",
      "Marc ANGEL & Luxembourg & S&D & 169 \\\\ \n",
      "Olivier CHASTEL & Belgium & RE & 167 \\\\ \n",
      "Łukasz KOHUT & Poland & S&D & 166 \\\\ \n",
      "Michal ŠIMEČKA & Slovakia & RE & 160 \\\\ \n",
      "Michal WIEZIK & Slovakia & EPP & 152 \\\\ \n",
      "Ramona STRUGARIU & Romania & RE & 151 \\\\ \n",
      "Petras AUŠTREVIČIUS & Lithuania & RE & 151 \\\\ \n",
      "Maria WALSH & Ireland & EPP & 146 \\\\ \n",
      "\n"
     ]
    }
   ],
   "source": [
    "print(pandasToLatex(top10degree.values))"
   ]
  },
  {
   "attachments": {},
   "cell_type": "markdown",
   "id": "9c012d34",
   "metadata": {},
   "source": [
    "## Closeness centrality"
   ]
  },
  {
   "cell_type": "code",
   "execution_count": 40,
   "id": "88c8ff10",
   "metadata": {},
   "outputs": [],
   "source": [
    "closeness_centrality_dict = pd.DataFrame.from_dict(nx.closeness_centrality(mep_social_network), orient=\"index\")"
   ]
  },
  {
   "cell_type": "code",
   "execution_count": 46,
   "id": "79d5dddb",
   "metadata": {},
   "outputs": [
    {
     "data": {
      "text/html": [
       "<div>\n",
       "<style scoped>\n",
       "    .dataframe tbody tr th:only-of-type {\n",
       "        vertical-align: middle;\n",
       "    }\n",
       "\n",
       "    .dataframe tbody tr th {\n",
       "        vertical-align: top;\n",
       "    }\n",
       "\n",
       "    .dataframe thead th {\n",
       "        text-align: right;\n",
       "    }\n",
       "</style>\n",
       "<table border=\"1\" class=\"dataframe\">\n",
       "  <thead>\n",
       "    <tr style=\"text-align: right;\">\n",
       "      <th></th>\n",
       "      <th>0</th>\n",
       "    </tr>\n",
       "  </thead>\n",
       "  <tbody>\n",
       "    <tr>\n",
       "      <th>Hilde VAUTMANS</th>\n",
       "      <td>0.543362</td>\n",
       "    </tr>\n",
       "    <tr>\n",
       "      <th>#N/A</th>\n",
       "      <td>0.535383</td>\n",
       "    </tr>\n",
       "    <tr>\n",
       "      <th>Sophia in 't VELD</th>\n",
       "      <td>0.526492</td>\n",
       "    </tr>\n",
       "    <tr>\n",
       "      <th>Petras AUŠTREVIČIUS</th>\n",
       "      <td>0.526112</td>\n",
       "    </tr>\n",
       "    <tr>\n",
       "      <th>Maria GRAPINI</th>\n",
       "      <td>0.521223</td>\n",
       "    </tr>\n",
       "    <tr>\n",
       "      <th>Fabio Massimo CASTALDO</th>\n",
       "      <td>0.521223</td>\n",
       "    </tr>\n",
       "    <tr>\n",
       "      <th>Łukasz KOHUT</th>\n",
       "      <td>0.517892</td>\n",
       "    </tr>\n",
       "    <tr>\n",
       "      <th>Maria da Graça CARVALHO</th>\n",
       "      <td>0.516790</td>\n",
       "    </tr>\n",
       "    <tr>\n",
       "      <th>Karen MELCHIOR</th>\n",
       "      <td>0.516059</td>\n",
       "    </tr>\n",
       "    <tr>\n",
       "      <th>Marc ANGEL</th>\n",
       "      <td>0.513877</td>\n",
       "    </tr>\n",
       "    <tr>\n",
       "      <th>Olivier CHASTEL</th>\n",
       "      <td>0.513877</td>\n",
       "    </tr>\n",
       "  </tbody>\n",
       "</table>\n",
       "</div>"
      ],
      "text/plain": [
       "                                0\n",
       "Hilde VAUTMANS           0.543362\n",
       "#N/A                     0.535383\n",
       "Sophia in 't VELD        0.526492\n",
       "Petras AUŠTREVIČIUS      0.526112\n",
       "Maria GRAPINI            0.521223\n",
       "Fabio Massimo CASTALDO   0.521223\n",
       "Łukasz KOHUT             0.517892\n",
       "Maria da Graça CARVALHO  0.516790\n",
       "Karen MELCHIOR           0.516059\n",
       "Marc ANGEL               0.513877\n",
       "Olivier CHASTEL          0.513877"
      ]
     },
     "execution_count": 46,
     "metadata": {},
     "output_type": "execute_result"
    }
   ],
   "source": [
    "closeness_centrality_dict.sort_values(0, ascending=False)[0:11]"
   ]
  },
  {
   "attachments": {},
   "cell_type": "markdown",
   "id": "fc9fd91c",
   "metadata": {},
   "source": [
    "## Homophily"
   ]
  },
  {
   "cell_type": "code",
   "execution_count": 47,
   "id": "df18013b",
   "metadata": {},
   "outputs": [],
   "source": [
    "## homophily = sum( (E - I)/(E + I)  ), ahol E = external, I = internal"
   ]
  },
  {
   "cell_type": "code",
   "execution_count": null,
   "id": "5a34b767",
   "metadata": {},
   "outputs": [],
   "source": [
    "# calculate homophily of each node in the graph G, based on the property `property`\n",
    "# \n",
    "def homophily(G, property):\n",
    "    pass"
   ]
  }
 ],
 "metadata": {
  "kernelspec": {
   "display_name": "Python 3",
   "language": "python",
   "name": "python3"
  },
  "language_info": {
   "codemirror_mode": {
    "name": "ipython",
    "version": 3
   },
   "file_extension": ".py",
   "mimetype": "text/x-python",
   "name": "python",
   "nbconvert_exporter": "python",
   "pygments_lexer": "ipython3",
   "version": "3.8.10"
  },
  "vscode": {
   "interpreter": {
    "hash": "df657c42ffabd81f9be5aedeaf438ee88f88a1b63551a526ed49ba8a75d7a743"
   }
  }
 },
 "nbformat": 4,
 "nbformat_minor": 5
}
