{
 "cells": [
  {
   "cell_type": "code",
   "execution_count": 1,
   "id": "d373a0ec",
   "metadata": {},
   "outputs": [
    {
     "data": {
      "text/html": [
       "<style>.container { width:100% !important; }</style>"
      ],
      "text/plain": [
       "<IPython.core.display.HTML object>"
      ]
     },
     "metadata": {},
     "output_type": "display_data"
    }
   ],
   "source": [
    "import pandas as pd\n",
    "import networkx as nx\n",
    "import numpy as np\n",
    "import matplotlib.pyplot as plt\n",
    "import csv\n",
    "import datetime\n",
    "\n",
    "from IPython.display import display, HTML\n",
    "display(HTML(\"<style>.container { width:100% !important; }</style>\")) #ez hogy a rákban nem a defaultja a jupyternek?\n",
    "\n",
    "# saját függvényeink\n",
    "from functions import *"
   ]
  },
  {
   "cell_type": "code",
   "execution_count": 2,
   "metadata": {},
   "outputs": [],
   "source": [
    "bipartite_data = createNxGraph()\n",
    "projected_graph = listMEPs()\n",
    "mep_social_network = nx.algorithms.bipartite.projected_graph(bipartite_data, projected_graph)"
   ]
  },
  {
   "cell_type": "markdown",
   "id": "9f90aedd",
   "metadata": {},
   "source": [
    "# SPLITTING THE DATA"
   ]
  },
  {
   "cell_type": "code",
   "execution_count": 3,
   "id": "6925fd61",
   "metadata": {
    "scrolled": true
   },
   "outputs": [],
   "source": [
    "import datetime"
   ]
  },
  {
   "cell_type": "code",
   "execution_count": 4,
   "id": "72c19236",
   "metadata": {},
   "outputs": [],
   "source": [
    "ENTIRE_DATASET[\"Date\"] = pd.to_datetime(ENTIRE_DATASET[\"Date\"], format = \"%d/%m/%Y\")"
   ]
  },
  {
   "cell_type": "code",
   "execution_count": 6,
   "id": "a4585a2f",
   "metadata": {},
   "outputs": [],
   "source": [
    "# https://stackoverflow.com/questions/55268578/split-dataframe-by-month\n",
    "\n",
    "# groupby your key and freq\n",
    "g = ENTIRE_DATASET.groupby(pd.Grouper(key='Date', freq='M'))\n",
    "# groups to a list of dataframes with list comprehension\n",
    "split_data = [group for _,group in g]"
   ]
  },
  {
   "cell_type": "code",
   "execution_count": 7,
   "id": "39f79e28",
   "metadata": {},
   "outputs": [
    {
     "name": "stdout",
     "output_type": "stream",
     "text": [
      "229\n",
      "397\n",
      "1935\n",
      "3730\n",
      "7928\n",
      "3932\n",
      "6730\n",
      "9869\n",
      "6034\n",
      "8081\n",
      "40262\n",
      "31372\n",
      "27835\n",
      "929\n",
      "39157\n",
      "30400\n",
      "16180\n",
      "23771\n",
      "11720\n",
      "31572\n",
      "23648\n",
      "23850\n",
      "20243\n",
      "42070\n",
      "32784\n",
      "223\n",
      "18193\n",
      "19887\n",
      "13349\n",
      "35827\n",
      "19644\n",
      "54861\n",
      "48387\n",
      "20055\n",
      "13035\n",
      "39045\n",
      "19659\n",
      "3956\n",
      "193\n",
      "SUM = 750972\n"
     ]
    }
   ],
   "source": [
    "s = 0\n",
    "for i in split_data:\n",
    "    x = len(i)\n",
    "    print(x)\n",
    "    s += x\n",
    "print(f\"SUM = {s}\")"
   ]
  },
  {
   "cell_type": "markdown",
   "id": "2ce3f636",
   "metadata": {},
   "source": [
    "^- Ennyi adatpontunk van intervallumonként. Nekem balanceoltnak tűnik őszintén szólva."
   ]
  },
  {
   "cell_type": "markdown",
   "id": "c0e3dde5",
   "metadata": {},
   "source": [
    "Most megcsináljuk basically ugyanazt az analízist mint fönt, csak minden intervallumra külön."
   ]
  },
  {
   "cell_type": "code",
   "execution_count": 8,
   "metadata": {},
   "outputs": [
    {
     "name": "stdout",
     "output_type": "stream",
     "text": [
      "set()\n",
      "0\n"
     ]
    }
   ],
   "source": [
    "def listMEPs_div(GDataset): # listing the different MEP names for the given dataset\n",
    "    o = pd.unique(GDataset['MEPName'])\n",
    "    return o\n",
    "ListsMEP = [set(listMEPs_div(miniGraph)) for miniGraph in split_data]#list for each subgraph\n",
    "#print(ListsMEP)\n",
    "meps_who_did_something_in_all_intervals = set.intersection(*ListsMEP)\n",
    "print(meps_who_did_something_in_all_intervals)\n",
    "print(len(meps_who_did_something_in_all_intervals))"
   ]
  },
  {
   "cell_type": "code",
   "execution_count": 9,
   "id": "11a984e5",
   "metadata": {},
   "outputs": [
    {
     "name": "stdout",
     "output_type": "stream",
     "text": [
      "{}\n",
      "{}\n"
     ]
    }
   ],
   "source": [
    "by_country = {}\n",
    "by_polgroup = {}\n",
    "for mep in meps_who_did_something_in_all_intervals:\n",
    "    curr_country = getMEPData(\"MEPName\", mep)[\"MemberState\"]\n",
    "    curr_polgroup = getMEPData(\"MEPName\", mep)[\"EPGroup\"]\n",
    "    if curr_country not in by_country:\n",
    "        by_country[curr_country] = 0\n",
    "    if curr_polgroup not in by_polgroup:\n",
    "        by_polgroup[curr_polgroup] = 0\n",
    "    by_country[curr_country] += 1\n",
    "    by_polgroup[curr_polgroup] += 1\n",
    "\n",
    "print(by_country)\n",
    "print(by_polgroup)\n",
    "    "
   ]
  },
  {
   "cell_type": "code",
   "execution_count": null,
   "metadata": {},
   "outputs": [],
   "source": []
  }
 ],
 "metadata": {
  "kernelspec": {
   "display_name": "Python 3",
   "language": "python",
   "name": "python3"
  },
  "language_info": {
   "codemirror_mode": {
    "name": "ipython",
    "version": 3
   },
   "file_extension": ".py",
   "mimetype": "text/x-python",
   "name": "python",
   "nbconvert_exporter": "python",
   "pygments_lexer": "ipython3",
   "version": "3.8.10"
  },
  "orig_nbformat": 4,
  "vscode": {
   "interpreter": {
    "hash": "df657c42ffabd81f9be5aedeaf438ee88f88a1b63551a526ed49ba8a75d7a743"
   }
  }
 },
 "nbformat": 4,
 "nbformat_minor": 2
}
