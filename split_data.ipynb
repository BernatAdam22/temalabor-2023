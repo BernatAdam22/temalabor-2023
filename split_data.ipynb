{
 "cells": [
  {
   "cell_type": "code",
   "execution_count": 1,
   "id": "d373a0ec",
   "metadata": {},
   "outputs": [
    {
     "data": {
      "text/html": [
       "<style>.container { width:100% !important; }</style>"
      ],
      "text/plain": [
       "<IPython.core.display.HTML object>"
      ]
     },
     "metadata": {},
     "output_type": "display_data"
    }
   ],
   "source": [
    "import pandas as pd\n",
    "import networkx as nx\n",
    "import numpy as np\n",
    "import matplotlib.pyplot as plt\n",
    "import csv\n",
    "import datetime\n",
    "\n",
    "from IPython.display import display, HTML\n",
    "display(HTML(\"<style>.container { width:100% !important; }</style>\")) #ez hogy a rákban nem a defaultja a jupyternek?\n",
    "\n",
    "# saját függvényeink\n",
    "from functions import *"
   ]
  },
  {
   "cell_type": "code",
   "execution_count": 2,
   "metadata": {},
   "outputs": [],
   "source": [
    "bipartite_data = createNxGraph()\n",
    "projected_graph = listMEPs()\n",
    "mep_social_network = nx.algorithms.bipartite.projected_graph(bipartite_data, projected_graph)"
   ]
  },
  {
   "cell_type": "markdown",
   "id": "9f90aedd",
   "metadata": {},
   "source": [
    "# SPLITTING THE DATA"
   ]
  },
  {
   "cell_type": "code",
   "execution_count": 3,
   "id": "6925fd61",
   "metadata": {
    "scrolled": true
   },
   "outputs": [],
   "source": [
    "import datetime"
   ]
  },
  {
   "cell_type": "code",
   "execution_count": 4,
   "id": "72c19236",
   "metadata": {},
   "outputs": [],
   "source": [
    "ENTIRE_DATASET[\"Date\"] = pd.to_datetime(ENTIRE_DATASET[\"Date\"], format = \"%d/%m/%Y\")"
   ]
  },
  {
   "cell_type": "code",
   "execution_count": 6,
   "id": "a4585a2f",
   "metadata": {},
   "outputs": [],
   "source": [
    "# https://stackoverflow.com/questions/55268578/split-dataframe-by-month\n",
    "\n",
    "# groupby your key and freq\n",
    "g = ENTIRE_DATASET.groupby(pd.Grouper(key='Date', freq='M'))\n",
    "# groups to a list of dataframes with list comprehension\n",
    "split_data = [group for _,group in g]"
   ]
  },
  {
   "cell_type": "code",
   "execution_count": 7,
   "id": "39f79e28",
   "metadata": {},
   "outputs": [
    {
     "name": "stdout",
     "output_type": "stream",
     "text": [
      "229\n",
      "397\n",
      "1935\n",
      "3730\n",
      "7928\n",
      "3932\n",
      "6730\n",
      "9869\n",
      "6034\n",
      "8081\n",
      "40262\n",
      "31372\n",
      "27835\n",
      "929\n",
      "39157\n",
      "30400\n",
      "16180\n",
      "23771\n",
      "11720\n",
      "31572\n",
      "23648\n",
      "23850\n",
      "20243\n",
      "42070\n",
      "32784\n",
      "223\n",
      "18193\n",
      "19887\n",
      "13349\n",
      "35827\n",
      "19644\n",
      "54861\n",
      "48387\n",
      "20055\n",
      "13035\n",
      "39045\n",
      "19659\n",
      "3956\n",
      "193\n",
      "SUM = 750972\n"
     ]
    }
   ],
   "source": [
    "s = 0\n",
    "for i in split_data:\n",
    "    x = len(i)\n",
    "    print(x)\n",
    "    s += x\n",
    "print(f\"SUM = {s}\")"
   ]
  },
  {
   "cell_type": "markdown",
   "id": "2ce3f636",
   "metadata": {},
   "source": [
    "^- Ennyi adatpontunk van intervallumonként. Nekem balanceoltnak tűnik őszintén szólva."
   ]
  },
  {
   "cell_type": "markdown",
   "id": "c0e3dde5",
   "metadata": {},
   "source": [
    "Most megcsináljuk basically ugyanazt az analízist mint fönt, csak minden intervallumra külön."
   ]
  },
  {
   "cell_type": "code",
   "execution_count": 8,
   "metadata": {},
   "outputs": [
    {
     "name": "stdout",
     "output_type": "stream",
     "text": [
      "set()\n",
      "0\n"
     ]
    }
   ],
   "source": [
    "def listMEPs_div(GDataset): # listing the different MEP names for the given dataset\n",
    "    o = pd.unique(GDataset['MEPName'])\n",
    "    return o\n",
    "ListsMEP = [set(listMEPs_div(miniGraph)) for miniGraph in split_data]#list for each subgraph\n",
    "#print(ListsMEP)\n",
    "meps_who_did_something_in_all_intervals = set.intersection(*ListsMEP)\n",
    "print(meps_who_did_something_in_all_intervals)\n",
    "print(len(meps_who_did_something_in_all_intervals))"
   ]
  },
  {
   "cell_type": "code",
   "execution_count": 9,
   "id": "11a984e5",
   "metadata": {},
   "outputs": [
    {
     "name": "stdout",
     "output_type": "stream",
     "text": [
      "{}\n",
      "{}\n"
     ]
    }
   ],
   "source": [
    "by_country = {}\n",
    "by_polgroup = {}\n",
    "for mep in meps_who_did_something_in_all_intervals:\n",
    "    curr_country = getMEPData(\"MEPName\", mep)[\"MemberState\"]\n",
    "    curr_polgroup = getMEPData(\"MEPName\", mep)[\"EPGroup\"]\n",
    "    if curr_country not in by_country:\n",
    "        by_country[curr_country] = 0\n",
    "    if curr_polgroup not in by_polgroup:\n",
    "        by_polgroup[curr_polgroup] = 0\n",
    "    by_country[curr_country] += 1\n",
    "    by_polgroup[curr_polgroup] += 1\n",
    "\n",
    "print(by_country)\n",
    "print(by_polgroup)\n",
    "    "
   ]
  },
  {
   "cell_type": "code",
   "execution_count": 10,
   "id": "5c8cc2ba",
   "metadata": {},
   "outputs": [
    {
     "ename": "KeyboardInterrupt",
     "evalue": "",
     "output_type": "error",
     "traceback": [
      "\u001b[1;31m---------------------------------------------------------------------------\u001b[0m",
      "\u001b[1;31mKeyboardInterrupt\u001b[0m                         Traceback (most recent call last)",
      "Cell \u001b[1;32mIn[10], line 4\u001b[0m\n\u001b[0;32m      2\u001b[0m contribs_by_country \u001b[39m=\u001b[39m {}\n\u001b[0;32m      3\u001b[0m \u001b[39mfor\u001b[39;00m node \u001b[39min\u001b[39;00m mep_social_network:\n\u001b[1;32m----> 4\u001b[0m     curr_country \u001b[39m=\u001b[39m getMEPData(\u001b[39m\"\u001b[39;49m\u001b[39mMEPName\u001b[39;49m\u001b[39m\"\u001b[39;49m, node)[\u001b[39m\"\u001b[39m\u001b[39mMemberState\u001b[39m\u001b[39m\"\u001b[39m]\n\u001b[0;32m      5\u001b[0m     \u001b[39mif\u001b[39;00m curr_country \u001b[39mnot\u001b[39;00m \u001b[39min\u001b[39;00m contribs_by_country:\n\u001b[0;32m      6\u001b[0m         contribs_by_country[curr_country] \u001b[39m=\u001b[39m \u001b[39m0\u001b[39m\n",
      "File \u001b[1;32md:\\Users\\Én\\Documents\\tan\\2023 2\\Témalabor 2\\temalabor-2023\\functions.py:203\u001b[0m, in \u001b[0;36mgetMEPData\u001b[1;34m(column, value)\u001b[0m\n\u001b[0;32m    202\u001b[0m \u001b[39mdef\u001b[39;00m \u001b[39mgetMEPData\u001b[39m(column, value):\n\u001b[1;32m--> 203\u001b[0m     x \u001b[39m=\u001b[39m ENTIRE_DATASET\u001b[39m.\u001b[39;49mloc[ENTIRE_DATASET[column] \u001b[39m==\u001b[39;49m value]\n\u001b[0;32m    204\u001b[0m     x \u001b[39m=\u001b[39m x\u001b[39m.\u001b[39miloc[\u001b[39m0\u001b[39m]\n\u001b[0;32m    205\u001b[0m     x \u001b[39m=\u001b[39m x\u001b[39m.\u001b[39mdrop([\u001b[39m'\u001b[39m\u001b[39mAmendmentID\u001b[39m\u001b[39m'\u001b[39m,\n\u001b[0;32m    206\u001b[0m                           \u001b[39m'\u001b[39m\u001b[39mCommittee\u001b[39m\u001b[39m'\u001b[39m,\n\u001b[0;32m    207\u001b[0m                           \u001b[39m'\u001b[39m\u001b[39mDossier\u001b[39m\u001b[39m'\u001b[39m,\n\u001b[0;32m    208\u001b[0m                           \u001b[39m'\u001b[39m\u001b[39mPENumber\u001b[39m\u001b[39m'\u001b[39m,\n\u001b[0;32m    209\u001b[0m                           \u001b[39m'\u001b[39m\u001b[39mDocumentType\u001b[39m\u001b[39m'\u001b[39m,\n\u001b[0;32m    210\u001b[0m                           \u001b[39m'\u001b[39m\u001b[39mDate\u001b[39m\u001b[39m'\u001b[39m])\n",
      "File \u001b[1;32m~\\AppData\\Local\\Packages\\PythonSoftwareFoundation.Python.3.8_qbz5n2kfra8p0\\LocalCache\\local-packages\\Python38\\site-packages\\pandas\\core\\indexing.py:1103\u001b[0m, in \u001b[0;36m_LocationIndexer.__getitem__\u001b[1;34m(self, key)\u001b[0m\n\u001b[0;32m   1100\u001b[0m axis \u001b[39m=\u001b[39m \u001b[39mself\u001b[39m\u001b[39m.\u001b[39maxis \u001b[39mor\u001b[39;00m \u001b[39m0\u001b[39m\n\u001b[0;32m   1102\u001b[0m maybe_callable \u001b[39m=\u001b[39m com\u001b[39m.\u001b[39mapply_if_callable(key, \u001b[39mself\u001b[39m\u001b[39m.\u001b[39mobj)\n\u001b[1;32m-> 1103\u001b[0m \u001b[39mreturn\u001b[39;00m \u001b[39mself\u001b[39;49m\u001b[39m.\u001b[39;49m_getitem_axis(maybe_callable, axis\u001b[39m=\u001b[39;49maxis)\n",
      "File \u001b[1;32m~\\AppData\\Local\\Packages\\PythonSoftwareFoundation.Python.3.8_qbz5n2kfra8p0\\LocalCache\\local-packages\\Python38\\site-packages\\pandas\\core\\indexing.py:1325\u001b[0m, in \u001b[0;36m_LocIndexer._getitem_axis\u001b[1;34m(self, key, axis)\u001b[0m\n\u001b[0;32m   1323\u001b[0m     \u001b[39mreturn\u001b[39;00m \u001b[39mself\u001b[39m\u001b[39m.\u001b[39m_get_slice_axis(key, axis\u001b[39m=\u001b[39maxis)\n\u001b[0;32m   1324\u001b[0m \u001b[39melif\u001b[39;00m com\u001b[39m.\u001b[39mis_bool_indexer(key):\n\u001b[1;32m-> 1325\u001b[0m     \u001b[39mreturn\u001b[39;00m \u001b[39mself\u001b[39;49m\u001b[39m.\u001b[39;49m_getbool_axis(key, axis\u001b[39m=\u001b[39;49maxis)\n\u001b[0;32m   1326\u001b[0m \u001b[39melif\u001b[39;00m is_list_like_indexer(key):\n\u001b[0;32m   1327\u001b[0m     \u001b[39m# an iterable multi-selection\u001b[39;00m\n\u001b[0;32m   1328\u001b[0m     \u001b[39mif\u001b[39;00m \u001b[39mnot\u001b[39;00m (\u001b[39misinstance\u001b[39m(key, \u001b[39mtuple\u001b[39m) \u001b[39mand\u001b[39;00m \u001b[39misinstance\u001b[39m(labels, MultiIndex)):\n",
      "File \u001b[1;32m~\\AppData\\Local\\Packages\\PythonSoftwareFoundation.Python.3.8_qbz5n2kfra8p0\\LocalCache\\local-packages\\Python38\\site-packages\\pandas\\core\\indexing.py:1122\u001b[0m, in \u001b[0;36m_LocationIndexer._getbool_axis\u001b[1;34m(self, key, axis)\u001b[0m\n\u001b[0;32m   1120\u001b[0m labels \u001b[39m=\u001b[39m \u001b[39mself\u001b[39m\u001b[39m.\u001b[39mobj\u001b[39m.\u001b[39m_get_axis(axis)\n\u001b[0;32m   1121\u001b[0m key \u001b[39m=\u001b[39m check_bool_indexer(labels, key)\n\u001b[1;32m-> 1122\u001b[0m inds \u001b[39m=\u001b[39m key\u001b[39m.\u001b[39;49mnonzero()[\u001b[39m0\u001b[39m]\n\u001b[0;32m   1123\u001b[0m \u001b[39mreturn\u001b[39;00m \u001b[39mself\u001b[39m\u001b[39m.\u001b[39mobj\u001b[39m.\u001b[39m_take_with_is_copy(inds, axis\u001b[39m=\u001b[39maxis)\n",
      "\u001b[1;31mKeyboardInterrupt\u001b[0m: "
     ]
    }
   ],
   "source": [
    "for i in split_data:\n",
    "    contribs_by_country = {}\n",
    "    for node in mep_social_network:\n",
    "        curr_country = getMEPData(\"MEPName\", node)[\"MemberState\"]\n",
    "        if curr_country not in contribs_by_country:\n",
    "            contribs_by_country[curr_country] = 0\n",
    "        contribs_by_country[curr_country] += mep_social_network.degree(node)"
   ]
  },
  {
   "cell_type": "code",
   "execution_count": null,
   "metadata": {},
   "outputs": [],
   "source": []
  }
 ],
 "metadata": {
  "kernelspec": {
   "display_name": "Python 3",
   "language": "python",
   "name": "python3"
  },
  "language_info": {
   "codemirror_mode": {
    "name": "ipython",
    "version": 3
   },
   "file_extension": ".py",
   "mimetype": "text/x-python",
   "name": "python",
   "nbconvert_exporter": "python",
   "pygments_lexer": "ipython3",
   "version": "3.8.10"
  },
  "orig_nbformat": 4,
  "vscode": {
   "interpreter": {
    "hash": "df657c42ffabd81f9be5aedeaf438ee88f88a1b63551a526ed49ba8a75d7a743"
   }
  }
 },
 "nbformat": 4,
 "nbformat_minor": 2
}
